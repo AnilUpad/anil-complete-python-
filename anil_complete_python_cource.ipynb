{
  "nbformat": 4,
  "nbformat_minor": 0,
  "metadata": {
    "colab": {
      "provenance": [],
      "authorship_tag": "ABX9TyOJpeAvnkc5Iye/wkqrGmxx",
      "include_colab_link": true
    },
    "kernelspec": {
      "name": "python3",
      "display_name": "Python 3"
    },
    "language_info": {
      "name": "python"
    }
  },
  "cells": [
    {
      "cell_type": "markdown",
      "metadata": {
        "id": "view-in-github",
        "colab_type": "text"
      },
      "source": [
        "<a href=\"https://colab.research.google.com/github/AnilUpad/anil-complete-python-/blob/main/anil_complete_python_cource.ipynb\" target=\"_parent\"><img src=\"https://colab.research.google.com/assets/colab-badge.svg\" alt=\"Open In Colab\"/></a>"
      ]
    },
    {
      "cell_type": "markdown",
      "source": [
        "## Variables and operators in python"
      ],
      "metadata": {
        "id": "2CLJ8YTgYnFO"
      }
    },
    {
      "cell_type": "markdown",
      "source": [
        "# Variables"
      ],
      "metadata": {
        "id": "rchwlJJsZGV3"
      }
    },
    {
      "cell_type": "markdown",
      "source": [
        "python varoables is containers that store values. python is not statically typed we do not need to declare variable before using them to declare their typpe. it is a basic unit of storage in a program"
      ],
      "metadata": {
        "id": "JSro7GfkchUQ"
      }
    },
    {
      "cell_type": "markdown",
      "source": [
        "# Variable names"
      ],
      "metadata": {
        "id": "7bNzMgz1dBtm"
      }
    },
    {
      "cell_type": "markdown",
      "source": [
        "# A variable can have a short name (like x and y) or a more descriptive name (age,carname,total_volume).Rules for python variables."
      ],
      "metadata": {
        "id": "6XwmVANvdF9q"
      }
    },
    {
      "cell_type": "markdown",
      "source": [
        ".variable name must start with a letter or the unerscore charecter\n",
        ".A variable name cannot start with a number\n",
        ".A variable name can only contain alpha numeric charecters and underscore (A-z,0-9, and _)"
      ],
      "metadata": {
        "id": "UCCoE13ndfrL"
      }
    },
    {
      "cell_type": "code",
      "source": [
        "x = 5\n",
        "y = \"john\"\n",
        "print(x)\n",
        "print(y)"
      ],
      "metadata": {
        "colab": {
          "base_uri": "https://localhost:8080/"
        },
        "id": "ZuoELBiefeR-",
        "outputId": "ee77b27c-4bda-4fd5-9c73-2ccc4ce69e92"
      },
      "execution_count": null,
      "outputs": [
        {
          "output_type": "stream",
          "name": "stdout",
          "text": [
            "5\n",
            "john\n"
          ]
        }
      ]
    },
    {
      "cell_type": "code",
      "source": [
        "a = 1\n",
        "print(a)"
      ],
      "metadata": {
        "colab": {
          "base_uri": "https://localhost:8080/"
        },
        "id": "pUH0mf0Vgadq",
        "outputId": "8f7a6fed-d2fb-42c6-a5dc-fcc2c24d2fe4"
      },
      "execution_count": null,
      "outputs": [
        {
          "output_type": "stream",
          "name": "stdout",
          "text": [
            "1\n"
          ]
        }
      ]
    },
    {
      "cell_type": "code",
      "source": [
        "b = 2\n",
        "c = 2.3\n",
        "print(b,c)"
      ],
      "metadata": {
        "colab": {
          "base_uri": "https://localhost:8080/"
        },
        "id": "GwLwC-MTgzUD",
        "outputId": "0b1efe26-12ef-4ef7-e7da-380aeea524ba"
      },
      "execution_count": null,
      "outputs": [
        {
          "output_type": "stream",
          "name": "stdout",
          "text": [
            "2 2.3\n"
          ]
        }
      ]
    },
    {
      "cell_type": "code",
      "source": [
        "x = \"apple\"\n",
        "print(x)"
      ],
      "metadata": {
        "colab": {
          "base_uri": "https://localhost:8080/"
        },
        "id": "S61oACBLg_1C",
        "outputId": "7f98aa26-f249-430c-c6b4-b79e769652db"
      },
      "execution_count": null,
      "outputs": [
        {
          "output_type": "stream",
          "name": "stdout",
          "text": [
            "apple\n"
          ]
        }
      ]
    },
    {
      "cell_type": "code",
      "source": [
        "student = 23\n",
        "print(student)"
      ],
      "metadata": {
        "colab": {
          "base_uri": "https://localhost:8080/"
        },
        "id": "7xtPn3WRhOR9",
        "outputId": "b09ee488-01b8-4702-c41c-93aa8c4a40a7"
      },
      "execution_count": null,
      "outputs": [
        {
          "output_type": "stream",
          "name": "stdout",
          "text": [
            "23\n"
          ]
        }
      ]
    },
    {
      "cell_type": "code",
      "source": [
        "student123 = 25\n",
        "print(student123)\n"
      ],
      "metadata": {
        "colab": {
          "base_uri": "https://localhost:8080/"
        },
        "id": "qOZ2WcRXhfWR",
        "outputId": "a1aee609-278f-4603-aeb0-34034a3096a7"
      },
      "execution_count": null,
      "outputs": [
        {
          "output_type": "stream",
          "name": "stdout",
          "text": [
            "25\n"
          ]
        }
      ]
    },
    {
      "cell_type": "code",
      "source": [
        "_a = 5\n",
        "print(_a)"
      ],
      "metadata": {
        "colab": {
          "base_uri": "https://localhost:8080/"
        },
        "id": "a7vTnQoHiEf3",
        "outputId": "763a84d3-220b-4e6b-cfff-56ea4b5300ad"
      },
      "execution_count": null,
      "outputs": [
        {
          "output_type": "stream",
          "name": "stdout",
          "text": [
            "5\n"
          ]
        }
      ]
    },
    {
      "cell_type": "markdown",
      "source": [
        "# many values to multiple values"
      ],
      "metadata": {
        "id": "orLBJCWTiZt7"
      }
    },
    {
      "cell_type": "code",
      "source": [
        "x,y,z = \"orange\",\"banana\",\"cherry\"\n",
        "print(x,y,z)"
      ],
      "metadata": {
        "colab": {
          "base_uri": "https://localhost:8080/"
        },
        "id": "eZkAnhsKifhf",
        "outputId": "0c18bf73-214f-4e59-d17f-ca72ec8557ff"
      },
      "execution_count": null,
      "outputs": [
        {
          "output_type": "stream",
          "name": "stdout",
          "text": [
            "orange banana cherry\n"
          ]
        }
      ]
    },
    {
      "cell_type": "code",
      "source": [
        "x = y= z = \"orange\"\n",
        "print(x)\n",
        "print(y)\n",
        "print(z)"
      ],
      "metadata": {
        "colab": {
          "base_uri": "https://localhost:8080/"
        },
        "id": "XN1gBKpIkVLT",
        "outputId": "82614609-3c8f-4b16-9218-249a5346def6"
      },
      "execution_count": null,
      "outputs": [
        {
          "output_type": "stream",
          "name": "stdout",
          "text": [
            "orange\n",
            "orange\n",
            "orange\n"
          ]
        }
      ]
    },
    {
      "cell_type": "markdown",
      "source": [
        "# python output variables"
      ],
      "metadata": {
        "id": "qw83EEmpksJ0"
      }
    },
    {
      "cell_type": "code",
      "source": [
        "x = \"python\"\n",
        "y = \"is\"\n",
        "z = \"amazing\"\n",
        "print(x,y,z)\n",
        "\n",
        "print()\n",
        "\n",
        "print(x)\n",
        "print(y)\n",
        "print(z)"
      ],
      "metadata": {
        "colab": {
          "base_uri": "https://localhost:8080/"
        },
        "id": "79Bka2Q_kxcV",
        "outputId": "b4aa36a0-4ede-4cc7-ac35-af089a2ed9c5"
      },
      "execution_count": null,
      "outputs": [
        {
          "output_type": "stream",
          "name": "stdout",
          "text": [
            "python is amazing\n",
            "\n",
            "python\n",
            "is\n",
            "amazing\n"
          ]
        }
      ]
    },
    {
      "cell_type": "markdown",
      "source": [
        "# Data Types"
      ],
      "metadata": {
        "id": "vuJZh423larD"
      }
    },
    {
      "cell_type": "markdown",
      "source": [
        "# variables can store the data of different types and different types can do different\n"
      ],
      "metadata": {
        "id": "mag9z1E8lqAN"
      }
    },
    {
      "cell_type": "markdown",
      "source": [
        "Test type : str"
      ],
      "metadata": {
        "id": "lWZZ_OHHl-k4"
      }
    },
    {
      "cell_type": "markdown",
      "source": [
        "Numeric types : int , float, complex"
      ],
      "metadata": {
        "id": "5RaLx7Q5mDxW"
      }
    },
    {
      "cell_type": "markdown",
      "source": [
        "sequence type : list,tuple,range"
      ],
      "metadata": {
        "id": "CEjCGcSGmKCV"
      }
    },
    {
      "cell_type": "markdown",
      "source": [
        "Mapping type : dictionary"
      ],
      "metadata": {
        "id": "kE9iH5bDmfDb"
      }
    },
    {
      "cell_type": "markdown",
      "source": [
        "set Ttypes : set frozenset"
      ],
      "metadata": {
        "id": "O5UIcMCFmltt"
      }
    },
    {
      "cell_type": "markdown",
      "source": [
        "boolean type : bool"
      ],
      "metadata": {
        "id": "dFOXAxNXmruO"
      }
    },
    {
      "cell_type": "markdown",
      "source": [
        "Binary types : bytes, bytearray,memoryview"
      ],
      "metadata": {
        "id": "f8fXvKWumvzZ"
      }
    },
    {
      "cell_type": "code",
      "source": [
        "x = 2\n",
        "print(x)\n",
        "print(type(x))"
      ],
      "metadata": {
        "colab": {
          "base_uri": "https://localhost:8080/"
        },
        "id": "oEjYc8qan6ti",
        "outputId": "2a610e0e-198f-437c-c6cb-6ddab39af1c8"
      },
      "execution_count": null,
      "outputs": [
        {
          "output_type": "stream",
          "name": "stdout",
          "text": [
            "2\n",
            "<class 'int'>\n"
          ]
        }
      ]
    },
    {
      "cell_type": "code",
      "source": [
        "y = 4.5\n",
        "print(y)\n",
        "print(type(y))"
      ],
      "metadata": {
        "colab": {
          "base_uri": "https://localhost:8080/"
        },
        "id": "feSUUMsxoDWN",
        "outputId": "a3518f93-d35e-4b57-907c-657fe14cc9b4"
      },
      "execution_count": null,
      "outputs": [
        {
          "output_type": "stream",
          "name": "stdout",
          "text": [
            "4.5\n",
            "<class 'float'>\n"
          ]
        }
      ]
    },
    {
      "cell_type": "code",
      "source": [
        "z = 2+5j\n",
        "print(z)\n",
        "print(type(z))"
      ],
      "metadata": {
        "colab": {
          "base_uri": "https://localhost:8080/"
        },
        "id": "h-5qgt2QoaHN",
        "outputId": "cb9ca085-6c2c-4a2f-e7c2-7e7838c54989"
      },
      "execution_count": null,
      "outputs": [
        {
          "output_type": "stream",
          "name": "stdout",
          "text": [
            "(2+5j)\n",
            "<class 'complex'>\n"
          ]
        }
      ]
    },
    {
      "cell_type": "code",
      "source": [
        "a = \"this is the day 2 of python class\"\n",
        "print(a)\n",
        "print(type(a))"
      ],
      "metadata": {
        "colab": {
          "base_uri": "https://localhost:8080/"
        },
        "id": "03WE55-DpwME",
        "outputId": "2ca182e0-1267-4f6b-a8b7-5c49d051d922"
      },
      "execution_count": null,
      "outputs": [
        {
          "output_type": "stream",
          "name": "stdout",
          "text": [
            "this is the day 2 of python class\n",
            "<class 'str'>\n"
          ]
        }
      ]
    },
    {
      "cell_type": "code",
      "source": [
        "b = [1,2,3,4.5,6,7,8,9,10]\n",
        "print(b)\n",
        "print(type(b))"
      ],
      "metadata": {
        "colab": {
          "base_uri": "https://localhost:8080/"
        },
        "id": "mw0n8DYnpCjx",
        "outputId": "2e017530-e06a-45be-a138-1469ee903fa3"
      },
      "execution_count": null,
      "outputs": [
        {
          "output_type": "stream",
          "name": "stdout",
          "text": [
            "[1, 2, 3, 4.5, 6, 7, 8, 9, 10]\n",
            "<class 'list'>\n"
          ]
        }
      ]
    },
    {
      "cell_type": "code",
      "source": [
        "b = (1,2,3,4.5,6,7,8,9,10)\n",
        "print(b)\n",
        "print(type(b))"
      ],
      "metadata": {
        "colab": {
          "base_uri": "https://localhost:8080/"
        },
        "id": "OLmBKDAIqiiW",
        "outputId": "39efd213-9573-4241-c38c-90a7bd79fac5"
      },
      "execution_count": null,
      "outputs": [
        {
          "output_type": "stream",
          "name": "stdout",
          "text": [
            "(1, 2, 3, 4.5, 6, 7, 8, 9, 10)\n",
            "<class 'tuple'>\n"
          ]
        }
      ]
    },
    {
      "cell_type": "code",
      "source": [
        "%whos"
      ],
      "metadata": {
        "colab": {
          "base_uri": "https://localhost:8080/"
        },
        "id": "zgCuGnmyq1Zr",
        "outputId": "5efb76d6-b88d-4dd8-8a3e-dee9d0fedab0"
      },
      "execution_count": null,
      "outputs": [
        {
          "output_type": "stream",
          "name": "stdout",
          "text": [
            "Variable     Type       Data/Info\n",
            "---------------------------------\n",
            "a            str        this is the day 2 of python class\n",
            "b            tuple      n=9\n",
            "c            float      2.3\n",
            "student      int        23\n",
            "student123   int        25\n",
            "x            int        2\n",
            "y            float      4.5\n",
            "z            complex    (2+5j)\n"
          ]
        }
      ]
    },
    {
      "cell_type": "markdown",
      "source": [
        "# operators in python"
      ],
      "metadata": {
        "id": "84jOfMNnrNpe"
      }
    },
    {
      "cell_type": "markdown",
      "source": [
        "Operators: These are the special symbols.Eg +,*,/,-"
      ],
      "metadata": {
        "id": "YeR1DhDaraFa"
      }
    },
    {
      "cell_type": "markdown",
      "source": [
        "# Types of operators in python"
      ],
      "metadata": {
        "id": "EN5anEI2rw45"
      }
    },
    {
      "cell_type": "markdown",
      "source": [
        "Arithmetic operators\n",
        "Comparision operators\n",
        "Logical operators\n",
        "Bitwise operators\n",
        "Assignment operators\n",
        "identify operators and memebership operators"
      ],
      "metadata": {
        "id": "ODbL1KbRr2pt"
      }
    },
    {
      "cell_type": "code",
      "source": [
        "a= 5\n",
        "b= 4\n",
        "print(a+b)"
      ],
      "metadata": {
        "colab": {
          "base_uri": "https://localhost:8080/"
        },
        "id": "UQt82JBPsWuc",
        "outputId": "bd519d11-a0a5-4815-bda4-d13f93969f37"
      },
      "execution_count": null,
      "outputs": [
        {
          "output_type": "stream",
          "name": "stdout",
          "text": [
            "9\n"
          ]
        }
      ]
    },
    {
      "cell_type": "code",
      "source": [
        "a= 4\n",
        "b = 2.5\n",
        "print(a+b)"
      ],
      "metadata": {
        "colab": {
          "base_uri": "https://localhost:8080/"
        },
        "id": "FOUPk7IxseJm",
        "outputId": "233c1b74-f690-4c72-c91e-6fda3c08a90d"
      },
      "execution_count": null,
      "outputs": [
        {
          "output_type": "stream",
          "name": "stdout",
          "text": [
            "6.5\n"
          ]
        }
      ]
    },
    {
      "cell_type": "code",
      "source": [
        "a = 5 + 2j\n",
        "b = 4\n",
        "print(a+b)"
      ],
      "metadata": {
        "colab": {
          "base_uri": "https://localhost:8080/"
        },
        "id": "Jz-oCjPLstNe",
        "outputId": "7bcc72c9-cbc5-49f0-e3df-ac6bc72046f2"
      },
      "execution_count": null,
      "outputs": [
        {
          "output_type": "stream",
          "name": "stdout",
          "text": [
            "(9+2j)\n"
          ]
        }
      ]
    },
    {
      "cell_type": "code",
      "source": [
        "a = \"hello\"\n",
        "b = \"student\"\n",
        "print(a+b)"
      ],
      "metadata": {
        "colab": {
          "base_uri": "https://localhost:8080/"
        },
        "id": "rniztxazs-qu",
        "outputId": "07504fa2-7806-4506-edcc-02b638b11190"
      },
      "execution_count": null,
      "outputs": [
        {
          "output_type": "stream",
          "name": "stdout",
          "text": [
            "hellostudent\n"
          ]
        }
      ]
    },
    {
      "cell_type": "code",
      "source": [
        "a = 15\n",
        "b = 16\n",
        "print(a-b)"
      ],
      "metadata": {
        "colab": {
          "base_uri": "https://localhost:8080/"
        },
        "id": "GHWYENFztRBO",
        "outputId": "e72fec36-5ead-49c2-a63d-e0aef09160d2"
      },
      "execution_count": null,
      "outputs": [
        {
          "output_type": "stream",
          "name": "stdout",
          "text": [
            "-1\n"
          ]
        }
      ]
    },
    {
      "cell_type": "code",
      "source": [
        "a = 5+6j\n",
        "b = 3\n",
        "print(a-b)"
      ],
      "metadata": {
        "colab": {
          "base_uri": "https://localhost:8080/"
        },
        "id": "ETHi705NtaCv",
        "outputId": "b8389bba-9068-4e09-baed-6249c63320d4"
      },
      "execution_count": null,
      "outputs": [
        {
          "output_type": "stream",
          "name": "stdout",
          "text": [
            "(2+6j)\n"
          ]
        }
      ]
    },
    {
      "cell_type": "code",
      "source": [
        "a = 15\n",
        "b = 56\n",
        "print(a*b)"
      ],
      "metadata": {
        "colab": {
          "base_uri": "https://localhost:8080/"
        },
        "id": "UBwaqg0xtqpi",
        "outputId": "1600185a-e340-4853-c65c-d38e3a526f7d"
      },
      "execution_count": null,
      "outputs": [
        {
          "output_type": "stream",
          "name": "stdout",
          "text": [
            "840\n"
          ]
        }
      ]
    },
    {
      "cell_type": "code",
      "source": [
        "a = 46.654\n",
        "b = 34.645\n",
        "print(a*b)"
      ],
      "metadata": {
        "colab": {
          "base_uri": "https://localhost:8080/"
        },
        "id": "V16h-rn3t8aC",
        "outputId": "c1e15f79-e11c-4827-86d6-b3e3c372a1cf"
      },
      "execution_count": null,
      "outputs": [
        {
          "output_type": "stream",
          "name": "stdout",
          "text": [
            "1616.3278300000002\n"
          ]
        }
      ]
    },
    {
      "cell_type": "code",
      "source": [
        "a = 10\n",
        "b = 5\n",
        "print(a/b)"
      ],
      "metadata": {
        "colab": {
          "base_uri": "https://localhost:8080/"
        },
        "id": "s0NQkzDKuFuB",
        "outputId": "00ab403b-b70b-446a-a082-44810116ee40"
      },
      "execution_count": null,
      "outputs": [
        {
          "output_type": "stream",
          "name": "stdout",
          "text": [
            "2.0\n"
          ]
        }
      ]
    },
    {
      "cell_type": "markdown",
      "source": [
        "# modulas(reaminder)"
      ],
      "metadata": {
        "id": "eJymcAYRuOSk"
      }
    },
    {
      "cell_type": "code",
      "source": [
        "a = 19\n",
        "b = 3\n",
        "print(a%b)"
      ],
      "metadata": {
        "colab": {
          "base_uri": "https://localhost:8080/"
        },
        "id": "L75V2VeNuTzK",
        "outputId": "f188864e-6695-4e72-f571-01cd10b97353"
      },
      "execution_count": null,
      "outputs": [
        {
          "output_type": "stream",
          "name": "stdout",
          "text": [
            "1\n"
          ]
        }
      ]
    },
    {
      "cell_type": "code",
      "source": [
        "a = 12\n",
        "b = 4\n",
        "print(a%b)"
      ],
      "metadata": {
        "colab": {
          "base_uri": "https://localhost:8080/"
        },
        "id": "lvRS7c12ue-Y",
        "outputId": "d9209d4b-01c4-4ff6-acd2-2c084ea8dceb"
      },
      "execution_count": null,
      "outputs": [
        {
          "output_type": "stream",
          "name": "stdout",
          "text": [
            "0\n"
          ]
        }
      ]
    },
    {
      "cell_type": "markdown",
      "source": [
        "# exponent"
      ],
      "metadata": {
        "id": "Jzgqq3uwupAY"
      }
    },
    {
      "cell_type": "code",
      "source": [
        "a = 41256789\n",
        "print(a**55)"
      ],
      "metadata": {
        "colab": {
          "base_uri": "https://localhost:8080/"
        },
        "id": "l4eCSxRGurrP",
        "outputId": "0ea57186-fee4-495f-f69c-59d7b65dd0dd"
      },
      "execution_count": null,
      "outputs": [
        {
          "output_type": "stream",
          "name": "stdout",
          "text": [
            "71162028433520217717099884851404495326786614148274137562533191244754226421072922193229393035406290047490322006127486170528820460414671897074184746917638236810663780872933871199771053029074871072046645088603300420278272474373361352870797685329285463690039885441075398107839063255747535400015566353549647882767414182717586010912021318113386679928289227315380064286145450539958069165193638416244911434618495833200180049949\n"
          ]
        }
      ]
    },
    {
      "cell_type": "code",
      "source": [
        "a = ((859*78)+(78.256/89)+(856**67)+(145698-7526))\n",
        "print(a)"
      ],
      "metadata": {
        "colab": {
          "base_uri": "https://localhost:8080/"
        },
        "id": "Vh9zFxjmvFlz",
        "outputId": "9c411dd9-11d8-443f-c353-f76ad60d7460"
      },
      "execution_count": null,
      "outputs": [
        {
          "output_type": "stream",
          "name": "stdout",
          "text": [
            "2.990489165920469e+196\n"
          ]
        }
      ]
    },
    {
      "cell_type": "markdown",
      "source": [
        "# Types of function in python"
      ],
      "metadata": {
        "id": "8CQnK60B71Ha"
      }
    },
    {
      "cell_type": "markdown",
      "source": [
        ". Built in functions in python\n",
        ". Python Recursive function\n",
        ". python Lambda  function\n",
        ". User defined function"
      ],
      "metadata": {
        "id": "UjqTd-UJ783a"
      }
    },
    {
      "cell_type": "markdown",
      "source": [
        "built in function in python"
      ],
      "metadata": {
        "id": "RT71nQ1N8Rwe"
      }
    },
    {
      "cell_type": "markdown",
      "source": [
        "#abs()function(it show absolute value)"
      ],
      "metadata": {
        "id": "ZnLX43Up-m_N"
      }
    },
    {
      "cell_type": "code",
      "source": [
        "x = abs(-7.25)\n",
        "print(x)"
      ],
      "metadata": {
        "colab": {
          "base_uri": "https://localhost:8080/"
        },
        "id": "K5G9ST7_-rWF",
        "outputId": "f0ad3fb4-c5c9-4033-95c7-e61eac98b869"
      },
      "execution_count": null,
      "outputs": [
        {
          "output_type": "stream",
          "name": "stdout",
          "text": [
            "7.25\n"
          ]
        }
      ]
    },
    {
      "cell_type": "code",
      "source": [
        "y = abs(-8)\n",
        "print(y)"
      ],
      "metadata": {
        "colab": {
          "base_uri": "https://localhost:8080/"
        },
        "id": "Mgc1k457-ltc",
        "outputId": "e64619ae-10e0-4c5d-db00-0ce9e00009bd"
      },
      "execution_count": null,
      "outputs": [
        {
          "output_type": "stream",
          "name": "stdout",
          "text": [
            "8\n"
          ]
        }
      ]
    },
    {
      "cell_type": "code",
      "source": [
        "z = abs(3+5j)\n",
        "print(z)"
      ],
      "metadata": {
        "colab": {
          "base_uri": "https://localhost:8080/"
        },
        "id": "1SE_NOHE_SnI",
        "outputId": "2ef089f1-6bfb-4ede-8ea2-919f8730d311"
      },
      "execution_count": null,
      "outputs": [
        {
          "output_type": "stream",
          "name": "stdout",
          "text": [
            "5.830951894845301\n"
          ]
        }
      ]
    },
    {
      "cell_type": "markdown",
      "source": [
        "Binary function"
      ],
      "metadata": {
        "id": "-rgdRPf1_bKX"
      }
    },
    {
      "cell_type": "code",
      "source": [
        "x = bin(12)\n",
        "print(x)"
      ],
      "metadata": {
        "colab": {
          "base_uri": "https://localhost:8080/"
        },
        "id": "o9goMt-q_fNN",
        "outputId": "56fa9632-4adf-4263-9c02-2178052ee78c"
      },
      "execution_count": null,
      "outputs": [
        {
          "output_type": "stream",
          "name": "stdout",
          "text": [
            "0b1100\n"
          ]
        }
      ]
    },
    {
      "cell_type": "code",
      "source": [
        "y = bin(36)\n",
        "print(y)"
      ],
      "metadata": {
        "colab": {
          "base_uri": "https://localhost:8080/"
        },
        "id": "Pw4JvRsf_4X2",
        "outputId": "64c62f3f-96ac-442c-c6c2-793cae3a5b37"
      },
      "execution_count": null,
      "outputs": [
        {
          "output_type": "stream",
          "name": "stdout",
          "text": [
            "0b100100\n"
          ]
        }
      ]
    },
    {
      "cell_type": "code",
      "source": [
        "z = bin(56)\n",
        "print(z)"
      ],
      "metadata": {
        "colab": {
          "base_uri": "https://localhost:8080/"
        },
        "id": "KAh6Iy-AAdyJ",
        "outputId": "d28ba8a5-dd25-471b-8c47-d89c0844ec03"
      },
      "execution_count": null,
      "outputs": [
        {
          "output_type": "stream",
          "name": "stdout",
          "text": [
            "0b111000\n"
          ]
        }
      ]
    },
    {
      "cell_type": "markdown",
      "source": [
        "Bytes function"
      ],
      "metadata": {
        "id": "Cd-cM2FvBD-w"
      }
    },
    {
      "cell_type": "code",
      "source": [
        "x = bytes(4)\n",
        "print(x)"
      ],
      "metadata": {
        "colab": {
          "base_uri": "https://localhost:8080/"
        },
        "id": "541WrFEmBGWz",
        "outputId": "f88ec098-9dc1-4129-90c5-ecae4e051413"
      },
      "execution_count": null,
      "outputs": [
        {
          "output_type": "stream",
          "name": "stdout",
          "text": [
            "b'\\x00\\x00\\x00\\x00'\n"
          ]
        }
      ]
    },
    {
      "cell_type": "code",
      "source": [
        "y = bytes(16)\n",
        "print(y)"
      ],
      "metadata": {
        "colab": {
          "base_uri": "https://localhost:8080/"
        },
        "id": "FLwgngrtBeD-",
        "outputId": "78560d3c-0435-45b3-d553-5568bdf09fbb"
      },
      "execution_count": null,
      "outputs": [
        {
          "output_type": "stream",
          "name": "stdout",
          "text": [
            "b'\\x00\\x00\\x00\\x00\\x00\\x00\\x00\\x00\\x00\\x00\\x00\\x00\\x00\\x00\\x00\\x00'\n"
          ]
        }
      ]
    },
    {
      "cell_type": "markdown",
      "source": [
        "charecter function"
      ],
      "metadata": {
        "id": "X2B10pPQBltt"
      }
    },
    {
      "cell_type": "code",
      "source": [
        "x = chr(98)\n",
        "print(x)"
      ],
      "metadata": {
        "colab": {
          "base_uri": "https://localhost:8080/"
        },
        "id": "KMFwlhtZBq-r",
        "outputId": "963433b5-33fa-44bb-eccd-f2feb51d6522"
      },
      "execution_count": null,
      "outputs": [
        {
          "output_type": "stream",
          "name": "stdout",
          "text": [
            "b\n"
          ]
        }
      ]
    },
    {
      "cell_type": "code",
      "source": [
        "y = chr(96)\n",
        "print(y)"
      ],
      "metadata": {
        "colab": {
          "base_uri": "https://localhost:8080/"
        },
        "id": "EhidFkwACUkn",
        "outputId": "92a315bb-1473-4094-eb73-1052845ae353"
      },
      "execution_count": null,
      "outputs": [
        {
          "output_type": "stream",
          "name": "stdout",
          "text": [
            "`\n"
          ]
        }
      ]
    },
    {
      "cell_type": "markdown",
      "source": [
        "Complex function"
      ],
      "metadata": {
        "id": "BTdlx-0GC-gy"
      }
    },
    {
      "cell_type": "code",
      "source": [
        "x = complex(3,5)\n",
        "print(x)"
      ],
      "metadata": {
        "colab": {
          "base_uri": "https://localhost:8080/"
        },
        "id": "IwgM5khVDBNz",
        "outputId": "ce0950ef-f954-4f69-813c-cc50e78134bf"
      },
      "execution_count": null,
      "outputs": [
        {
          "output_type": "stream",
          "name": "stdout",
          "text": [
            "(3+5j)\n"
          ]
        }
      ]
    },
    {
      "cell_type": "code",
      "source": [
        "y = complex(2.5,3.96)\n",
        "print(y)"
      ],
      "metadata": {
        "colab": {
          "base_uri": "https://localhost:8080/"
        },
        "id": "kFZbSAK8DyYa",
        "outputId": "04013c03-f258-425f-c05f-7f6e417a4c87"
      },
      "execution_count": null,
      "outputs": [
        {
          "output_type": "stream",
          "name": "stdout",
          "text": [
            "(2.5+3.96j)\n"
          ]
        }
      ]
    },
    {
      "cell_type": "markdown",
      "source": [],
      "metadata": {
        "id": "7H2G87wK93L8"
      }
    },
    {
      "cell_type": "code",
      "source": [
        "z = complex('2')\n",
        "print(z)"
      ],
      "metadata": {
        "colab": {
          "base_uri": "https://localhost:8080/"
        },
        "id": "4zxWOKcqECbD",
        "outputId": "59830f84-3249-41e7-cdc9-3dbf471bef37"
      },
      "execution_count": null,
      "outputs": [
        {
          "output_type": "stream",
          "name": "stdout",
          "text": [
            "(2+0j)\n"
          ]
        }
      ]
    },
    {
      "cell_type": "markdown",
      "source": [
        "Float Function"
      ],
      "metadata": {
        "id": "xKv7OYA7EX1e"
      }
    },
    {
      "cell_type": "code",
      "source": [
        "x = float(3)\n",
        "print(x)"
      ],
      "metadata": {
        "colab": {
          "base_uri": "https://localhost:8080/"
        },
        "id": "oKOlMYLxEaoz",
        "outputId": "193a5767-aaa0-4bf3-85d2-f7605a51acfa"
      },
      "execution_count": null,
      "outputs": [
        {
          "output_type": "stream",
          "name": "stdout",
          "text": [
            "3.0\n"
          ]
        }
      ]
    },
    {
      "cell_type": "code",
      "source": [
        "y = float(3.56)\n",
        "print(y)"
      ],
      "metadata": {
        "colab": {
          "base_uri": "https://localhost:8080/"
        },
        "id": "zZlwtHwxEk2i",
        "outputId": "af07a91a-f2ce-49f9-9941-ff747f8d92d0"
      },
      "execution_count": null,
      "outputs": [
        {
          "output_type": "stream",
          "name": "stdout",
          "text": [
            "3.56\n"
          ]
        }
      ]
    },
    {
      "cell_type": "markdown",
      "source": [
        "int function"
      ],
      "metadata": {
        "id": "gIcewakKExFg"
      }
    },
    {
      "cell_type": "code",
      "source": [
        "x = int(12)\n",
        "print(x)"
      ],
      "metadata": {
        "colab": {
          "base_uri": "https://localhost:8080/"
        },
        "id": "UiIglGOAE0jh",
        "outputId": "7c03bdfa-ab13-4b0e-ca34-74ef2984d69f"
      },
      "execution_count": null,
      "outputs": [
        {
          "output_type": "stream",
          "name": "stdout",
          "text": [
            "12\n"
          ]
        }
      ]
    },
    {
      "cell_type": "code",
      "source": [
        "y = int(12.56)\n",
        "print(y)"
      ],
      "metadata": {
        "colab": {
          "base_uri": "https://localhost:8080/"
        },
        "id": "QCwpEw0oE_0r",
        "outputId": "2d2a2924-ae3d-4f57-96d7-2cb987dbd1e2"
      },
      "execution_count": null,
      "outputs": [
        {
          "output_type": "stream",
          "name": "stdout",
          "text": [
            "12\n"
          ]
        }
      ]
    },
    {
      "cell_type": "markdown",
      "source": [
        "string() function"
      ],
      "metadata": {
        "id": "FisaDu2eFYSM"
      }
    },
    {
      "cell_type": "code",
      "source": [
        "a = str(\"25.68\")\n",
        "print(a)\n",
        "print(type(a))"
      ],
      "metadata": {
        "colab": {
          "base_uri": "https://localhost:8080/"
        },
        "id": "_nTXKz6NFaf2",
        "outputId": "9fbf68a3-0827-4ba8-a9bd-01f4bd48997f"
      },
      "execution_count": null,
      "outputs": [
        {
          "output_type": "stream",
          "name": "stdout",
          "text": [
            "25.68\n",
            "<class 'str'>\n"
          ]
        }
      ]
    },
    {
      "cell_type": "markdown",
      "source": [
        "help()function"
      ],
      "metadata": {
        "id": "Co7poJnXF-PQ"
      }
    },
    {
      "cell_type": "code",
      "source": [
        "help(print)"
      ],
      "metadata": {
        "colab": {
          "base_uri": "https://localhost:8080/"
        },
        "id": "pWNmaVMSGDEF",
        "outputId": "81e0ad04-15b5-44db-87c2-8252ed4f5001"
      },
      "execution_count": null,
      "outputs": [
        {
          "output_type": "stream",
          "name": "stdout",
          "text": [
            "Help on built-in function print in module builtins:\n",
            "\n",
            "print(...)\n",
            "    print(value, ..., sep=' ', end='\\n', file=sys.stdout, flush=False)\n",
            "    \n",
            "    Prints the values to a stream, or to sys.stdout by default.\n",
            "    Optional keyword arguments:\n",
            "    file:  a file-like object (stream); defaults to the current sys.stdout.\n",
            "    sep:   string inserted between values, default a space.\n",
            "    end:   string appended after the last value, default a newline.\n",
            "    flush: whether to forcibly flush the stream.\n",
            "\n"
          ]
        }
      ]
    },
    {
      "cell_type": "code",
      "source": [
        "help(float)"
      ],
      "metadata": {
        "colab": {
          "base_uri": "https://localhost:8080/"
        },
        "id": "0D6MjPSdGJhv",
        "outputId": "01e392c7-9f9b-4dca-f3e7-51b1087e14f2"
      },
      "execution_count": null,
      "outputs": [
        {
          "output_type": "stream",
          "name": "stdout",
          "text": [
            "Help on class float in module builtins:\n",
            "\n",
            "class float(object)\n",
            " |  float(x=0, /)\n",
            " |  \n",
            " |  Convert a string or number to a floating point number, if possible.\n",
            " |  \n",
            " |  Methods defined here:\n",
            " |  \n",
            " |  __abs__(self, /)\n",
            " |      abs(self)\n",
            " |  \n",
            " |  __add__(self, value, /)\n",
            " |      Return self+value.\n",
            " |  \n",
            " |  __bool__(self, /)\n",
            " |      True if self else False\n",
            " |  \n",
            " |  __ceil__(self, /)\n",
            " |      Return the ceiling as an Integral.\n",
            " |  \n",
            " |  __divmod__(self, value, /)\n",
            " |      Return divmod(self, value).\n",
            " |  \n",
            " |  __eq__(self, value, /)\n",
            " |      Return self==value.\n",
            " |  \n",
            " |  __float__(self, /)\n",
            " |      float(self)\n",
            " |  \n",
            " |  __floor__(self, /)\n",
            " |      Return the floor as an Integral.\n",
            " |  \n",
            " |  __floordiv__(self, value, /)\n",
            " |      Return self//value.\n",
            " |  \n",
            " |  __format__(self, format_spec, /)\n",
            " |      Formats the float according to format_spec.\n",
            " |  \n",
            " |  __ge__(self, value, /)\n",
            " |      Return self>=value.\n",
            " |  \n",
            " |  __getattribute__(self, name, /)\n",
            " |      Return getattr(self, name).\n",
            " |  \n",
            " |  __getnewargs__(self, /)\n",
            " |  \n",
            " |  __gt__(self, value, /)\n",
            " |      Return self>value.\n",
            " |  \n",
            " |  __hash__(self, /)\n",
            " |      Return hash(self).\n",
            " |  \n",
            " |  __int__(self, /)\n",
            " |      int(self)\n",
            " |  \n",
            " |  __le__(self, value, /)\n",
            " |      Return self<=value.\n",
            " |  \n",
            " |  __lt__(self, value, /)\n",
            " |      Return self<value.\n",
            " |  \n",
            " |  __mod__(self, value, /)\n",
            " |      Return self%value.\n",
            " |  \n",
            " |  __mul__(self, value, /)\n",
            " |      Return self*value.\n",
            " |  \n",
            " |  __ne__(self, value, /)\n",
            " |      Return self!=value.\n",
            " |  \n",
            " |  __neg__(self, /)\n",
            " |      -self\n",
            " |  \n",
            " |  __pos__(self, /)\n",
            " |      +self\n",
            " |  \n",
            " |  __pow__(self, value, mod=None, /)\n",
            " |      Return pow(self, value, mod).\n",
            " |  \n",
            " |  __radd__(self, value, /)\n",
            " |      Return value+self.\n",
            " |  \n",
            " |  __rdivmod__(self, value, /)\n",
            " |      Return divmod(value, self).\n",
            " |  \n",
            " |  __repr__(self, /)\n",
            " |      Return repr(self).\n",
            " |  \n",
            " |  __rfloordiv__(self, value, /)\n",
            " |      Return value//self.\n",
            " |  \n",
            " |  __rmod__(self, value, /)\n",
            " |      Return value%self.\n",
            " |  \n",
            " |  __rmul__(self, value, /)\n",
            " |      Return value*self.\n",
            " |  \n",
            " |  __round__(self, ndigits=None, /)\n",
            " |      Return the Integral closest to x, rounding half toward even.\n",
            " |      \n",
            " |      When an argument is passed, work like built-in round(x, ndigits).\n",
            " |  \n",
            " |  __rpow__(self, value, mod=None, /)\n",
            " |      Return pow(value, self, mod).\n",
            " |  \n",
            " |  __rsub__(self, value, /)\n",
            " |      Return value-self.\n",
            " |  \n",
            " |  __rtruediv__(self, value, /)\n",
            " |      Return value/self.\n",
            " |  \n",
            " |  __sub__(self, value, /)\n",
            " |      Return self-value.\n",
            " |  \n",
            " |  __truediv__(self, value, /)\n",
            " |      Return self/value.\n",
            " |  \n",
            " |  __trunc__(self, /)\n",
            " |      Return the Integral closest to x between 0 and x.\n",
            " |  \n",
            " |  as_integer_ratio(self, /)\n",
            " |      Return integer ratio.\n",
            " |      \n",
            " |      Return a pair of integers, whose ratio is exactly equal to the original float\n",
            " |      and with a positive denominator.\n",
            " |      \n",
            " |      Raise OverflowError on infinities and a ValueError on NaNs.\n",
            " |      \n",
            " |      >>> (10.0).as_integer_ratio()\n",
            " |      (10, 1)\n",
            " |      >>> (0.0).as_integer_ratio()\n",
            " |      (0, 1)\n",
            " |      >>> (-.25).as_integer_ratio()\n",
            " |      (-1, 4)\n",
            " |  \n",
            " |  conjugate(self, /)\n",
            " |      Return self, the complex conjugate of any float.\n",
            " |  \n",
            " |  hex(self, /)\n",
            " |      Return a hexadecimal representation of a floating-point number.\n",
            " |      \n",
            " |      >>> (-0.1).hex()\n",
            " |      '-0x1.999999999999ap-4'\n",
            " |      >>> 3.14159.hex()\n",
            " |      '0x1.921f9f01b866ep+1'\n",
            " |  \n",
            " |  is_integer(self, /)\n",
            " |      Return True if the float is an integer.\n",
            " |  \n",
            " |  ----------------------------------------------------------------------\n",
            " |  Class methods defined here:\n",
            " |  \n",
            " |  __getformat__(typestr, /) from builtins.type\n",
            " |      You probably don't want to use this function.\n",
            " |      \n",
            " |        typestr\n",
            " |          Must be 'double' or 'float'.\n",
            " |      \n",
            " |      It exists mainly to be used in Python's test suite.\n",
            " |      \n",
            " |      This function returns whichever of 'unknown', 'IEEE, big-endian' or 'IEEE,\n",
            " |      little-endian' best describes the format of floating point numbers used by the\n",
            " |      C type named by typestr.\n",
            " |  \n",
            " |  __setformat__(typestr, fmt, /) from builtins.type\n",
            " |      You probably don't want to use this function.\n",
            " |      \n",
            " |        typestr\n",
            " |          Must be 'double' or 'float'.\n",
            " |        fmt\n",
            " |          Must be one of 'unknown', 'IEEE, big-endian' or 'IEEE, little-endian',\n",
            " |          and in addition can only be one of the latter two if it appears to\n",
            " |          match the underlying C reality.\n",
            " |      \n",
            " |      It exists mainly to be used in Python's test suite.\n",
            " |      \n",
            " |      Override the automatic determination of C-level floating point type.\n",
            " |      This affects how floats are converted to and from binary strings.\n",
            " |  \n",
            " |  fromhex(string, /) from builtins.type\n",
            " |      Create a floating-point number from a hexadecimal string.\n",
            " |      \n",
            " |      >>> float.fromhex('0x1.ffffp10')\n",
            " |      2047.984375\n",
            " |      >>> float.fromhex('-0x1p-1074')\n",
            " |      -5e-324\n",
            " |  \n",
            " |  ----------------------------------------------------------------------\n",
            " |  Static methods defined here:\n",
            " |  \n",
            " |  __new__(*args, **kwargs) from builtins.type\n",
            " |      Create and return a new object.  See help(type) for accurate signature.\n",
            " |  \n",
            " |  ----------------------------------------------------------------------\n",
            " |  Data descriptors defined here:\n",
            " |  \n",
            " |  imag\n",
            " |      the imaginary part of a complex number\n",
            " |  \n",
            " |  real\n",
            " |      the real part of a complex number\n",
            "\n"
          ]
        }
      ]
    },
    {
      "cell_type": "markdown",
      "source": [
        "input()function"
      ],
      "metadata": {
        "id": "bv6xU4WBGWnM"
      }
    },
    {
      "cell_type": "code",
      "source": [
        "x = input(\"Enter your name\")\n",
        "print(x)"
      ],
      "metadata": {
        "colab": {
          "base_uri": "https://localhost:8080/"
        },
        "id": "vVP-SCrTGaFu",
        "outputId": "e02ba31c-030f-4bf2-eb22-69214ca2bc09"
      },
      "execution_count": null,
      "outputs": [
        {
          "output_type": "stream",
          "name": "stdout",
          "text": [
            "Enter your nameanil\n",
            "anil\n"
          ]
        }
      ]
    },
    {
      "cell_type": "code",
      "source": [
        "x = input(\"enter your age\")\n",
        "print(\"your age is\",x)"
      ],
      "metadata": {
        "colab": {
          "base_uri": "https://localhost:8080/"
        },
        "id": "KaWuYBjAHEug",
        "outputId": "5ce90a17-82bd-4b7b-8ce9-e98d9b09479d"
      },
      "execution_count": null,
      "outputs": [
        {
          "output_type": "stream",
          "name": "stdout",
          "text": [
            "enter your age21\n",
            "your age is 21\n"
          ]
        }
      ]
    },
    {
      "cell_type": "markdown",
      "source": [
        "### **Control Flow Statement in python **"
      ],
      "metadata": {
        "id": "NodKPl3lu0Ma"
      }
    },
    {
      "cell_type": "markdown",
      "source": [
        "there are two words the first is flow and the second is control from a technical prespective , we cam say that flow is nothing but many statements consisting of multiples operations which need tobe executed . for example adding 10 numbers and finding the mean of the number."
      ],
      "metadata": {
        "id": "1rZpi3qFvJlP"
      }
    },
    {
      "cell_type": "markdown",
      "source": [
        "there are three types of control flow staement"
      ],
      "metadata": {
        "id": "2O0j3ZXqxS-r"
      }
    },
    {
      "cell_type": "markdown",
      "source": [
        "1. Conditional statement\n",
        "2. Transfer statements\n",
        "3. iterative statements"
      ],
      "metadata": {
        "id": "1g2JjCOJxeVe"
      }
    },
    {
      "cell_type": "markdown",
      "source": [
        "1. conditional Statements\n",
        "\n",
        ". if\n",
        ". if-else\n",
        ". if-elif-else\n",
        ". nested if-else"
      ],
      "metadata": {
        "id": "g7ybnu0SxuAh"
      }
    },
    {
      "cell_type": "markdown",
      "source": [
        "2.Transfer Statements\n",
        ". break\n",
        ". continue\n",
        ". pass"
      ],
      "metadata": {
        "id": "uojZpXLYyI5m"
      }
    },
    {
      "cell_type": "markdown",
      "source": [
        "3. iterative statements\n",
        ". for\n",
        ". while"
      ],
      "metadata": {
        "id": "5mZWNKgBy353"
      }
    },
    {
      "cell_type": "markdown",
      "source": [
        "if statements : the if statement is the most simple decision making statement it is used to decide wheather a certain statement or block of statement will be executed or not\n",
        "\n",
        "syntax:\n",
        "if condition\n",
        "   statement1\n",
        " statement2\n",
        "\n"
      ],
      "metadata": {
        "id": "I-9rC55szCNW"
      }
    },
    {
      "cell_type": "markdown",
      "source": [
        "Write a program to calculate the percentage of a student in the subjects maths , science , social , english , and hindi"
      ],
      "metadata": {
        "id": "egZT1t5r1C3P"
      }
    },
    {
      "cell_type": "code",
      "source": [
        "x = input(\"Enter the name of the student\")\n",
        "a = int(input(\"enter the maerks scored in english\"))\n",
        "b = int(input(\"enter the maerks scored in maths\"))\n",
        "c = int(input(\"enter the maerks scored in social\"))\n",
        "d = int(input(\"enter the maerks scored in hindi\"))\n",
        "e = int(input(\"enter the maerks scored in science\"))\n",
        "n = ((a+b+c+d+e)/500)*100\n",
        "print(\"the percent scored by student is \", n)"
      ],
      "metadata": {
        "colab": {
          "base_uri": "https://localhost:8080/"
        },
        "id": "MWPM9OAs1YS4",
        "outputId": "c416c9f9-e4ae-4891-e852-c60ed4f389ae"
      },
      "execution_count": 2,
      "outputs": [
        {
          "output_type": "stream",
          "name": "stdout",
          "text": [
            "Enter the name of the studentanil\n",
            "enter the maerks scored in english87\n",
            "enter the maerks scored in maths94\n",
            "enter the maerks scored in social86\n",
            "enter the maerks scored in hindi90\n",
            "enter the maerks scored in science69\n",
            "the percent scored by student is  85.2\n"
          ]
        }
      ]
    },
    {
      "cell_type": "code",
      "source": [
        "a = int(input(\"enter the percentage scored by a student\"))\n",
        "\n",
        "if a>=90:\n",
        "   print(\"A grade\")\n",
        "if a>=75 and a<90:\n",
        "   print(\"B grade\")\n",
        "if a>=65 and a<=75:\n",
        "   print(\"C grade\")"
      ],
      "metadata": {
        "colab": {
          "base_uri": "https://localhost:8080/"
        },
        "id": "AiXXqiWP6WaD",
        "outputId": "f665e3f2-9cfd-4f47-d47b-287b5f9abfef"
      },
      "execution_count": 6,
      "outputs": [
        {
          "output_type": "stream",
          "name": "stdout",
          "text": [
            "enter the percentage scored by a student75\n",
            "B grade\n",
            "C grade\n"
          ]
        }
      ]
    },
    {
      "cell_type": "markdown",
      "source": [
        "## If else statement"
      ],
      "metadata": {
        "id": "mKLpkKJX8wSi"
      }
    },
    {
      "cell_type": "markdown",
      "source": [
        "write a program to display hello if number entered by a user is a multiple of 5 else print bye"
      ],
      "metadata": {
        "id": "mK14EGMF86K5"
      }
    },
    {
      "cell_type": "code",
      "source": [
        "a = int(input(\"enter the number \"))\n",
        "if a%5==0:\n",
        "    print(\"hello\")\n",
        "else:\n",
        "    print(\"bye\")"
      ],
      "metadata": {
        "colab": {
          "base_uri": "https://localhost:8080/"
        },
        "id": "373OmvZk847a",
        "outputId": "6a93cb9e-6185-4ae8-aa06-0dc6bb7e68c2"
      },
      "execution_count": 10,
      "outputs": [
        {
          "output_type": "stream",
          "name": "stdout",
          "text": [
            "enter the number 45\n",
            "hello\n"
          ]
        }
      ]
    },
    {
      "cell_type": "code",
      "source": [
        "a = int(input(\"enter the number \"))\n",
        "if a>0:\n",
        "    print(\"positive number\")\n",
        "else:\n",
        "    print(\"negative number\")"
      ],
      "metadata": {
        "colab": {
          "base_uri": "https://localhost:8080/"
        },
        "id": "zatbhdLB-TeZ",
        "outputId": "5524b417-634f-4e84-829d-ac1b417e6897"
      },
      "execution_count": 11,
      "outputs": [
        {
          "output_type": "stream",
          "name": "stdout",
          "text": [
            "enter the number 25\n",
            "positive number\n"
          ]
        }
      ]
    },
    {
      "cell_type": "markdown",
      "source": [
        "## if elif else statement"
      ],
      "metadata": {
        "id": "pDWfs7pG_ISM"
      }
    },
    {
      "cell_type": "markdown",
      "source": [
        " accept the city and print its monument:\n",
        "  Delhi - Red fort\n",
        "  Agra - Taj Mahal\n",
        "  Jaipur - jalmehal\n",
        "  Orissa - Konak Temple\n",
        "  Hydherabad - charminar\n",
        "  Other - Record not found\n"
      ],
      "metadata": {
        "id": "DwMK4AGqCcoY"
      }
    },
    {
      "cell_type": "code",
      "source": [
        "city = input(\"enter the city\")\n",
        "if city == \"Delhi\":\n",
        "    print(\"The monument in Delhi is Redfort\")\n",
        "elif city == \"Agra\":\n",
        "    print(\"The monument in Agra is Tajmahal\")\n",
        "elif city == \"jaipur\":\n",
        "   print(\"The monument in jaipur is jalmahal\")"
      ],
      "metadata": {
        "colab": {
          "base_uri": "https://localhost:8080/"
        },
        "id": "XAfe6ZqtDE43",
        "outputId": "4b236435-4973-4222-81da-e8cfe3c14fec"
      },
      "execution_count": 18,
      "outputs": [
        {
          "output_type": "stream",
          "name": "stdout",
          "text": [
            "enter the cityAgra\n",
            "The monument in Agra is Tajmahal\n"
          ]
        }
      ]
    },
    {
      "cell_type": "markdown",
      "source": [],
      "metadata": {
        "id": "hjs3HI-M6Tog"
      }
    }
  ]
}