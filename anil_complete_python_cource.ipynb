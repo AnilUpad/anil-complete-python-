{
  "nbformat": 4,
  "nbformat_minor": 0,
  "metadata": {
    "colab": {
      "provenance": [],
      "authorship_tag": "ABX9TyPWyU9DQDrs6Ae3A16C78im",
      "include_colab_link": true
    },
    "kernelspec": {
      "name": "python3",
      "display_name": "Python 3"
    },
    "language_info": {
      "name": "python"
    }
  },
  "cells": [
    {
      "cell_type": "markdown",
      "metadata": {
        "id": "view-in-github",
        "colab_type": "text"
      },
      "source": [
        "<a href=\"https://colab.research.google.com/github/AnilUpad/anil-complete-python-/blob/main/anil_complete_python_cource.ipynb\" target=\"_parent\"><img src=\"https://colab.research.google.com/assets/colab-badge.svg\" alt=\"Open In Colab\"/></a>"
      ]
    },
    {
      "cell_type": "markdown",
      "source": [
        "## Variables and operators in python"
      ],
      "metadata": {
        "id": "2CLJ8YTgYnFO"
      }
    },
    {
      "cell_type": "markdown",
      "source": [
        "# Variables"
      ],
      "metadata": {
        "id": "rchwlJJsZGV3"
      }
    },
    {
      "cell_type": "markdown",
      "source": [
        "python varoables is containers that store values. python is not statically typed we do not need to declare variable before using them to declare their typpe. it is a basic unit of storage in a program"
      ],
      "metadata": {
        "id": "JSro7GfkchUQ"
      }
    },
    {
      "cell_type": "markdown",
      "source": [
        "# Variable names"
      ],
      "metadata": {
        "id": "7bNzMgz1dBtm"
      }
    },
    {
      "cell_type": "markdown",
      "source": [
        "# A variable can have a short name (like x and y) or a more descriptive name (age,carname,total_volume).Rules for python variables."
      ],
      "metadata": {
        "id": "6XwmVANvdF9q"
      }
    },
    {
      "cell_type": "markdown",
      "source": [
        ".variable name must start with a letter or the unerscore charecter\n",
        ".A variable name cannot start with a number\n",
        ".A variable name can only contain alpha numeric charecters and underscore (A-z,0-9, and _)"
      ],
      "metadata": {
        "id": "UCCoE13ndfrL"
      }
    },
    {
      "cell_type": "code",
      "source": [
        "x = 5\n",
        "y = \"john\"\n",
        "print(x)\n",
        "print(y)"
      ],
      "metadata": {
        "colab": {
          "base_uri": "https://localhost:8080/"
        },
        "id": "ZuoELBiefeR-",
        "outputId": "d5d5db1f-cb38-4e50-dbdc-bd2e692bf7cd"
      },
      "execution_count": null,
      "outputs": [
        {
          "output_type": "stream",
          "name": "stdout",
          "text": [
            "5\n",
            "john\n"
          ]
        }
      ]
    },
    {
      "cell_type": "code",
      "source": [
        "a = 1\n",
        "print(a)"
      ],
      "metadata": {
        "colab": {
          "base_uri": "https://localhost:8080/"
        },
        "id": "pUH0mf0Vgadq",
        "outputId": "b88a6c5a-04df-4fe7-f679-4a00ef142290"
      },
      "execution_count": null,
      "outputs": [
        {
          "output_type": "stream",
          "name": "stdout",
          "text": [
            "1\n"
          ]
        }
      ]
    },
    {
      "cell_type": "code",
      "source": [
        "b = 2\n",
        "c = 2.3\n",
        "print(b,c)"
      ],
      "metadata": {
        "colab": {
          "base_uri": "https://localhost:8080/"
        },
        "id": "GwLwC-MTgzUD",
        "outputId": "114ede08-e3e8-43d3-c447-51d870505832"
      },
      "execution_count": null,
      "outputs": [
        {
          "output_type": "stream",
          "name": "stdout",
          "text": [
            "2 2.3\n"
          ]
        }
      ]
    },
    {
      "cell_type": "code",
      "source": [
        "x = \"apple\"\n",
        "print(x)"
      ],
      "metadata": {
        "colab": {
          "base_uri": "https://localhost:8080/"
        },
        "id": "S61oACBLg_1C",
        "outputId": "ef59dfd1-86e9-4012-c6fc-d0ffe11f98cb"
      },
      "execution_count": null,
      "outputs": [
        {
          "output_type": "stream",
          "name": "stdout",
          "text": [
            "apple\n"
          ]
        }
      ]
    },
    {
      "cell_type": "code",
      "source": [
        "student = 23\n",
        "print(student)"
      ],
      "metadata": {
        "colab": {
          "base_uri": "https://localhost:8080/"
        },
        "id": "7xtPn3WRhOR9",
        "outputId": "fe14f460-bb31-4615-c554-ff3bdd19f80a"
      },
      "execution_count": null,
      "outputs": [
        {
          "output_type": "stream",
          "name": "stdout",
          "text": [
            "23\n"
          ]
        }
      ]
    },
    {
      "cell_type": "code",
      "source": [
        "student123 = 25\n",
        "print(student123)\n"
      ],
      "metadata": {
        "colab": {
          "base_uri": "https://localhost:8080/"
        },
        "id": "qOZ2WcRXhfWR",
        "outputId": "7498aad2-1db2-4f61-f3ad-5177413510ec"
      },
      "execution_count": null,
      "outputs": [
        {
          "output_type": "stream",
          "name": "stdout",
          "text": [
            "25\n"
          ]
        }
      ]
    },
    {
      "cell_type": "code",
      "source": [
        "_a = 5\n",
        "print(_a)"
      ],
      "metadata": {
        "colab": {
          "base_uri": "https://localhost:8080/"
        },
        "id": "a7vTnQoHiEf3",
        "outputId": "1f2f343d-b0b7-43ae-dbbe-09aba603f408"
      },
      "execution_count": null,
      "outputs": [
        {
          "output_type": "stream",
          "name": "stdout",
          "text": [
            "5\n"
          ]
        }
      ]
    },
    {
      "cell_type": "markdown",
      "source": [
        "# many values to multiple values"
      ],
      "metadata": {
        "id": "orLBJCWTiZt7"
      }
    },
    {
      "cell_type": "code",
      "source": [
        "x,y,z = \"orange\",\"banana\",\"cherry\"\n",
        "print(x,y,z)"
      ],
      "metadata": {
        "colab": {
          "base_uri": "https://localhost:8080/"
        },
        "id": "eZkAnhsKifhf",
        "outputId": "eff64018-e139-4417-c014-b3c876339c96"
      },
      "execution_count": null,
      "outputs": [
        {
          "output_type": "stream",
          "name": "stdout",
          "text": [
            "orange banana cherry\n"
          ]
        }
      ]
    },
    {
      "cell_type": "code",
      "source": [
        "x = y= z = \"orange\"\n",
        "print(x)\n",
        "print(y)\n",
        "print(z)"
      ],
      "metadata": {
        "colab": {
          "base_uri": "https://localhost:8080/"
        },
        "id": "XN1gBKpIkVLT",
        "outputId": "69abf43d-fe76-4721-f37f-24314a399c73"
      },
      "execution_count": null,
      "outputs": [
        {
          "output_type": "stream",
          "name": "stdout",
          "text": [
            "orange\n",
            "orange\n",
            "orange\n"
          ]
        }
      ]
    },
    {
      "cell_type": "markdown",
      "source": [
        "# python output variables"
      ],
      "metadata": {
        "id": "qw83EEmpksJ0"
      }
    },
    {
      "cell_type": "code",
      "source": [
        "x = \"python\"\n",
        "y = \"is\"\n",
        "z = \"amazing\"\n",
        "print(x,y,z)\n",
        "\n",
        "print()\n",
        "\n",
        "print(x)\n",
        "print(y)\n",
        "print(z)"
      ],
      "metadata": {
        "colab": {
          "base_uri": "https://localhost:8080/"
        },
        "id": "79Bka2Q_kxcV",
        "outputId": "494b358e-00e8-4dc9-f68c-579ea06a5ed9"
      },
      "execution_count": null,
      "outputs": [
        {
          "output_type": "stream",
          "name": "stdout",
          "text": [
            "python is amazing\n",
            "\n",
            "python\n",
            "is\n",
            "amazing\n"
          ]
        }
      ]
    },
    {
      "cell_type": "markdown",
      "source": [
        "# Data Types"
      ],
      "metadata": {
        "id": "vuJZh423larD"
      }
    },
    {
      "cell_type": "markdown",
      "source": [
        "# variables can store the data of different types and different types can do different\n"
      ],
      "metadata": {
        "id": "mag9z1E8lqAN"
      }
    },
    {
      "cell_type": "markdown",
      "source": [
        "Test type : str"
      ],
      "metadata": {
        "id": "lWZZ_OHHl-k4"
      }
    },
    {
      "cell_type": "markdown",
      "source": [
        "Numeric types : int , float, complex"
      ],
      "metadata": {
        "id": "5RaLx7Q5mDxW"
      }
    },
    {
      "cell_type": "markdown",
      "source": [
        "sequence type : list,tuple,range"
      ],
      "metadata": {
        "id": "CEjCGcSGmKCV"
      }
    },
    {
      "cell_type": "markdown",
      "source": [
        "Mapping type : dictionary"
      ],
      "metadata": {
        "id": "kE9iH5bDmfDb"
      }
    },
    {
      "cell_type": "markdown",
      "source": [
        "set Ttypes : set frozenset"
      ],
      "metadata": {
        "id": "O5UIcMCFmltt"
      }
    },
    {
      "cell_type": "markdown",
      "source": [
        "boolean type : bool"
      ],
      "metadata": {
        "id": "dFOXAxNXmruO"
      }
    },
    {
      "cell_type": "markdown",
      "source": [
        "Binary types : bytes, bytearray,memoryview"
      ],
      "metadata": {
        "id": "f8fXvKWumvzZ"
      }
    },
    {
      "cell_type": "code",
      "source": [
        "x = 2\n",
        "print(x)\n",
        "print(type(x))"
      ],
      "metadata": {
        "colab": {
          "base_uri": "https://localhost:8080/"
        },
        "id": "oEjYc8qan6ti",
        "outputId": "bca5657d-6afd-4911-d47f-82a4a6c58e96"
      },
      "execution_count": null,
      "outputs": [
        {
          "output_type": "stream",
          "name": "stdout",
          "text": [
            "2\n",
            "<class 'int'>\n"
          ]
        }
      ]
    },
    {
      "cell_type": "code",
      "source": [
        "y = 4.5\n",
        "print(y)\n",
        "print(type(y))"
      ],
      "metadata": {
        "colab": {
          "base_uri": "https://localhost:8080/"
        },
        "id": "feSUUMsxoDWN",
        "outputId": "195123c5-47f1-4877-b7c8-acc5007ac31e"
      },
      "execution_count": null,
      "outputs": [
        {
          "output_type": "stream",
          "name": "stdout",
          "text": [
            "4.5\n",
            "<class 'float'>\n"
          ]
        }
      ]
    },
    {
      "cell_type": "code",
      "source": [
        "z = 2+5j\n",
        "print(z)\n",
        "print(type(z))"
      ],
      "metadata": {
        "colab": {
          "base_uri": "https://localhost:8080/"
        },
        "id": "h-5qgt2QoaHN",
        "outputId": "4a9529c1-ac8b-4047-ee25-e7707e30b84f"
      },
      "execution_count": null,
      "outputs": [
        {
          "output_type": "stream",
          "name": "stdout",
          "text": [
            "(2+5j)\n",
            "<class 'complex'>\n"
          ]
        }
      ]
    },
    {
      "cell_type": "code",
      "source": [
        "a = \"this is the day 2 of python class\"\n",
        "print(a)\n",
        "print(type(a))"
      ],
      "metadata": {
        "colab": {
          "base_uri": "https://localhost:8080/"
        },
        "id": "03WE55-DpwME",
        "outputId": "3f83af07-fb7f-4b05-d5bb-06312ba0eb11"
      },
      "execution_count": null,
      "outputs": [
        {
          "output_type": "stream",
          "name": "stdout",
          "text": [
            "this is the day 2 of python class\n",
            "<class 'str'>\n"
          ]
        }
      ]
    },
    {
      "cell_type": "code",
      "source": [
        "b = [1,2,3,4.5,6,7,8,9,10]\n",
        "print(b)\n",
        "print(type(b))"
      ],
      "metadata": {
        "colab": {
          "base_uri": "https://localhost:8080/"
        },
        "id": "mw0n8DYnpCjx",
        "outputId": "859c8254-81ff-4594-c432-4f8204c091dd"
      },
      "execution_count": null,
      "outputs": [
        {
          "output_type": "stream",
          "name": "stdout",
          "text": [
            "[1, 2, 3, 4.5, 6, 7, 8, 9, 10]\n",
            "<class 'list'>\n"
          ]
        }
      ]
    },
    {
      "cell_type": "code",
      "source": [
        "b = (1,2,3,4.5,6,7,8,9,10)\n",
        "print(b)\n",
        "print(type(b))"
      ],
      "metadata": {
        "colab": {
          "base_uri": "https://localhost:8080/"
        },
        "id": "OLmBKDAIqiiW",
        "outputId": "63b64248-bbfe-444e-fd55-b6419314d4c5"
      },
      "execution_count": null,
      "outputs": [
        {
          "output_type": "stream",
          "name": "stdout",
          "text": [
            "(1, 2, 3, 4.5, 6, 7, 8, 9, 10)\n",
            "<class 'tuple'>\n"
          ]
        }
      ]
    },
    {
      "cell_type": "code",
      "source": [
        "%whos"
      ],
      "metadata": {
        "colab": {
          "base_uri": "https://localhost:8080/"
        },
        "id": "zgCuGnmyq1Zr",
        "outputId": "0948831a-9332-4186-f12a-dd82a31fec5a"
      },
      "execution_count": null,
      "outputs": [
        {
          "output_type": "stream",
          "name": "stdout",
          "text": [
            "Variable     Type       Data/Info\n",
            "---------------------------------\n",
            "a            str        this is the day 2 of python class\n",
            "b            tuple      n=9\n",
            "c            float      2.3\n",
            "student      int        23\n",
            "student123   int        25\n",
            "x            int        2\n",
            "y            float      4.5\n",
            "z            complex    (2+5j)\n"
          ]
        }
      ]
    },
    {
      "cell_type": "markdown",
      "source": [
        "# operators in python"
      ],
      "metadata": {
        "id": "84jOfMNnrNpe"
      }
    },
    {
      "cell_type": "markdown",
      "source": [
        "Operators: These are the special symbols.Eg +,*,/,-"
      ],
      "metadata": {
        "id": "YeR1DhDaraFa"
      }
    },
    {
      "cell_type": "markdown",
      "source": [
        "# Types of operators in python"
      ],
      "metadata": {
        "id": "EN5anEI2rw45"
      }
    },
    {
      "cell_type": "markdown",
      "source": [
        "Arithmetic operators\n",
        "Comparision operators\n",
        "Logical operators\n",
        "Bitwise operators\n",
        "Assignment operators\n",
        "identify operators and memebership operators"
      ],
      "metadata": {
        "id": "ODbL1KbRr2pt"
      }
    },
    {
      "cell_type": "code",
      "source": [
        "a= 5\n",
        "b= 4\n",
        "print(a+b)"
      ],
      "metadata": {
        "colab": {
          "base_uri": "https://localhost:8080/"
        },
        "id": "UQt82JBPsWuc",
        "outputId": "15460c50-1a6d-417d-8171-f0456811932b"
      },
      "execution_count": null,
      "outputs": [
        {
          "output_type": "stream",
          "name": "stdout",
          "text": [
            "9\n"
          ]
        }
      ]
    },
    {
      "cell_type": "code",
      "source": [
        "a= 4\n",
        "b = 2.5\n",
        "print(a+b)"
      ],
      "metadata": {
        "colab": {
          "base_uri": "https://localhost:8080/"
        },
        "id": "FOUPk7IxseJm",
        "outputId": "ec5f8b61-d5eb-4c46-b369-f957549ac9ee"
      },
      "execution_count": null,
      "outputs": [
        {
          "output_type": "stream",
          "name": "stdout",
          "text": [
            "6.5\n"
          ]
        }
      ]
    },
    {
      "cell_type": "code",
      "source": [
        "a = 5 + 2j\n",
        "b = 4\n",
        "print(a+b)"
      ],
      "metadata": {
        "colab": {
          "base_uri": "https://localhost:8080/"
        },
        "id": "Jz-oCjPLstNe",
        "outputId": "6da6fc40-48ff-4e44-e86b-aca753775776"
      },
      "execution_count": null,
      "outputs": [
        {
          "output_type": "stream",
          "name": "stdout",
          "text": [
            "(9+2j)\n"
          ]
        }
      ]
    },
    {
      "cell_type": "code",
      "source": [
        "a = \"hello\"\n",
        "b = \"student\"\n",
        "print(a+b)"
      ],
      "metadata": {
        "colab": {
          "base_uri": "https://localhost:8080/"
        },
        "id": "rniztxazs-qu",
        "outputId": "a614feda-69e6-466c-aece-524c0aa9168e"
      },
      "execution_count": null,
      "outputs": [
        {
          "output_type": "stream",
          "name": "stdout",
          "text": [
            "hellostudent\n"
          ]
        }
      ]
    },
    {
      "cell_type": "code",
      "source": [
        "a = 15\n",
        "b = 16\n",
        "print(a-b)"
      ],
      "metadata": {
        "colab": {
          "base_uri": "https://localhost:8080/"
        },
        "id": "GHWYENFztRBO",
        "outputId": "cf1de378-6db3-4f97-961c-e34ae44e2d97"
      },
      "execution_count": null,
      "outputs": [
        {
          "output_type": "stream",
          "name": "stdout",
          "text": [
            "-1\n"
          ]
        }
      ]
    },
    {
      "cell_type": "code",
      "source": [
        "a = 5+6j\n",
        "b = 3\n",
        "print(a-b)"
      ],
      "metadata": {
        "colab": {
          "base_uri": "https://localhost:8080/"
        },
        "id": "ETHi705NtaCv",
        "outputId": "a2a64d65-efa9-4b37-f0b9-aa69ac5a86b6"
      },
      "execution_count": null,
      "outputs": [
        {
          "output_type": "stream",
          "name": "stdout",
          "text": [
            "(2+6j)\n"
          ]
        }
      ]
    },
    {
      "cell_type": "code",
      "source": [
        "a = 15\n",
        "b = 56\n",
        "print(a*b)"
      ],
      "metadata": {
        "colab": {
          "base_uri": "https://localhost:8080/"
        },
        "id": "UBwaqg0xtqpi",
        "outputId": "65fb483c-cebb-4103-8a9d-b98317fe6bdc"
      },
      "execution_count": null,
      "outputs": [
        {
          "output_type": "stream",
          "name": "stdout",
          "text": [
            "840\n"
          ]
        }
      ]
    },
    {
      "cell_type": "code",
      "source": [
        "a = 46.654\n",
        "b = 34.645\n",
        "print(a*b)"
      ],
      "metadata": {
        "colab": {
          "base_uri": "https://localhost:8080/"
        },
        "id": "V16h-rn3t8aC",
        "outputId": "56553044-011c-4ee6-c8be-70be6dcbeac5"
      },
      "execution_count": null,
      "outputs": [
        {
          "output_type": "stream",
          "name": "stdout",
          "text": [
            "1616.3278300000002\n"
          ]
        }
      ]
    },
    {
      "cell_type": "code",
      "source": [
        "a = 10\n",
        "b = 5\n",
        "print(a/b)"
      ],
      "metadata": {
        "colab": {
          "base_uri": "https://localhost:8080/"
        },
        "id": "s0NQkzDKuFuB",
        "outputId": "d621f99b-c480-43ae-bc7e-18b071334bfe"
      },
      "execution_count": null,
      "outputs": [
        {
          "output_type": "stream",
          "name": "stdout",
          "text": [
            "2.0\n"
          ]
        }
      ]
    },
    {
      "cell_type": "markdown",
      "source": [
        "# modulas(reaminder)"
      ],
      "metadata": {
        "id": "eJymcAYRuOSk"
      }
    },
    {
      "cell_type": "code",
      "source": [
        "a = 19\n",
        "b = 3\n",
        "print(a%b)"
      ],
      "metadata": {
        "colab": {
          "base_uri": "https://localhost:8080/"
        },
        "id": "L75V2VeNuTzK",
        "outputId": "54660c83-c87f-4e4c-da6a-4d9e7b77dc6e"
      },
      "execution_count": null,
      "outputs": [
        {
          "output_type": "stream",
          "name": "stdout",
          "text": [
            "1\n"
          ]
        }
      ]
    },
    {
      "cell_type": "code",
      "source": [
        "a = 12\n",
        "b = 4\n",
        "print(a%b)"
      ],
      "metadata": {
        "colab": {
          "base_uri": "https://localhost:8080/"
        },
        "id": "lvRS7c12ue-Y",
        "outputId": "ca127fc0-6d4d-4e78-a745-fe447c43bb5d"
      },
      "execution_count": null,
      "outputs": [
        {
          "output_type": "stream",
          "name": "stdout",
          "text": [
            "0\n"
          ]
        }
      ]
    },
    {
      "cell_type": "markdown",
      "source": [
        "# exponent"
      ],
      "metadata": {
        "id": "Jzgqq3uwupAY"
      }
    },
    {
      "cell_type": "code",
      "source": [
        "a = 41256789\n",
        "print(a**55)"
      ],
      "metadata": {
        "colab": {
          "base_uri": "https://localhost:8080/"
        },
        "id": "l4eCSxRGurrP",
        "outputId": "a892f91e-2bf3-4f50-9ab8-d3c2ff116c0f"
      },
      "execution_count": null,
      "outputs": [
        {
          "output_type": "stream",
          "name": "stdout",
          "text": [
            "71162028433520217717099884851404495326786614148274137562533191244754226421072922193229393035406290047490322006127486170528820460414671897074184746917638236810663780872933871199771053029074871072046645088603300420278272474373361352870797685329285463690039885441075398107839063255747535400015566353549647882767414182717586010912021318113386679928289227315380064286145450539958069165193638416244911434618495833200180049949\n"
          ]
        }
      ]
    },
    {
      "cell_type": "code",
      "source": [
        "a = ((859*78)+(78.256/89)+(856**67)+(145698-7526))\n",
        "print(a)"
      ],
      "metadata": {
        "colab": {
          "base_uri": "https://localhost:8080/"
        },
        "id": "Vh9zFxjmvFlz",
        "outputId": "003a2212-a42c-46f8-b334-1082f0cfdb4d"
      },
      "execution_count": null,
      "outputs": [
        {
          "output_type": "stream",
          "name": "stdout",
          "text": [
            "2.990489165920469e+196\n"
          ]
        }
      ]
    },
    {
      "cell_type": "markdown",
      "source": [
        "# Types of function in python"
      ],
      "metadata": {
        "id": "8CQnK60B71Ha"
      }
    },
    {
      "cell_type": "markdown",
      "source": [
        ". Built in functions in python\n",
        ". Python Recursive function\n",
        ". python Lambda  function\n",
        ". User defined function"
      ],
      "metadata": {
        "id": "UjqTd-UJ783a"
      }
    },
    {
      "cell_type": "markdown",
      "source": [
        "built in function in python"
      ],
      "metadata": {
        "id": "RT71nQ1N8Rwe"
      }
    },
    {
      "cell_type": "markdown",
      "source": [
        "#abs()function(it show absolute value)"
      ],
      "metadata": {
        "id": "ZnLX43Up-m_N"
      }
    },
    {
      "cell_type": "code",
      "source": [
        "x = abs(-7.25)\n",
        "print(x)"
      ],
      "metadata": {
        "colab": {
          "base_uri": "https://localhost:8080/"
        },
        "id": "K5G9ST7_-rWF",
        "outputId": "78a496e2-191c-4cfe-d8b0-912f62b0b698"
      },
      "execution_count": null,
      "outputs": [
        {
          "output_type": "stream",
          "name": "stdout",
          "text": [
            "7.25\n"
          ]
        }
      ]
    },
    {
      "cell_type": "code",
      "source": [
        "y = abs(-8)\n",
        "print(y)"
      ],
      "metadata": {
        "colab": {
          "base_uri": "https://localhost:8080/"
        },
        "id": "Mgc1k457-ltc",
        "outputId": "fc4e6ee4-9475-4912-9955-31ca9caa31f7"
      },
      "execution_count": null,
      "outputs": [
        {
          "output_type": "stream",
          "name": "stdout",
          "text": [
            "8\n"
          ]
        }
      ]
    },
    {
      "cell_type": "code",
      "source": [
        "z = abs(3+5j)\n",
        "print(z)"
      ],
      "metadata": {
        "colab": {
          "base_uri": "https://localhost:8080/"
        },
        "id": "1SE_NOHE_SnI",
        "outputId": "aeb28a85-fabc-4d82-898e-45db6840fb25"
      },
      "execution_count": null,
      "outputs": [
        {
          "output_type": "stream",
          "name": "stdout",
          "text": [
            "5.830951894845301\n"
          ]
        }
      ]
    },
    {
      "cell_type": "markdown",
      "source": [
        "Binary function"
      ],
      "metadata": {
        "id": "-rgdRPf1_bKX"
      }
    },
    {
      "cell_type": "code",
      "source": [
        "x = bin(12)\n",
        "print(x)"
      ],
      "metadata": {
        "colab": {
          "base_uri": "https://localhost:8080/"
        },
        "id": "o9goMt-q_fNN",
        "outputId": "df718b23-758c-42e8-c7bc-fd67d08bb302"
      },
      "execution_count": null,
      "outputs": [
        {
          "output_type": "stream",
          "name": "stdout",
          "text": [
            "0b1100\n"
          ]
        }
      ]
    },
    {
      "cell_type": "code",
      "source": [
        "y = bin(36)\n",
        "print(y)"
      ],
      "metadata": {
        "colab": {
          "base_uri": "https://localhost:8080/"
        },
        "id": "Pw4JvRsf_4X2",
        "outputId": "5fd0aeb3-5ba9-48f6-e3ae-693e38989ea1"
      },
      "execution_count": null,
      "outputs": [
        {
          "output_type": "stream",
          "name": "stdout",
          "text": [
            "0b100100\n"
          ]
        }
      ]
    },
    {
      "cell_type": "code",
      "source": [
        "z = bin(56)\n",
        "print(z)"
      ],
      "metadata": {
        "colab": {
          "base_uri": "https://localhost:8080/"
        },
        "id": "KAh6Iy-AAdyJ",
        "outputId": "e8f55b6b-1937-4aef-e53a-7eef4c9ffbc2"
      },
      "execution_count": null,
      "outputs": [
        {
          "output_type": "stream",
          "name": "stdout",
          "text": [
            "0b111000\n"
          ]
        }
      ]
    },
    {
      "cell_type": "markdown",
      "source": [
        "Bytes function"
      ],
      "metadata": {
        "id": "Cd-cM2FvBD-w"
      }
    },
    {
      "cell_type": "code",
      "source": [
        "x = bytes(4)\n",
        "print(x)"
      ],
      "metadata": {
        "colab": {
          "base_uri": "https://localhost:8080/"
        },
        "id": "541WrFEmBGWz",
        "outputId": "ed6577b0-3fc0-4bef-c65b-df88fce26fc5"
      },
      "execution_count": null,
      "outputs": [
        {
          "output_type": "stream",
          "name": "stdout",
          "text": [
            "b'\\x00\\x00\\x00\\x00'\n"
          ]
        }
      ]
    },
    {
      "cell_type": "code",
      "source": [
        "y = bytes(16)\n",
        "print(y)"
      ],
      "metadata": {
        "colab": {
          "base_uri": "https://localhost:8080/"
        },
        "id": "FLwgngrtBeD-",
        "outputId": "ba9eed24-3c70-450d-b255-e947e48a9eb8"
      },
      "execution_count": null,
      "outputs": [
        {
          "output_type": "stream",
          "name": "stdout",
          "text": [
            "b'\\x00\\x00\\x00\\x00\\x00\\x00\\x00\\x00\\x00\\x00\\x00\\x00\\x00\\x00\\x00\\x00'\n"
          ]
        }
      ]
    },
    {
      "cell_type": "markdown",
      "source": [
        "charecter function"
      ],
      "metadata": {
        "id": "X2B10pPQBltt"
      }
    },
    {
      "cell_type": "code",
      "source": [
        "x = chr(98)\n",
        "print(x)"
      ],
      "metadata": {
        "colab": {
          "base_uri": "https://localhost:8080/"
        },
        "id": "KMFwlhtZBq-r",
        "outputId": "2dccad52-0bd5-440d-cdbc-f953c0688aeb"
      },
      "execution_count": null,
      "outputs": [
        {
          "output_type": "stream",
          "name": "stdout",
          "text": [
            "b\n"
          ]
        }
      ]
    },
    {
      "cell_type": "code",
      "source": [
        "y = chr(96)\n",
        "print(y)"
      ],
      "metadata": {
        "colab": {
          "base_uri": "https://localhost:8080/"
        },
        "id": "EhidFkwACUkn",
        "outputId": "6e89a1e3-8962-4519-a760-c36ac0a1bf2a"
      },
      "execution_count": null,
      "outputs": [
        {
          "output_type": "stream",
          "name": "stdout",
          "text": [
            "`\n"
          ]
        }
      ]
    },
    {
      "cell_type": "markdown",
      "source": [
        "Complex function"
      ],
      "metadata": {
        "id": "BTdlx-0GC-gy"
      }
    },
    {
      "cell_type": "code",
      "source": [
        "x = complex(3,5)\n",
        "print(x)"
      ],
      "metadata": {
        "colab": {
          "base_uri": "https://localhost:8080/"
        },
        "id": "IwgM5khVDBNz",
        "outputId": "35beb14f-139c-4699-86c0-e01768cdf4bf"
      },
      "execution_count": null,
      "outputs": [
        {
          "output_type": "stream",
          "name": "stdout",
          "text": [
            "(3+5j)\n"
          ]
        }
      ]
    },
    {
      "cell_type": "code",
      "source": [
        "y = complex(2.5,3.96)\n",
        "print(y)"
      ],
      "metadata": {
        "colab": {
          "base_uri": "https://localhost:8080/"
        },
        "id": "kFZbSAK8DyYa",
        "outputId": "57568f91-978e-4865-a9f7-3f8eed7d6f1f"
      },
      "execution_count": null,
      "outputs": [
        {
          "output_type": "stream",
          "name": "stdout",
          "text": [
            "(2.5+3.96j)\n"
          ]
        }
      ]
    },
    {
      "cell_type": "markdown",
      "source": [],
      "metadata": {
        "id": "7H2G87wK93L8"
      }
    },
    {
      "cell_type": "code",
      "source": [
        "z = complex('2')\n",
        "print(z)"
      ],
      "metadata": {
        "colab": {
          "base_uri": "https://localhost:8080/"
        },
        "id": "4zxWOKcqECbD",
        "outputId": "42c82d0e-3fde-4713-ccdc-409c5b08bc9f"
      },
      "execution_count": null,
      "outputs": [
        {
          "output_type": "stream",
          "name": "stdout",
          "text": [
            "(2+0j)\n"
          ]
        }
      ]
    },
    {
      "cell_type": "markdown",
      "source": [
        "Float Function"
      ],
      "metadata": {
        "id": "xKv7OYA7EX1e"
      }
    },
    {
      "cell_type": "code",
      "source": [
        "x = float(3)\n",
        "print(x)"
      ],
      "metadata": {
        "colab": {
          "base_uri": "https://localhost:8080/"
        },
        "id": "oKOlMYLxEaoz",
        "outputId": "6a58929f-3309-44de-df2d-4833132921db"
      },
      "execution_count": null,
      "outputs": [
        {
          "output_type": "stream",
          "name": "stdout",
          "text": [
            "3.0\n"
          ]
        }
      ]
    },
    {
      "cell_type": "code",
      "source": [
        "y = float(3.56)\n",
        "print(y)"
      ],
      "metadata": {
        "colab": {
          "base_uri": "https://localhost:8080/"
        },
        "id": "zZlwtHwxEk2i",
        "outputId": "b47ae920-b9f0-4bd8-ec5c-c2df5ae531e8"
      },
      "execution_count": null,
      "outputs": [
        {
          "output_type": "stream",
          "name": "stdout",
          "text": [
            "3.56\n"
          ]
        }
      ]
    },
    {
      "cell_type": "markdown",
      "source": [
        "int function"
      ],
      "metadata": {
        "id": "gIcewakKExFg"
      }
    },
    {
      "cell_type": "code",
      "source": [
        "x = int(12)\n",
        "print(x)"
      ],
      "metadata": {
        "colab": {
          "base_uri": "https://localhost:8080/"
        },
        "id": "UiIglGOAE0jh",
        "outputId": "e2d3df84-e86f-423e-d355-f19cbe4c5f99"
      },
      "execution_count": null,
      "outputs": [
        {
          "output_type": "stream",
          "name": "stdout",
          "text": [
            "12\n"
          ]
        }
      ]
    },
    {
      "cell_type": "code",
      "source": [
        "y = int(12.56)\n",
        "print(y)"
      ],
      "metadata": {
        "colab": {
          "base_uri": "https://localhost:8080/"
        },
        "id": "QCwpEw0oE_0r",
        "outputId": "32665212-0126-4cb6-e4d3-a769894e6ffd"
      },
      "execution_count": null,
      "outputs": [
        {
          "output_type": "stream",
          "name": "stdout",
          "text": [
            "12\n"
          ]
        }
      ]
    },
    {
      "cell_type": "markdown",
      "source": [
        "string() function"
      ],
      "metadata": {
        "id": "FisaDu2eFYSM"
      }
    },
    {
      "cell_type": "code",
      "source": [
        "a = str(\"25.68\")\n",
        "print(a)\n",
        "print(type(a))"
      ],
      "metadata": {
        "colab": {
          "base_uri": "https://localhost:8080/"
        },
        "id": "_nTXKz6NFaf2",
        "outputId": "58b90949-c82b-4a20-a7dd-5215d9b2b37a"
      },
      "execution_count": null,
      "outputs": [
        {
          "output_type": "stream",
          "name": "stdout",
          "text": [
            "25.68\n",
            "<class 'str'>\n"
          ]
        }
      ]
    },
    {
      "cell_type": "markdown",
      "source": [
        "help()function"
      ],
      "metadata": {
        "id": "Co7poJnXF-PQ"
      }
    },
    {
      "cell_type": "code",
      "source": [
        "help(print)"
      ],
      "metadata": {
        "colab": {
          "base_uri": "https://localhost:8080/"
        },
        "id": "pWNmaVMSGDEF",
        "outputId": "0f07e5d1-8e52-4177-ee39-e2360e41df70"
      },
      "execution_count": null,
      "outputs": [
        {
          "output_type": "stream",
          "name": "stdout",
          "text": [
            "Help on built-in function print in module builtins:\n",
            "\n",
            "print(...)\n",
            "    print(value, ..., sep=' ', end='\\n', file=sys.stdout, flush=False)\n",
            "    \n",
            "    Prints the values to a stream, or to sys.stdout by default.\n",
            "    Optional keyword arguments:\n",
            "    file:  a file-like object (stream); defaults to the current sys.stdout.\n",
            "    sep:   string inserted between values, default a space.\n",
            "    end:   string appended after the last value, default a newline.\n",
            "    flush: whether to forcibly flush the stream.\n",
            "\n"
          ]
        }
      ]
    },
    {
      "cell_type": "code",
      "source": [
        "help(float)"
      ],
      "metadata": {
        "colab": {
          "base_uri": "https://localhost:8080/"
        },
        "id": "0D6MjPSdGJhv",
        "outputId": "4b7604aa-1a89-425a-a81e-41f1f2b2da08"
      },
      "execution_count": null,
      "outputs": [
        {
          "output_type": "stream",
          "name": "stdout",
          "text": [
            "Help on class float in module builtins:\n",
            "\n",
            "class float(object)\n",
            " |  float(x=0, /)\n",
            " |  \n",
            " |  Convert a string or number to a floating point number, if possible.\n",
            " |  \n",
            " |  Methods defined here:\n",
            " |  \n",
            " |  __abs__(self, /)\n",
            " |      abs(self)\n",
            " |  \n",
            " |  __add__(self, value, /)\n",
            " |      Return self+value.\n",
            " |  \n",
            " |  __bool__(self, /)\n",
            " |      True if self else False\n",
            " |  \n",
            " |  __ceil__(self, /)\n",
            " |      Return the ceiling as an Integral.\n",
            " |  \n",
            " |  __divmod__(self, value, /)\n",
            " |      Return divmod(self, value).\n",
            " |  \n",
            " |  __eq__(self, value, /)\n",
            " |      Return self==value.\n",
            " |  \n",
            " |  __float__(self, /)\n",
            " |      float(self)\n",
            " |  \n",
            " |  __floor__(self, /)\n",
            " |      Return the floor as an Integral.\n",
            " |  \n",
            " |  __floordiv__(self, value, /)\n",
            " |      Return self//value.\n",
            " |  \n",
            " |  __format__(self, format_spec, /)\n",
            " |      Formats the float according to format_spec.\n",
            " |  \n",
            " |  __ge__(self, value, /)\n",
            " |      Return self>=value.\n",
            " |  \n",
            " |  __getattribute__(self, name, /)\n",
            " |      Return getattr(self, name).\n",
            " |  \n",
            " |  __getnewargs__(self, /)\n",
            " |  \n",
            " |  __gt__(self, value, /)\n",
            " |      Return self>value.\n",
            " |  \n",
            " |  __hash__(self, /)\n",
            " |      Return hash(self).\n",
            " |  \n",
            " |  __int__(self, /)\n",
            " |      int(self)\n",
            " |  \n",
            " |  __le__(self, value, /)\n",
            " |      Return self<=value.\n",
            " |  \n",
            " |  __lt__(self, value, /)\n",
            " |      Return self<value.\n",
            " |  \n",
            " |  __mod__(self, value, /)\n",
            " |      Return self%value.\n",
            " |  \n",
            " |  __mul__(self, value, /)\n",
            " |      Return self*value.\n",
            " |  \n",
            " |  __ne__(self, value, /)\n",
            " |      Return self!=value.\n",
            " |  \n",
            " |  __neg__(self, /)\n",
            " |      -self\n",
            " |  \n",
            " |  __pos__(self, /)\n",
            " |      +self\n",
            " |  \n",
            " |  __pow__(self, value, mod=None, /)\n",
            " |      Return pow(self, value, mod).\n",
            " |  \n",
            " |  __radd__(self, value, /)\n",
            " |      Return value+self.\n",
            " |  \n",
            " |  __rdivmod__(self, value, /)\n",
            " |      Return divmod(value, self).\n",
            " |  \n",
            " |  __repr__(self, /)\n",
            " |      Return repr(self).\n",
            " |  \n",
            " |  __rfloordiv__(self, value, /)\n",
            " |      Return value//self.\n",
            " |  \n",
            " |  __rmod__(self, value, /)\n",
            " |      Return value%self.\n",
            " |  \n",
            " |  __rmul__(self, value, /)\n",
            " |      Return value*self.\n",
            " |  \n",
            " |  __round__(self, ndigits=None, /)\n",
            " |      Return the Integral closest to x, rounding half toward even.\n",
            " |      \n",
            " |      When an argument is passed, work like built-in round(x, ndigits).\n",
            " |  \n",
            " |  __rpow__(self, value, mod=None, /)\n",
            " |      Return pow(value, self, mod).\n",
            " |  \n",
            " |  __rsub__(self, value, /)\n",
            " |      Return value-self.\n",
            " |  \n",
            " |  __rtruediv__(self, value, /)\n",
            " |      Return value/self.\n",
            " |  \n",
            " |  __sub__(self, value, /)\n",
            " |      Return self-value.\n",
            " |  \n",
            " |  __truediv__(self, value, /)\n",
            " |      Return self/value.\n",
            " |  \n",
            " |  __trunc__(self, /)\n",
            " |      Return the Integral closest to x between 0 and x.\n",
            " |  \n",
            " |  as_integer_ratio(self, /)\n",
            " |      Return integer ratio.\n",
            " |      \n",
            " |      Return a pair of integers, whose ratio is exactly equal to the original float\n",
            " |      and with a positive denominator.\n",
            " |      \n",
            " |      Raise OverflowError on infinities and a ValueError on NaNs.\n",
            " |      \n",
            " |      >>> (10.0).as_integer_ratio()\n",
            " |      (10, 1)\n",
            " |      >>> (0.0).as_integer_ratio()\n",
            " |      (0, 1)\n",
            " |      >>> (-.25).as_integer_ratio()\n",
            " |      (-1, 4)\n",
            " |  \n",
            " |  conjugate(self, /)\n",
            " |      Return self, the complex conjugate of any float.\n",
            " |  \n",
            " |  hex(self, /)\n",
            " |      Return a hexadecimal representation of a floating-point number.\n",
            " |      \n",
            " |      >>> (-0.1).hex()\n",
            " |      '-0x1.999999999999ap-4'\n",
            " |      >>> 3.14159.hex()\n",
            " |      '0x1.921f9f01b866ep+1'\n",
            " |  \n",
            " |  is_integer(self, /)\n",
            " |      Return True if the float is an integer.\n",
            " |  \n",
            " |  ----------------------------------------------------------------------\n",
            " |  Class methods defined here:\n",
            " |  \n",
            " |  __getformat__(typestr, /) from builtins.type\n",
            " |      You probably don't want to use this function.\n",
            " |      \n",
            " |        typestr\n",
            " |          Must be 'double' or 'float'.\n",
            " |      \n",
            " |      It exists mainly to be used in Python's test suite.\n",
            " |      \n",
            " |      This function returns whichever of 'unknown', 'IEEE, big-endian' or 'IEEE,\n",
            " |      little-endian' best describes the format of floating point numbers used by the\n",
            " |      C type named by typestr.\n",
            " |  \n",
            " |  __setformat__(typestr, fmt, /) from builtins.type\n",
            " |      You probably don't want to use this function.\n",
            " |      \n",
            " |        typestr\n",
            " |          Must be 'double' or 'float'.\n",
            " |        fmt\n",
            " |          Must be one of 'unknown', 'IEEE, big-endian' or 'IEEE, little-endian',\n",
            " |          and in addition can only be one of the latter two if it appears to\n",
            " |          match the underlying C reality.\n",
            " |      \n",
            " |      It exists mainly to be used in Python's test suite.\n",
            " |      \n",
            " |      Override the automatic determination of C-level floating point type.\n",
            " |      This affects how floats are converted to and from binary strings.\n",
            " |  \n",
            " |  fromhex(string, /) from builtins.type\n",
            " |      Create a floating-point number from a hexadecimal string.\n",
            " |      \n",
            " |      >>> float.fromhex('0x1.ffffp10')\n",
            " |      2047.984375\n",
            " |      >>> float.fromhex('-0x1p-1074')\n",
            " |      -5e-324\n",
            " |  \n",
            " |  ----------------------------------------------------------------------\n",
            " |  Static methods defined here:\n",
            " |  \n",
            " |  __new__(*args, **kwargs) from builtins.type\n",
            " |      Create and return a new object.  See help(type) for accurate signature.\n",
            " |  \n",
            " |  ----------------------------------------------------------------------\n",
            " |  Data descriptors defined here:\n",
            " |  \n",
            " |  imag\n",
            " |      the imaginary part of a complex number\n",
            " |  \n",
            " |  real\n",
            " |      the real part of a complex number\n",
            "\n"
          ]
        }
      ]
    },
    {
      "cell_type": "markdown",
      "source": [
        "input()function"
      ],
      "metadata": {
        "id": "bv6xU4WBGWnM"
      }
    },
    {
      "cell_type": "code",
      "source": [
        "x = input(\"Enter your name\")\n",
        "print(x)"
      ],
      "metadata": {
        "colab": {
          "base_uri": "https://localhost:8080/"
        },
        "id": "vVP-SCrTGaFu",
        "outputId": "e144d97b-e844-42cc-a175-0d8b415fac2f"
      },
      "execution_count": null,
      "outputs": [
        {
          "output_type": "stream",
          "name": "stdout",
          "text": [
            "Enter your nameshivam\n",
            "shivam\n"
          ]
        }
      ]
    },
    {
      "cell_type": "code",
      "source": [
        "x = input(\"enter your age\")\n",
        "print(\"your age is\",x)"
      ],
      "metadata": {
        "colab": {
          "base_uri": "https://localhost:8080/"
        },
        "id": "KaWuYBjAHEug",
        "outputId": "b16d6ed6-c2bc-49d9-c355-b3039351891c"
      },
      "execution_count": null,
      "outputs": [
        {
          "output_type": "stream",
          "name": "stdout",
          "text": [
            "enter your age22\n",
            "your age is 22\n"
          ]
        }
      ]
    },
    {
      "cell_type": "markdown",
      "source": [
        "### **Control Flow Statement in python **"
      ],
      "metadata": {
        "id": "NodKPl3lu0Ma"
      }
    },
    {
      "cell_type": "markdown",
      "source": [
        "there are two words the first is flow and the second is control from a technical prespective , we cam say that flow is nothing but many statements consisting of multiples operations which need tobe executed . for example adding 10 numbers and finding the mean of the number."
      ],
      "metadata": {
        "id": "1rZpi3qFvJlP"
      }
    },
    {
      "cell_type": "markdown",
      "source": [
        "there are three types of control flow staement"
      ],
      "metadata": {
        "id": "2O0j3ZXqxS-r"
      }
    },
    {
      "cell_type": "markdown",
      "source": [
        "1. Conditional statement\n",
        "2. Transfer statements\n",
        "3. iterative statements"
      ],
      "metadata": {
        "id": "1g2JjCOJxeVe"
      }
    },
    {
      "cell_type": "markdown",
      "source": [
        "1. conditional Statements\n",
        "\n",
        ". if\n",
        ". if-else\n",
        ". if-elif-else\n",
        ". nested if-else"
      ],
      "metadata": {
        "id": "g7ybnu0SxuAh"
      }
    },
    {
      "cell_type": "markdown",
      "source": [
        "2.Transfer Statements\n",
        ". break\n",
        ". continue\n",
        ". pass"
      ],
      "metadata": {
        "id": "uojZpXLYyI5m"
      }
    },
    {
      "cell_type": "markdown",
      "source": [
        "3. iterative statements\n",
        ". for\n",
        ". while"
      ],
      "metadata": {
        "id": "5mZWNKgBy353"
      }
    },
    {
      "cell_type": "markdown",
      "source": [
        "if statements : the if statement is the most simple decision making statement it is used to decide wheather a certain statement or block of statement will be executed or not\n",
        "\n",
        "syntax:\n",
        "if condition\n",
        "   statement1\n",
        " statement2\n",
        "\n"
      ],
      "metadata": {
        "id": "I-9rC55szCNW"
      }
    },
    {
      "cell_type": "markdown",
      "source": [
        "Write a program to calculate the percentage of a student in the subjects maths , science , social , english , and hindi"
      ],
      "metadata": {
        "id": "egZT1t5r1C3P"
      }
    },
    {
      "cell_type": "code",
      "source": [
        "x = input(\"Enter the name of the student\")\n",
        "a = int(input(\"enter the maerks scored in english\"))\n",
        "b = int(input(\"enter the maerks scored in maths\"))\n",
        "c = int(input(\"enter the maerks scored in social\"))\n",
        "d = int(input(\"enter the maerks scored in hindi\"))\n",
        "e = int(input(\"enter the maerks scored in science\"))\n",
        "n = ((a+b+c+d+e)/500)*100\n",
        "print(\"the percent scored by student is \", n)"
      ],
      "metadata": {
        "colab": {
          "base_uri": "https://localhost:8080/"
        },
        "id": "MWPM9OAs1YS4",
        "outputId": "be995d44-7b0e-45b9-b848-3dde225418f8"
      },
      "execution_count": null,
      "outputs": [
        {
          "output_type": "stream",
          "name": "stdout",
          "text": [
            "Enter the name of the studentanil\n",
            "enter the maerks scored in english83\n",
            "enter the maerks scored in maths75\n",
            "enter the maerks scored in social93\n",
            "enter the maerks scored in hindi87\n",
            "enter the maerks scored in science88\n",
            "the percent scored by student is  85.2\n"
          ]
        }
      ]
    },
    {
      "cell_type": "code",
      "source": [
        "a = int(input(\"enter the percentage scored by a student\"))\n",
        "\n",
        "if a>=90:\n",
        "   print(\"A grade\")\n",
        "if a>=75 and a<90:\n",
        "   print(\"B grade\")\n",
        "if a>=65 and a<=75:\n",
        "   print(\"C grade\")"
      ],
      "metadata": {
        "colab": {
          "base_uri": "https://localhost:8080/"
        },
        "id": "AiXXqiWP6WaD",
        "outputId": "1b0177a1-8ac1-4957-9754-cc7405b2be08"
      },
      "execution_count": null,
      "outputs": [
        {
          "output_type": "stream",
          "name": "stdout",
          "text": [
            "enter the percentage scored by a student90\n",
            "A grade\n"
          ]
        }
      ]
    },
    {
      "cell_type": "markdown",
      "source": [
        "## If else statement"
      ],
      "metadata": {
        "id": "mKLpkKJX8wSi"
      }
    },
    {
      "cell_type": "markdown",
      "source": [
        "write a program to display hello if number entered by a user is a multiple of 5 else print bye"
      ],
      "metadata": {
        "id": "mK14EGMF86K5"
      }
    },
    {
      "cell_type": "code",
      "source": [
        "a = int(input(\"enter the number \"))\n",
        "if a%5==0:\n",
        "    print(\"hello\")\n",
        "else:\n",
        "    print(\"bye\")"
      ],
      "metadata": {
        "colab": {
          "base_uri": "https://localhost:8080/"
        },
        "id": "373OmvZk847a",
        "outputId": "6fd3a9cf-dbb9-47a5-cbb8-db68a6ee0980"
      },
      "execution_count": null,
      "outputs": [
        {
          "output_type": "stream",
          "name": "stdout",
          "text": [
            "enter the number 3\n",
            "bye\n"
          ]
        }
      ]
    },
    {
      "cell_type": "code",
      "source": [
        "a = int(input(\"enter the number \"))\n",
        "if a>0:\n",
        "    print(\"positive number\")\n",
        "else:\n",
        "    print(\"negative number\")"
      ],
      "metadata": {
        "colab": {
          "base_uri": "https://localhost:8080/"
        },
        "id": "zatbhdLB-TeZ",
        "outputId": "2c6b53d0-5747-4258-b7e7-73163c03dcdb"
      },
      "execution_count": null,
      "outputs": [
        {
          "output_type": "stream",
          "name": "stdout",
          "text": [
            "enter the number 4\n",
            "positive number\n"
          ]
        }
      ]
    },
    {
      "cell_type": "markdown",
      "source": [
        "## if elif else statement"
      ],
      "metadata": {
        "id": "pDWfs7pG_ISM"
      }
    },
    {
      "cell_type": "markdown",
      "source": [
        " accept the city and print its monument:\n",
        "  Delhi - Red fort\n",
        "  Agra - Taj Mahal\n",
        "  Jaipur - jalmehal\n",
        "  Orissa - Konak Temple\n",
        "  Hydherabad - charminar\n",
        "  Other - Record not found\n"
      ],
      "metadata": {
        "id": "DwMK4AGqCcoY"
      }
    },
    {
      "cell_type": "code",
      "source": [
        "city = input(\"enter the city\")\n",
        "if city == \"Delhi\":\n",
        "    print(\"The monument in Delhi is Redfort\")\n",
        "elif city == \"Agra\":\n",
        "    print(\"The monument in Agra is Tajmahal\")\n",
        "elif city == \"jaipur\":\n",
        "   print(\"The monument in jaipur is jalmahal\")"
      ],
      "metadata": {
        "colab": {
          "base_uri": "https://localhost:8080/"
        },
        "id": "XAfe6ZqtDE43",
        "outputId": "81abc137-485c-4ca7-91c6-896ff6ca1c0c"
      },
      "execution_count": null,
      "outputs": [
        {
          "name": "stdout",
          "output_type": "stream",
          "text": [
            "enter the cityagra\n"
          ]
        }
      ]
    },
    {
      "cell_type": "markdown",
      "source": [
        "# Loops in Python"
      ],
      "metadata": {
        "id": "Dzj2zKUFvj4u"
      }
    },
    {
      "cell_type": "markdown",
      "source": [
        "in a computer programing loops are used to repeat a block of code\n",
        "for example , if we want to show a message 100 times then we can use a loop A loop statement allows us to execute a statement or group of statement multiple times"
      ],
      "metadata": {
        "id": "AjGXKFaZv_X9"
      }
    },
    {
      "cell_type": "markdown",
      "source": [
        "# loops\n",
        "two types of loops ,\n",
        "for loop,\n",
        "while loop"
      ],
      "metadata": {
        "id": "jyPyY3Pdwi8n"
      }
    },
    {
      "cell_type": "markdown",
      "source": [
        "while loops   \n",
        "\n",
        "in a python , a while loop is used to execute a block of statements repetedly until a given condition is satisfied . and when the condition become false the line immediatly after the loop in the program is executed"
      ],
      "metadata": {
        "id": "CACdu-FoxPfH"
      }
    },
    {
      "cell_type": "markdown",
      "source": [
        "Program to display number from 1 to 5"
      ],
      "metadata": {
        "id": "b2vxYbChyBUA"
      }
    },
    {
      "cell_type": "code",
      "source": [
        "i = 1\n",
        "n = 5\n",
        "while i<=n:\n",
        "    print(i)\n",
        "    i = i+1"
      ],
      "metadata": {
        "colab": {
          "base_uri": "https://localhost:8080/"
        },
        "id": "eBrK5jp-xu-C",
        "outputId": "b072057d-3ef5-4b30-c3f5-5588e26cb0ad"
      },
      "execution_count": null,
      "outputs": [
        {
          "output_type": "stream",
          "name": "stdout",
          "text": [
            "1\n",
            "2\n",
            "3\n",
            "4\n",
            "5\n"
          ]
        }
      ]
    },
    {
      "cell_type": "markdown",
      "source": [
        "Enter the value from a user and make a multipication table till 10"
      ],
      "metadata": {
        "id": "qzi7vKVOzYKS"
      }
    },
    {
      "cell_type": "code",
      "source": [
        "x = int(input(\"enter the value\"))\n",
        "i = 1\n",
        "while i<=10:\n",
        "    print(x*i)\n",
        "    i = i+1\n",
        "    print(\"this is the multipication table\")"
      ],
      "metadata": {
        "colab": {
          "base_uri": "https://localhost:8080/"
        },
        "id": "ZURqQGYpzRSE",
        "outputId": "3e68aa85-2c25-4e1c-ca15-87f697b4468c"
      },
      "execution_count": null,
      "outputs": [
        {
          "output_type": "stream",
          "name": "stdout",
          "text": [
            "enter the value8\n",
            "8\n",
            "this is the multipication table\n",
            "16\n",
            "this is the multipication table\n",
            "24\n",
            "this is the multipication table\n",
            "32\n",
            "this is the multipication table\n",
            "40\n",
            "this is the multipication table\n",
            "48\n",
            "this is the multipication table\n",
            "56\n",
            "this is the multipication table\n",
            "64\n",
            "this is the multipication table\n",
            "72\n",
            "this is the multipication table\n",
            "80\n",
            "this is the multipication table\n"
          ]
        }
      ]
    },
    {
      "cell_type": "markdown",
      "source": [
        "While loop work infinite"
      ],
      "metadata": {
        "id": "hY3lJxO604yM"
      }
    },
    {
      "cell_type": "markdown",
      "source": [
        "infinite loop"
      ],
      "metadata": {
        "id": "gfZP3J7g094s"
      }
    },
    {
      "cell_type": "code",
      "source": [
        "age = 32\n",
        "while age>18:\n",
        "    print(\"you can vote\")"
      ],
      "metadata": {
        "colab": {
          "base_uri": "https://localhost:8080/"
        },
        "id": "alTMK-zN0_70",
        "outputId": "8609647b-f483-48d1-d8e4-dfaa34d08b34"
      },
      "execution_count": null,
      "outputs": [
        {
          "output_type": "stream",
          "name": "stdout",
          "text": [
            "\u001b[1;30;43mStreaming output truncated to the last 5000 lines.\u001b[0m\n",
            "you can vote\n",
            "you can vote\n",
            "you can vote\n",
            "you can vote\n",
            "you can vote\n",
            "you can vote\n",
            "you can vote\n",
            "you can vote\n",
            "you can vote\n",
            "you can vote\n",
            "you can vote\n",
            "you can vote\n",
            "you can vote\n",
            "you can vote\n",
            "you can vote\n",
            "you can vote\n",
            "you can vote\n",
            "you can vote\n",
            "you can vote\n",
            "you can vote\n",
            "you can vote\n",
            "you can vote\n",
            "you can vote\n",
            "you can vote\n",
            "you can vote\n",
            "you can vote\n",
            "you can vote\n",
            "you can vote\n",
            "you can vote\n",
            "you can vote\n",
            "you can vote\n",
            "you can vote\n",
            "you can vote\n",
            "you can vote\n",
            "you can vote\n",
            "you can vote\n",
            "you can vote\n",
            "you can vote\n",
            "you can vote\n",
            "you can vote\n",
            "you can vote\n",
            "you can vote\n",
            "you can vote\n",
            "you can vote\n",
            "you can vote\n",
            "you can vote\n",
            "you can vote\n",
            "you can vote\n",
            "you can vote\n",
            "you can vote\n",
            "you can vote\n",
            "you can vote\n",
            "you can vote\n",
            "you can vote\n",
            "you can vote\n",
            "you can vote\n",
            "you can vote\n",
            "you can vote\n",
            "you can vote\n",
            "you can vote\n",
            "you can vote\n",
            "you can vote\n",
            "you can vote\n",
            "you can vote\n",
            "you can vote\n",
            "you can vote\n",
            "you can vote\n",
            "you can vote\n",
            "you can vote\n",
            "you can vote\n",
            "you can vote\n",
            "you can vote\n",
            "you can vote\n",
            "you can vote\n",
            "you can vote\n",
            "you can vote\n",
            "you can vote\n",
            "you can vote\n",
            "you can vote\n",
            "you can vote\n",
            "you can vote\n",
            "you can vote\n",
            "you can vote\n",
            "you can vote\n",
            "you can vote\n",
            "you can vote\n",
            "you can vote\n",
            "you can vote\n",
            "you can vote\n",
            "you can vote\n",
            "you can vote\n",
            "you can vote\n",
            "you can vote\n",
            "you can vote\n",
            "you can vote\n",
            "you can vote\n",
            "you can vote\n",
            "you can vote\n",
            "you can vote\n",
            "you can vote\n",
            "you can vote\n",
            "you can vote\n",
            "you can vote\n",
            "you can vote\n",
            "you can vote\n",
            "you can vote\n",
            "you can vote\n",
            "you can vote\n",
            "you can vote\n",
            "you can vote\n",
            "you can vote\n",
            "you can vote\n",
            "you can vote\n",
            "you can vote\n",
            "you can vote\n",
            "you can vote\n",
            "you can vote\n",
            "you can vote\n",
            "you can vote\n",
            "you can vote\n",
            "you can vote\n",
            "you can vote\n",
            "you can vote\n",
            "you can vote\n",
            "you can vote\n",
            "you can vote\n",
            "you can vote\n",
            "you can vote\n",
            "you can vote\n",
            "you can vote\n",
            "you can vote\n",
            "you can vote\n",
            "you can vote\n",
            "you can vote\n",
            "you can vote\n",
            "you can vote\n",
            "you can vote\n",
            "you can vote\n",
            "you can vote\n",
            "you can vote\n",
            "you can vote\n",
            "you can vote\n",
            "you can vote\n",
            "you can vote\n",
            "you can vote\n",
            "you can vote\n",
            "you can vote\n",
            "you can vote\n",
            "you can vote\n",
            "you can vote\n",
            "you can vote\n",
            "you can vote\n",
            "you can vote\n",
            "you can vote\n",
            "you can vote\n",
            "you can vote\n",
            "you can vote\n",
            "you can vote\n",
            "you can vote\n",
            "you can vote\n",
            "you can vote\n",
            "you can vote\n",
            "you can vote\n",
            "you can vote\n",
            "you can vote\n",
            "you can vote\n",
            "you can vote\n",
            "you can vote\n",
            "you can vote\n",
            "you can vote\n",
            "you can vote\n",
            "you can vote\n",
            "you can vote\n",
            "you can vote\n",
            "you can vote\n",
            "you can vote\n",
            "you can vote\n",
            "you can vote\n",
            "you can vote\n",
            "you can vote\n",
            "you can vote\n",
            "you can vote\n",
            "you can vote\n",
            "you can vote\n",
            "you can vote\n",
            "you can vote\n",
            "you can vote\n",
            "you can vote\n",
            "you can vote\n",
            "you can vote\n",
            "you can vote\n",
            "you can vote\n",
            "you can vote\n",
            "you can vote\n",
            "you can vote\n",
            "you can vote\n",
            "you can vote\n",
            "you can vote\n",
            "you can vote\n",
            "you can vote\n",
            "you can vote\n",
            "you can vote\n",
            "you can vote\n",
            "you can vote\n",
            "you can vote\n",
            "you can vote\n",
            "you can vote\n",
            "you can vote\n",
            "you can vote\n",
            "you can vote\n",
            "you can vote\n",
            "you can vote\n",
            "you can vote\n",
            "you can vote\n",
            "you can vote\n",
            "you can vote\n",
            "you can vote\n",
            "you can vote\n",
            "you can vote\n",
            "you can vote\n",
            "you can vote\n",
            "you can vote\n",
            "you can vote\n",
            "you can vote\n",
            "you can vote\n",
            "you can vote\n",
            "you can vote\n",
            "you can vote\n",
            "you can vote\n",
            "you can vote\n",
            "you can vote\n",
            "you can vote\n",
            "you can vote\n",
            "you can vote\n",
            "you can vote\n",
            "you can vote\n",
            "you can vote\n",
            "you can vote\n",
            "you can vote\n",
            "you can vote\n",
            "you can vote\n",
            "you can vote\n",
            "you can vote\n",
            "you can vote\n",
            "you can vote\n",
            "you can vote\n",
            "you can vote\n",
            "you can vote\n",
            "you can vote\n",
            "you can vote\n",
            "you can vote\n",
            "you can vote\n",
            "you can vote\n",
            "you can vote\n",
            "you can vote\n",
            "you can vote\n",
            "you can vote\n",
            "you can vote\n",
            "you can vote\n",
            "you can vote\n",
            "you can vote\n",
            "you can vote\n",
            "you can vote\n",
            "you can vote\n",
            "you can vote\n",
            "you can vote\n",
            "you can vote\n",
            "you can vote\n",
            "you can vote\n",
            "you can vote\n",
            "you can vote\n",
            "you can vote\n",
            "you can vote\n",
            "you can vote\n",
            "you can vote\n",
            "you can vote\n",
            "you can vote\n",
            "you can vote\n",
            "you can vote\n",
            "you can vote\n",
            "you can vote\n",
            "you can vote\n",
            "you can vote\n",
            "you can vote\n",
            "you can vote\n",
            "you can vote\n",
            "you can vote\n",
            "you can vote\n",
            "you can vote\n",
            "you can vote\n",
            "you can vote\n",
            "you can vote\n",
            "you can vote\n",
            "you can vote\n",
            "you can vote\n",
            "you can vote\n",
            "you can vote\n",
            "you can vote\n",
            "you can vote\n",
            "you can vote\n",
            "you can vote\n",
            "you can vote\n",
            "you can vote\n",
            "you can vote\n",
            "you can vote\n",
            "you can vote\n",
            "you can vote\n",
            "you can vote\n",
            "you can vote\n",
            "you can vote\n",
            "you can vote\n",
            "you can vote\n",
            "you can vote\n",
            "you can vote\n",
            "you can vote\n",
            "you can vote\n",
            "you can vote\n",
            "you can vote\n",
            "you can vote\n",
            "you can vote\n",
            "you can vote\n",
            "you can vote\n",
            "you can vote\n",
            "you can vote\n",
            "you can vote\n",
            "you can vote\n",
            "you can vote\n",
            "you can vote\n",
            "you can vote\n",
            "you can vote\n",
            "you can vote\n",
            "you can vote\n",
            "you can vote\n",
            "you can vote\n",
            "you can vote\n",
            "you can vote\n",
            "you can vote\n",
            "you can vote\n",
            "you can vote\n",
            "you can vote\n",
            "you can vote\n",
            "you can vote\n",
            "you can vote\n",
            "you can vote\n",
            "you can vote\n",
            "you can vote\n",
            "you can vote\n",
            "you can vote\n",
            "you can vote\n",
            "you can vote\n",
            "you can vote\n",
            "you can vote\n",
            "you can vote\n",
            "you can vote\n",
            "you can vote\n",
            "you can vote\n",
            "you can vote\n",
            "you can vote\n",
            "you can vote\n",
            "you can vote\n",
            "you can vote\n",
            "you can vote\n",
            "you can vote\n",
            "you can vote\n",
            "you can vote\n",
            "you can vote\n",
            "you can vote\n",
            "you can vote\n",
            "you can vote\n",
            "you can vote\n",
            "you can vote\n",
            "you can vote\n",
            "you can vote\n",
            "you can vote\n",
            "you can vote\n",
            "you can vote\n",
            "you can vote\n",
            "you can vote\n",
            "you can vote\n",
            "you can vote\n",
            "you can vote\n",
            "you can vote\n",
            "you can vote\n",
            "you can vote\n",
            "you can vote\n",
            "you can vote\n",
            "you can vote\n",
            "you can vote\n",
            "you can vote\n",
            "you can vote\n",
            "you can vote\n",
            "you can vote\n",
            "you can vote\n",
            "you can vote\n",
            "you can vote\n",
            "you can vote\n",
            "you can vote\n",
            "you can vote\n",
            "you can vote\n",
            "you can vote\n",
            "you can vote\n",
            "you can vote\n",
            "you can vote\n",
            "you can vote\n",
            "you can vote\n",
            "you can vote\n",
            "you can vote\n",
            "you can vote\n",
            "you can vote\n",
            "you can vote\n",
            "you can vote\n",
            "you can vote\n",
            "you can vote\n",
            "you can vote\n",
            "you can vote\n",
            "you can vote\n",
            "you can vote\n",
            "you can vote\n",
            "you can vote\n",
            "you can vote\n",
            "you can vote\n",
            "you can vote\n",
            "you can vote\n",
            "you can vote\n",
            "you can vote\n",
            "you can vote\n",
            "you can vote\n",
            "you can vote\n",
            "you can vote\n",
            "you can vote\n",
            "you can vote\n",
            "you can vote\n",
            "you can vote\n",
            "you can vote\n",
            "you can vote\n",
            "you can vote\n",
            "you can vote\n",
            "you can vote\n",
            "you can vote\n",
            "you can vote\n",
            "you can vote\n",
            "you can vote\n",
            "you can vote\n",
            "you can vote\n",
            "you can vote\n",
            "you can vote\n",
            "you can vote\n",
            "you can vote\n",
            "you can vote\n",
            "you can vote\n",
            "you can vote\n",
            "you can vote\n",
            "you can vote\n",
            "you can vote\n",
            "you can vote\n",
            "you can vote\n",
            "you can vote\n",
            "you can vote\n",
            "you can vote\n",
            "you can vote\n",
            "you can vote\n",
            "you can vote\n",
            "you can vote\n",
            "you can vote\n",
            "you can vote\n",
            "you can vote\n",
            "you can vote\n",
            "you can vote\n",
            "you can vote\n",
            "you can vote\n",
            "you can vote\n",
            "you can vote\n",
            "you can vote\n",
            "you can vote\n",
            "you can vote\n",
            "you can vote\n",
            "you can vote\n",
            "you can vote\n",
            "you can vote\n",
            "you can vote\n",
            "you can vote\n",
            "you can vote\n",
            "you can vote\n",
            "you can vote\n",
            "you can vote\n",
            "you can vote\n",
            "you can vote\n",
            "you can vote\n",
            "you can vote\n",
            "you can vote\n",
            "you can vote\n",
            "you can vote\n",
            "you can vote\n",
            "you can vote\n",
            "you can vote\n",
            "you can vote\n",
            "you can vote\n",
            "you can vote\n",
            "you can vote\n",
            "you can vote\n",
            "you can vote\n",
            "you can vote\n",
            "you can vote\n",
            "you can vote\n",
            "you can vote\n",
            "you can vote\n",
            "you can vote\n",
            "you can vote\n",
            "you can vote\n",
            "you can vote\n",
            "you can vote\n",
            "you can vote\n",
            "you can vote\n",
            "you can vote\n",
            "you can vote\n",
            "you can vote\n",
            "you can vote\n",
            "you can vote\n",
            "you can vote\n",
            "you can vote\n",
            "you can vote\n",
            "you can vote\n",
            "you can vote\n",
            "you can vote\n",
            "you can vote\n",
            "you can vote\n",
            "you can vote\n",
            "you can vote\n",
            "you can vote\n",
            "you can vote\n",
            "you can vote\n",
            "you can vote\n",
            "you can vote\n",
            "you can vote\n",
            "you can vote\n",
            "you can vote\n",
            "you can vote\n",
            "you can vote\n",
            "you can vote\n",
            "you can vote\n",
            "you can vote\n",
            "you can vote\n",
            "you can vote\n",
            "you can vote\n",
            "you can vote\n",
            "you can vote\n",
            "you can vote\n",
            "you can vote\n",
            "you can vote\n",
            "you can vote\n",
            "you can vote\n",
            "you can vote\n",
            "you can vote\n",
            "you can vote\n",
            "you can vote\n",
            "you can vote\n",
            "you can vote\n",
            "you can vote\n",
            "you can vote\n",
            "you can vote\n",
            "you can vote\n",
            "you can vote\n",
            "you can vote\n",
            "you can vote\n",
            "you can vote\n",
            "you can vote\n",
            "you can vote\n",
            "you can vote\n",
            "you can vote\n",
            "you can vote\n",
            "you can vote\n",
            "you can vote\n",
            "you can vote\n",
            "you can vote\n",
            "you can vote\n",
            "you can vote\n",
            "you can vote\n",
            "you can vote\n",
            "you can vote\n",
            "you can vote\n",
            "you can vote\n",
            "you can vote\n",
            "you can vote\n",
            "you can vote\n",
            "you can vote\n",
            "you can vote\n",
            "you can vote\n",
            "you can vote\n",
            "you can vote\n",
            "you can vote\n",
            "you can vote\n",
            "you can vote\n",
            "you can vote\n",
            "you can vote\n",
            "you can vote\n",
            "you can vote\n",
            "you can vote\n",
            "you can vote\n",
            "you can vote\n",
            "you can vote\n",
            "you can vote\n",
            "you can vote\n",
            "you can vote\n",
            "you can vote\n",
            "you can vote\n",
            "you can vote\n",
            "you can vote\n",
            "you can vote\n",
            "you can vote\n",
            "you can vote\n",
            "you can vote\n",
            "you can vote\n",
            "you can vote\n",
            "you can vote\n",
            "you can vote\n",
            "you can vote\n",
            "you can vote\n",
            "you can vote\n",
            "you can vote\n",
            "you can vote\n",
            "you can vote\n",
            "you can vote\n",
            "you can vote\n",
            "you can vote\n",
            "you can vote\n",
            "you can vote\n",
            "you can vote\n",
            "you can vote\n",
            "you can vote\n",
            "you can vote\n",
            "you can vote\n",
            "you can vote\n",
            "you can vote\n",
            "you can vote\n",
            "you can vote\n",
            "you can vote\n",
            "you can vote\n",
            "you can vote\n",
            "you can vote\n",
            "you can vote\n",
            "you can vote\n",
            "you can vote\n",
            "you can vote\n",
            "you can vote\n",
            "you can vote\n",
            "you can vote\n",
            "you can vote\n",
            "you can vote\n",
            "you can vote\n",
            "you can vote\n",
            "you can vote\n",
            "you can vote\n",
            "you can vote\n",
            "you can vote\n",
            "you can vote\n",
            "you can vote\n",
            "you can vote\n",
            "you can vote\n",
            "you can vote\n",
            "you can vote\n",
            "you can vote\n",
            "you can vote\n",
            "you can vote\n",
            "you can vote\n",
            "you can vote\n",
            "you can vote\n",
            "you can vote\n",
            "you can vote\n",
            "you can vote\n",
            "you can vote\n",
            "you can vote\n",
            "you can vote\n",
            "you can vote\n",
            "you can vote\n",
            "you can vote\n",
            "you can vote\n",
            "you can vote\n",
            "you can vote\n",
            "you can vote\n",
            "you can vote\n",
            "you can vote\n",
            "you can vote\n",
            "you can vote\n",
            "you can vote\n",
            "you can vote\n",
            "you can vote\n",
            "you can vote\n",
            "you can vote\n",
            "you can vote\n",
            "you can vote\n",
            "you can vote\n",
            "you can vote\n",
            "you can vote\n",
            "you can vote\n",
            "you can vote\n",
            "you can vote\n",
            "you can vote\n",
            "you can vote\n",
            "you can vote\n",
            "you can vote\n",
            "you can vote\n",
            "you can vote\n",
            "you can vote\n",
            "you can vote\n",
            "you can vote\n",
            "you can vote\n",
            "you can vote\n",
            "you can vote\n",
            "you can vote\n",
            "you can vote\n",
            "you can vote\n",
            "you can vote\n",
            "you can vote\n",
            "you can vote\n",
            "you can vote\n",
            "you can vote\n",
            "you can vote\n",
            "you can vote\n",
            "you can vote\n",
            "you can vote\n",
            "you can vote\n",
            "you can vote\n",
            "you can vote\n",
            "you can vote\n",
            "you can vote\n",
            "you can vote\n",
            "you can vote\n",
            "you can vote\n",
            "you can vote\n",
            "you can vote\n",
            "you can vote\n",
            "you can vote\n",
            "you can vote\n",
            "you can vote\n",
            "you can vote\n",
            "you can vote\n",
            "you can vote\n",
            "you can vote\n",
            "you can vote\n",
            "you can vote\n",
            "you can vote\n",
            "you can vote\n",
            "you can vote\n",
            "you can vote\n",
            "you can vote\n",
            "you can vote\n",
            "you can vote\n",
            "you can vote\n",
            "you can vote\n",
            "you can vote\n",
            "you can vote\n",
            "you can vote\n",
            "you can vote\n",
            "you can vote\n",
            "you can vote\n",
            "you can vote\n",
            "you can vote\n",
            "you can vote\n",
            "you can vote\n",
            "you can vote\n",
            "you can vote\n",
            "you can vote\n",
            "you can vote\n",
            "you can vote\n",
            "you can vote\n",
            "you can vote\n",
            "you can vote\n",
            "you can vote\n",
            "you can vote\n",
            "you can vote\n",
            "you can vote\n",
            "you can vote\n",
            "you can vote\n",
            "you can vote\n",
            "you can vote\n",
            "you can vote\n",
            "you can vote\n",
            "you can vote\n",
            "you can vote\n",
            "you can vote\n",
            "you can vote\n",
            "you can vote\n",
            "you can vote\n",
            "you can vote\n",
            "you can vote\n",
            "you can vote\n",
            "you can vote\n",
            "you can vote\n",
            "you can vote\n",
            "you can vote\n",
            "you can vote\n",
            "you can vote\n",
            "you can vote\n",
            "you can vote\n",
            "you can vote\n",
            "you can vote\n",
            "you can vote\n",
            "you can vote\n",
            "you can vote\n",
            "you can vote\n",
            "you can vote\n",
            "you can vote\n",
            "you can vote\n",
            "you can vote\n",
            "you can vote\n",
            "you can vote\n",
            "you can vote\n",
            "you can vote\n",
            "you can vote\n",
            "you can vote\n",
            "you can vote\n",
            "you can vote\n",
            "you can vote\n",
            "you can vote\n",
            "you can vote\n",
            "you can vote\n",
            "you can vote\n",
            "you can vote\n",
            "you can vote\n",
            "you can vote\n",
            "you can vote\n",
            "you can vote\n",
            "you can vote\n",
            "you can vote\n",
            "you can vote\n",
            "you can vote\n",
            "you can vote\n",
            "you can vote\n",
            "you can vote\n",
            "you can vote\n",
            "you can vote\n",
            "you can vote\n",
            "you can vote\n",
            "you can vote\n",
            "you can vote\n",
            "you can vote\n",
            "you can vote\n",
            "you can vote\n",
            "you can vote\n",
            "you can vote\n",
            "you can vote\n",
            "you can vote\n",
            "you can vote\n",
            "you can vote\n",
            "you can vote\n",
            "you can vote\n",
            "you can vote\n",
            "you can vote\n",
            "you can vote\n",
            "you can vote\n",
            "you can vote\n",
            "you can vote\n",
            "you can vote\n",
            "you can vote\n",
            "you can vote\n",
            "you can vote\n",
            "you can vote\n",
            "you can vote\n",
            "you can vote\n",
            "you can vote\n",
            "you can vote\n",
            "you can vote\n",
            "you can vote\n",
            "you can vote\n",
            "you can vote\n",
            "you can vote\n",
            "you can vote\n",
            "you can vote\n",
            "you can vote\n",
            "you can vote\n",
            "you can vote\n",
            "you can vote\n",
            "you can vote\n",
            "you can vote\n",
            "you can vote\n",
            "you can vote\n",
            "you can vote\n",
            "you can vote\n",
            "you can vote\n",
            "you can vote\n",
            "you can vote\n",
            "you can vote\n",
            "you can vote\n",
            "you can vote\n",
            "you can vote\n",
            "you can vote\n",
            "you can vote\n",
            "you can vote\n",
            "you can vote\n",
            "you can vote\n",
            "you can vote\n",
            "you can vote\n",
            "you can vote\n",
            "you can vote\n",
            "you can vote\n",
            "you can vote\n",
            "you can vote\n",
            "you can vote\n",
            "you can vote\n",
            "you can vote\n",
            "you can vote\n",
            "you can vote\n",
            "you can vote\n",
            "you can vote\n",
            "you can vote\n",
            "you can vote\n",
            "you can vote\n",
            "you can vote\n",
            "you can vote\n",
            "you can vote\n",
            "you can vote\n",
            "you can vote\n",
            "you can vote\n",
            "you can vote\n",
            "you can vote\n",
            "you can vote\n",
            "you can vote\n",
            "you can vote\n",
            "you can vote\n",
            "you can vote\n",
            "you can vote\n",
            "you can vote\n",
            "you can vote\n",
            "you can vote\n",
            "you can vote\n",
            "you can vote\n",
            "you can vote\n",
            "you can vote\n",
            "you can vote\n",
            "you can vote\n",
            "you can vote\n",
            "you can vote\n",
            "you can vote\n",
            "you can vote\n",
            "you can vote\n",
            "you can vote\n",
            "you can vote\n",
            "you can vote\n",
            "you can vote\n",
            "you can vote\n",
            "you can vote\n",
            "you can vote\n",
            "you can vote\n",
            "you can vote\n",
            "you can vote\n",
            "you can vote\n",
            "you can vote\n",
            "you can vote\n",
            "you can vote\n",
            "you can vote\n",
            "you can vote\n",
            "you can vote\n",
            "you can vote\n",
            "you can vote\n",
            "you can vote\n",
            "you can vote\n",
            "you can vote\n",
            "you can vote\n",
            "you can vote\n",
            "you can vote\n",
            "you can vote\n",
            "you can vote\n",
            "you can vote\n",
            "you can vote\n",
            "you can vote\n",
            "you can vote\n",
            "you can vote\n",
            "you can vote\n",
            "you can vote\n",
            "you can vote\n",
            "you can vote\n",
            "you can vote\n",
            "you can vote\n",
            "you can vote\n",
            "you can vote\n",
            "you can vote\n",
            "you can vote\n",
            "you can vote\n",
            "you can vote\n",
            "you can vote\n",
            "you can vote\n",
            "you can vote\n",
            "you can vote\n",
            "you can vote\n",
            "you can vote\n",
            "you can vote\n",
            "you can vote\n",
            "you can vote\n",
            "you can vote\n",
            "you can vote\n",
            "you can vote\n",
            "you can vote\n",
            "you can vote\n",
            "you can vote\n",
            "you can vote\n",
            "you can vote\n",
            "you can vote\n",
            "you can vote\n",
            "you can vote\n",
            "you can vote\n",
            "you can vote\n",
            "you can vote\n",
            "you can vote\n",
            "you can vote\n",
            "you can vote\n",
            "you can vote\n",
            "you can vote\n",
            "you can vote\n",
            "you can vote\n",
            "you can vote\n",
            "you can vote\n",
            "you can vote\n",
            "you can vote\n",
            "you can vote\n",
            "you can vote\n",
            "you can vote\n",
            "you can vote\n",
            "you can vote\n",
            "you can vote\n",
            "you can vote\n",
            "you can vote\n",
            "you can vote\n",
            "you can vote\n",
            "you can vote\n",
            "you can vote\n",
            "you can vote\n",
            "you can vote\n",
            "you can vote\n",
            "you can vote\n",
            "you can vote\n",
            "you can vote\n",
            "you can vote\n",
            "you can vote\n",
            "you can vote\n",
            "you can vote\n",
            "you can vote\n",
            "you can vote\n",
            "you can vote\n",
            "you can vote\n",
            "you can vote\n",
            "you can vote\n",
            "you can vote\n",
            "you can vote\n",
            "you can vote\n",
            "you can vote\n",
            "you can vote\n",
            "you can vote\n",
            "you can vote\n",
            "you can vote\n",
            "you can vote\n",
            "you can vote\n",
            "you can vote\n",
            "you can vote\n",
            "you can vote\n",
            "you can vote\n",
            "you can vote\n",
            "you can vote\n",
            "you can vote\n",
            "you can vote\n",
            "you can vote\n",
            "you can vote\n",
            "you can vote\n",
            "you can vote\n",
            "you can vote\n",
            "you can vote\n",
            "you can vote\n",
            "you can vote\n",
            "you can vote\n",
            "you can vote\n",
            "you can vote\n",
            "you can vote\n",
            "you can vote\n",
            "you can vote\n",
            "you can vote\n",
            "you can vote\n",
            "you can vote\n",
            "you can vote\n",
            "you can vote\n",
            "you can vote\n",
            "you can vote\n",
            "you can vote\n",
            "you can vote\n",
            "you can vote\n",
            "you can vote\n",
            "you can vote\n",
            "you can vote\n",
            "you can vote\n",
            "you can vote\n",
            "you can vote\n",
            "you can vote\n",
            "you can vote\n",
            "you can vote\n",
            "you can vote\n",
            "you can vote\n",
            "you can vote\n",
            "you can vote\n",
            "you can vote\n",
            "you can vote\n",
            "you can vote\n",
            "you can vote\n",
            "you can vote\n",
            "you can vote\n",
            "you can vote\n",
            "you can vote\n",
            "you can vote\n",
            "you can vote\n",
            "you can vote\n",
            "you can vote\n",
            "you can vote\n",
            "you can vote\n",
            "you can vote\n",
            "you can vote\n",
            "you can vote\n",
            "you can vote\n",
            "you can vote\n",
            "you can vote\n",
            "you can vote\n",
            "you can vote\n",
            "you can vote\n",
            "you can vote\n",
            "you can vote\n",
            "you can vote\n",
            "you can vote\n",
            "you can vote\n",
            "you can vote\n",
            "you can vote\n",
            "you can vote\n",
            "you can vote\n",
            "you can vote\n",
            "you can vote\n",
            "you can vote\n",
            "you can vote\n",
            "you can vote\n",
            "you can vote\n",
            "you can vote\n",
            "you can vote\n",
            "you can vote\n",
            "you can vote\n",
            "you can vote\n",
            "you can vote\n",
            "you can vote\n",
            "you can vote\n",
            "you can vote\n",
            "you can vote\n",
            "you can vote\n",
            "you can vote\n",
            "you can vote\n",
            "you can vote\n",
            "you can vote\n",
            "you can vote\n",
            "you can vote\n",
            "you can vote\n",
            "you can vote\n",
            "you can vote\n",
            "you can vote\n",
            "you can vote\n",
            "you can vote\n",
            "you can vote\n",
            "you can vote\n",
            "you can vote\n",
            "you can vote\n",
            "you can vote\n",
            "you can vote\n",
            "you can vote\n",
            "you can vote\n",
            "you can vote\n",
            "you can vote\n",
            "you can vote\n",
            "you can vote\n",
            "you can vote\n",
            "you can vote\n",
            "you can vote\n",
            "you can vote\n",
            "you can vote\n",
            "you can vote\n",
            "you can vote\n",
            "you can vote\n",
            "you can vote\n",
            "you can vote\n",
            "you can vote\n",
            "you can vote\n",
            "you can vote\n",
            "you can vote\n",
            "you can vote\n",
            "you can vote\n",
            "you can vote\n",
            "you can vote\n",
            "you can vote\n",
            "you can vote\n",
            "you can vote\n",
            "you can vote\n",
            "you can vote\n",
            "you can vote\n",
            "you can vote\n",
            "you can vote\n",
            "you can vote\n",
            "you can vote\n",
            "you can vote\n",
            "you can vote\n",
            "you can vote\n",
            "you can vote\n",
            "you can vote\n",
            "you can vote\n",
            "you can vote\n",
            "you can vote\n",
            "you can vote\n",
            "you can vote\n",
            "you can vote\n",
            "you can vote\n",
            "you can vote\n",
            "you can vote\n",
            "you can vote\n",
            "you can vote\n",
            "you can vote\n",
            "you can vote\n",
            "you can vote\n",
            "you can vote\n",
            "you can vote\n",
            "you can vote\n",
            "you can vote\n",
            "you can vote\n",
            "you can vote\n",
            "you can vote\n",
            "you can vote\n",
            "you can vote\n",
            "you can vote\n",
            "you can vote\n",
            "you can vote\n",
            "you can vote\n",
            "you can vote\n",
            "you can vote\n",
            "you can vote\n",
            "you can vote\n",
            "you can vote\n",
            "you can vote\n",
            "you can vote\n",
            "you can vote\n",
            "you can vote\n",
            "you can vote\n",
            "you can vote\n",
            "you can vote\n",
            "you can vote\n",
            "you can vote\n",
            "you can vote\n",
            "you can vote\n",
            "you can vote\n",
            "you can vote\n",
            "you can vote\n",
            "you can vote\n",
            "you can vote\n",
            "you can vote\n",
            "you can vote\n",
            "you can vote\n",
            "you can vote\n",
            "you can vote\n",
            "you can vote\n",
            "you can vote\n",
            "you can vote\n",
            "you can vote\n",
            "you can vote\n",
            "you can vote\n",
            "you can vote\n",
            "you can vote\n",
            "you can vote\n",
            "you can vote\n",
            "you can vote\n",
            "you can vote\n",
            "you can vote\n",
            "you can vote\n",
            "you can vote\n",
            "you can vote\n",
            "you can vote\n",
            "you can vote\n",
            "you can vote\n",
            "you can vote\n",
            "you can vote\n",
            "you can vote\n",
            "you can vote\n",
            "you can vote\n",
            "you can vote\n",
            "you can vote\n",
            "you can vote\n",
            "you can vote\n",
            "you can vote\n",
            "you can vote\n",
            "you can vote\n",
            "you can vote\n",
            "you can vote\n",
            "you can vote\n",
            "you can vote\n",
            "you can vote\n",
            "you can vote\n",
            "you can vote\n",
            "you can vote\n",
            "you can vote\n",
            "you can vote\n",
            "you can vote\n",
            "you can vote\n",
            "you can vote\n",
            "you can vote\n",
            "you can vote\n",
            "you can vote\n",
            "you can vote\n",
            "you can vote\n",
            "you can vote\n",
            "you can vote\n",
            "you can vote\n",
            "you can vote\n",
            "you can vote\n",
            "you can vote\n",
            "you can vote\n",
            "you can vote\n",
            "you can vote\n",
            "you can vote\n",
            "you can vote\n",
            "you can vote\n",
            "you can vote\n",
            "you can vote\n",
            "you can vote\n",
            "you can vote\n",
            "you can vote\n",
            "you can vote\n",
            "you can vote\n",
            "you can vote\n",
            "you can vote\n",
            "you can vote\n",
            "you can vote\n",
            "you can vote\n",
            "you can vote\n",
            "you can vote\n",
            "you can vote\n",
            "you can vote\n",
            "you can vote\n",
            "you can vote\n",
            "you can vote\n",
            "you can vote\n",
            "you can vote\n",
            "you can vote\n",
            "you can vote\n",
            "you can vote\n",
            "you can vote\n",
            "you can vote\n",
            "you can vote\n",
            "you can vote\n",
            "you can vote\n",
            "you can vote\n",
            "you can vote\n",
            "you can vote\n",
            "you can vote\n",
            "you can vote\n",
            "you can vote\n",
            "you can vote\n",
            "you can vote\n",
            "you can vote\n",
            "you can vote\n",
            "you can vote\n",
            "you can vote\n",
            "you can vote\n",
            "you can vote\n",
            "you can vote\n",
            "you can vote\n",
            "you can vote\n",
            "you can vote\n",
            "you can vote\n",
            "you can vote\n",
            "you can vote\n",
            "you can vote\n",
            "you can vote\n",
            "you can vote\n",
            "you can vote\n",
            "you can vote\n",
            "you can vote\n",
            "you can vote\n",
            "you can vote\n",
            "you can vote\n",
            "you can vote\n",
            "you can vote\n",
            "you can vote\n",
            "you can vote\n",
            "you can vote\n",
            "you can vote\n",
            "you can vote\n",
            "you can vote\n",
            "you can vote\n",
            "you can vote\n",
            "you can vote\n",
            "you can vote\n",
            "you can vote\n",
            "you can vote\n",
            "you can vote\n",
            "you can vote\n",
            "you can vote\n",
            "you can vote\n",
            "you can vote\n",
            "you can vote\n",
            "you can vote\n",
            "you can vote\n",
            "you can vote\n",
            "you can vote\n",
            "you can vote\n",
            "you can vote\n",
            "you can vote\n",
            "you can vote\n",
            "you can vote\n",
            "you can vote\n",
            "you can vote\n",
            "you can vote\n",
            "you can vote\n",
            "you can vote\n",
            "you can vote\n",
            "you can vote\n",
            "you can vote\n",
            "you can vote\n",
            "you can vote\n",
            "you can vote\n",
            "you can vote\n",
            "you can vote\n",
            "you can vote\n",
            "you can vote\n",
            "you can vote\n",
            "you can vote\n",
            "you can vote\n",
            "you can vote\n",
            "you can vote\n",
            "you can vote\n",
            "you can vote\n",
            "you can vote\n",
            "you can vote\n",
            "you can vote\n",
            "you can vote\n",
            "you can vote\n",
            "you can vote\n",
            "you can vote\n",
            "you can vote\n",
            "you can vote\n",
            "you can vote\n",
            "you can vote\n",
            "you can vote\n",
            "you can vote\n",
            "you can vote\n",
            "you can vote\n",
            "you can vote\n",
            "you can vote\n",
            "you can vote\n",
            "you can vote\n",
            "you can vote\n",
            "you can vote\n",
            "you can vote\n",
            "you can vote\n",
            "you can vote\n",
            "you can vote\n",
            "you can vote\n",
            "you can vote\n",
            "you can vote\n",
            "you can vote\n",
            "you can vote\n",
            "you can vote\n",
            "you can vote\n",
            "you can vote\n",
            "you can vote\n",
            "you can vote\n",
            "you can vote\n",
            "you can vote\n",
            "you can vote\n",
            "you can vote\n",
            "you can vote\n",
            "you can vote\n",
            "you can vote\n",
            "you can vote\n",
            "you can vote\n",
            "you can vote\n",
            "you can vote\n",
            "you can vote\n",
            "you can vote\n",
            "you can vote\n",
            "you can vote\n",
            "you can vote\n",
            "you can vote\n",
            "you can vote\n",
            "you can vote\n",
            "you can vote\n",
            "you can vote\n",
            "you can vote\n",
            "you can vote\n",
            "you can vote\n",
            "you can vote\n",
            "you can vote\n",
            "you can vote\n",
            "you can vote\n",
            "you can vote\n",
            "you can vote\n",
            "you can vote\n",
            "you can vote\n",
            "you can vote\n",
            "you can vote\n",
            "you can vote\n",
            "you can vote\n",
            "you can vote\n",
            "you can vote\n",
            "you can vote\n",
            "you can vote\n",
            "you can vote\n",
            "you can vote\n",
            "you can vote\n",
            "you can vote\n",
            "you can vote\n",
            "you can vote\n",
            "you can vote\n",
            "you can vote\n",
            "you can vote\n",
            "you can vote\n",
            "you can vote\n",
            "you can vote\n",
            "you can vote\n",
            "you can vote\n",
            "you can vote\n",
            "you can vote\n",
            "you can vote\n",
            "you can vote\n",
            "you can vote\n",
            "you can vote\n",
            "you can vote\n",
            "you can vote\n",
            "you can vote\n",
            "you can vote\n",
            "you can vote\n",
            "you can vote\n",
            "you can vote\n",
            "you can vote\n",
            "you can vote\n",
            "you can vote\n",
            "you can vote\n",
            "you can vote\n",
            "you can vote\n",
            "you can vote\n",
            "you can vote\n",
            "you can vote\n",
            "you can vote\n",
            "you can vote\n",
            "you can vote\n",
            "you can vote\n",
            "you can vote\n",
            "you can vote\n",
            "you can vote\n",
            "you can vote\n",
            "you can vote\n",
            "you can vote\n",
            "you can vote\n",
            "you can vote\n",
            "you can vote\n",
            "you can vote\n",
            "you can vote\n",
            "you can vote\n",
            "you can vote\n",
            "you can vote\n",
            "you can vote\n",
            "you can vote\n",
            "you can vote\n",
            "you can vote\n",
            "you can vote\n",
            "you can vote\n",
            "you can vote\n",
            "you can vote\n",
            "you can vote\n",
            "you can vote\n",
            "you can vote\n",
            "you can vote\n",
            "you can vote\n",
            "you can vote\n",
            "you can vote\n",
            "you can vote\n",
            "you can vote\n",
            "you can vote\n",
            "you can vote\n",
            "you can vote\n",
            "you can vote\n",
            "you can vote\n",
            "you can vote\n",
            "you can vote\n",
            "you can vote\n",
            "you can vote\n",
            "you can vote\n",
            "you can vote\n",
            "you can vote\n",
            "you can vote\n",
            "you can vote\n",
            "you can vote\n",
            "you can vote\n",
            "you can vote\n",
            "you can vote\n",
            "you can vote\n",
            "you can vote\n",
            "you can vote\n",
            "you can vote\n",
            "you can vote\n",
            "you can vote\n",
            "you can vote\n",
            "you can vote\n",
            "you can vote\n",
            "you can vote\n",
            "you can vote\n",
            "you can vote\n",
            "you can vote\n",
            "you can vote\n",
            "you can vote\n",
            "you can vote\n",
            "you can vote\n",
            "you can vote\n",
            "you can vote\n",
            "you can vote\n",
            "you can vote\n",
            "you can vote\n",
            "you can vote\n",
            "you can vote\n",
            "you can vote\n",
            "you can vote\n",
            "you can vote\n",
            "you can vote\n",
            "you can vote\n",
            "you can vote\n",
            "you can vote\n",
            "you can vote\n",
            "you can vote\n",
            "you can vote\n",
            "you can vote\n",
            "you can vote\n",
            "you can vote\n",
            "you can vote\n",
            "you can vote\n",
            "you can vote\n",
            "you can vote\n",
            "you can vote\n",
            "you can vote\n",
            "you can vote\n",
            "you can vote\n",
            "you can vote\n",
            "you can vote\n",
            "you can vote\n",
            "you can vote\n",
            "you can vote\n",
            "you can vote\n",
            "you can vote\n",
            "you can vote\n",
            "you can vote\n",
            "you can vote\n",
            "you can vote\n",
            "you can vote\n",
            "you can vote\n",
            "you can vote\n",
            "you can vote\n",
            "you can vote\n",
            "you can vote\n",
            "you can vote\n",
            "you can vote\n",
            "you can vote\n",
            "you can vote\n",
            "you can vote\n",
            "you can vote\n",
            "you can vote\n",
            "you can vote\n",
            "you can vote\n",
            "you can vote\n",
            "you can vote\n",
            "you can vote\n",
            "you can vote\n",
            "you can vote\n",
            "you can vote\n",
            "you can vote\n",
            "you can vote\n",
            "you can vote\n",
            "you can vote\n",
            "you can vote\n",
            "you can vote\n",
            "you can vote\n",
            "you can vote\n",
            "you can vote\n",
            "you can vote\n",
            "you can vote\n",
            "you can vote\n",
            "you can vote\n",
            "you can vote\n",
            "you can vote\n",
            "you can vote\n",
            "you can vote\n",
            "you can vote\n",
            "you can vote\n",
            "you can vote\n",
            "you can vote\n",
            "you can vote\n",
            "you can vote\n",
            "you can vote\n",
            "you can vote\n",
            "you can vote\n",
            "you can vote\n",
            "you can vote\n",
            "you can vote\n",
            "you can vote\n",
            "you can vote\n",
            "you can vote\n",
            "you can vote\n",
            "you can vote\n",
            "you can vote\n",
            "you can vote\n",
            "you can vote\n",
            "you can vote\n",
            "you can vote\n",
            "you can vote\n",
            "you can vote\n",
            "you can vote\n",
            "you can vote\n",
            "you can vote\n",
            "you can vote\n",
            "you can vote\n",
            "you can vote\n",
            "you can vote\n",
            "you can vote\n",
            "you can vote\n",
            "you can vote\n",
            "you can vote\n",
            "you can vote\n",
            "you can vote\n",
            "you can vote\n",
            "you can vote\n",
            "you can vote\n",
            "you can vote\n",
            "you can vote\n",
            "you can vote\n",
            "you can vote\n",
            "you can vote\n",
            "you can vote\n",
            "you can vote\n",
            "you can vote\n",
            "you can vote\n",
            "you can vote\n",
            "you can vote\n",
            "you can vote\n",
            "you can vote\n",
            "you can vote\n",
            "you can vote\n",
            "you can vote\n",
            "you can vote\n",
            "you can vote\n",
            "you can vote\n",
            "you can vote\n",
            "you can vote\n",
            "you can vote\n",
            "you can vote\n",
            "you can vote\n",
            "you can vote\n",
            "you can vote\n",
            "you can vote\n",
            "you can vote\n",
            "you can vote\n",
            "you can vote\n",
            "you can vote\n",
            "you can vote\n",
            "you can vote\n",
            "you can vote\n",
            "you can vote\n",
            "you can vote\n",
            "you can vote\n",
            "you can vote\n",
            "you can vote\n",
            "you can vote\n",
            "you can vote\n",
            "you can vote\n",
            "you can vote\n",
            "you can vote\n",
            "you can vote\n",
            "you can vote\n",
            "you can vote\n",
            "you can vote\n",
            "you can vote\n",
            "you can vote\n",
            "you can vote\n",
            "you can vote\n",
            "you can vote\n",
            "you can vote\n",
            "you can vote\n",
            "you can vote\n",
            "you can vote\n",
            "you can vote\n",
            "you can vote\n",
            "you can vote\n",
            "you can vote\n",
            "you can vote\n",
            "you can vote\n",
            "you can vote\n",
            "you can vote\n",
            "you can vote\n",
            "you can vote\n",
            "you can vote\n",
            "you can vote\n",
            "you can vote\n",
            "you can vote\n",
            "you can vote\n",
            "you can vote\n",
            "you can vote\n",
            "you can vote\n",
            "you can vote\n",
            "you can vote\n",
            "you can vote\n",
            "you can vote\n",
            "you can vote\n",
            "you can vote\n",
            "you can vote\n",
            "you can vote\n",
            "you can vote\n",
            "you can vote\n",
            "you can vote\n",
            "you can vote\n",
            "you can vote\n",
            "you can vote\n",
            "you can vote\n",
            "you can vote\n",
            "you can vote\n",
            "you can vote\n",
            "you can vote\n",
            "you can vote\n",
            "you can vote\n",
            "you can vote\n",
            "you can vote\n",
            "you can vote\n",
            "you can vote\n",
            "you can vote\n",
            "you can vote\n",
            "you can vote\n",
            "you can vote\n",
            "you can vote\n",
            "you can vote\n",
            "you can vote\n",
            "you can vote\n",
            "you can vote\n",
            "you can vote\n",
            "you can vote\n",
            "you can vote\n",
            "you can vote\n",
            "you can vote\n",
            "you can vote\n",
            "you can vote\n",
            "you can vote\n",
            "you can vote\n",
            "you can vote\n",
            "you can vote\n",
            "you can vote\n",
            "you can vote\n",
            "you can vote\n",
            "you can vote\n",
            "you can vote\n",
            "you can vote\n",
            "you can vote\n",
            "you can vote\n",
            "you can vote\n",
            "you can vote\n",
            "you can vote\n",
            "you can vote\n",
            "you can vote\n",
            "you can vote\n",
            "you can vote\n",
            "you can vote\n",
            "you can vote\n",
            "you can vote\n",
            "you can vote\n",
            "you can vote\n",
            "you can vote\n",
            "you can vote\n",
            "you can vote\n",
            "you can vote\n",
            "you can vote\n",
            "you can vote\n",
            "you can vote\n",
            "you can vote\n",
            "you can vote\n",
            "you can vote\n",
            "you can vote\n",
            "you can vote\n",
            "you can vote\n",
            "you can vote\n",
            "you can vote\n",
            "you can vote\n",
            "you can vote\n",
            "you can vote\n",
            "you can vote\n",
            "you can vote\n",
            "you can vote\n",
            "you can vote\n",
            "you can vote\n",
            "you can vote\n",
            "you can vote\n",
            "you can vote\n",
            "you can vote\n",
            "you can vote\n",
            "you can vote\n",
            "you can vote\n",
            "you can vote\n",
            "you can vote\n",
            "you can vote\n",
            "you can vote\n",
            "you can vote\n",
            "you can vote\n",
            "you can vote\n",
            "you can vote\n",
            "you can vote\n",
            "you can vote\n",
            "you can vote\n",
            "you can vote\n",
            "you can vote\n",
            "you can vote\n",
            "you can vote\n",
            "you can vote\n",
            "you can vote\n",
            "you can vote\n",
            "you can vote\n",
            "you can vote\n",
            "you can vote\n",
            "you can vote\n",
            "you can vote\n",
            "you can vote\n",
            "you can vote\n",
            "you can vote\n",
            "you can vote\n",
            "you can vote\n",
            "you can vote\n",
            "you can vote\n",
            "you can vote\n",
            "you can vote\n",
            "you can vote\n",
            "you can vote\n",
            "you can vote\n",
            "you can vote\n",
            "you can vote\n",
            "you can vote\n",
            "you can vote\n",
            "you can vote\n",
            "you can vote\n",
            "you can vote\n",
            "you can vote\n",
            "you can vote\n",
            "you can vote\n",
            "you can vote\n",
            "you can vote\n",
            "you can vote\n",
            "you can vote\n",
            "you can vote\n",
            "you can vote\n",
            "you can vote\n",
            "you can vote\n",
            "you can vote\n",
            "you can vote\n",
            "you can vote\n",
            "you can vote\n",
            "you can vote\n",
            "you can vote\n",
            "you can vote\n",
            "you can vote\n",
            "you can vote\n",
            "you can vote\n",
            "you can vote\n",
            "you can vote\n",
            "you can vote\n",
            "you can vote\n",
            "you can vote\n",
            "you can vote\n",
            "you can vote\n",
            "you can vote\n",
            "you can vote\n",
            "you can vote\n",
            "you can vote\n",
            "you can vote\n",
            "you can vote\n",
            "you can vote\n",
            "you can vote\n",
            "you can vote\n",
            "you can vote\n",
            "you can vote\n",
            "you can vote\n",
            "you can vote\n",
            "you can vote\n",
            "you can vote\n",
            "you can vote\n",
            "you can vote\n",
            "you can vote\n",
            "you can vote\n",
            "you can vote\n",
            "you can vote\n",
            "you can vote\n",
            "you can vote\n",
            "you can vote\n",
            "you can vote\n",
            "you can vote\n",
            "you can vote\n",
            "you can vote\n",
            "you can vote\n",
            "you can vote\n",
            "you can vote\n",
            "you can vote\n",
            "you can vote\n",
            "you can vote\n",
            "you can vote\n",
            "you can vote\n",
            "you can vote\n",
            "you can vote\n",
            "you can vote\n",
            "you can vote\n",
            "you can vote\n",
            "you can vote\n",
            "you can vote\n",
            "you can vote\n",
            "you can vote\n",
            "you can vote\n",
            "you can vote\n",
            "you can vote\n",
            "you can vote\n",
            "you can vote\n",
            "you can vote\n",
            "you can vote\n",
            "you can vote\n",
            "you can vote\n",
            "you can vote\n",
            "you can vote\n",
            "you can vote\n",
            "you can vote\n",
            "you can vote\n",
            "you can vote\n",
            "you can vote\n",
            "you can vote\n",
            "you can vote\n",
            "you can vote\n",
            "you can vote\n",
            "you can vote\n",
            "you can vote\n",
            "you can vote\n",
            "you can vote\n",
            "you can vote\n",
            "you can vote\n",
            "you can vote\n",
            "you can vote\n",
            "you can vote\n",
            "you can vote\n",
            "you can vote\n",
            "you can vote\n",
            "you can vote\n",
            "you can vote\n",
            "you can vote\n",
            "you can vote\n",
            "you can vote\n",
            "you can vote\n",
            "you can vote\n",
            "you can vote\n",
            "you can vote\n",
            "you can vote\n",
            "you can vote\n",
            "you can vote\n",
            "you can vote\n",
            "you can vote\n",
            "you can vote\n",
            "you can vote\n",
            "you can vote\n",
            "you can vote\n",
            "you can vote\n",
            "you can vote\n",
            "you can vote\n",
            "you can vote\n",
            "you can vote\n",
            "you can vote\n",
            "you can vote\n",
            "you can vote\n",
            "you can vote\n",
            "you can vote\n",
            "you can vote\n",
            "you can vote\n",
            "you can vote\n",
            "you can vote\n",
            "you can vote\n",
            "you can vote\n",
            "you can vote\n",
            "you can vote\n",
            "you can vote\n",
            "you can vote\n",
            "you can vote\n",
            "you can vote\n",
            "you can vote\n",
            "you can vote\n",
            "you can vote\n",
            "you can vote\n",
            "you can vote\n",
            "you can vote\n",
            "you can vote\n",
            "you can vote\n",
            "you can vote\n",
            "you can vote\n",
            "you can vote\n",
            "you can vote\n",
            "you can vote\n",
            "you can vote\n",
            "you can vote\n",
            "you can vote\n",
            "you can vote\n",
            "you can vote\n",
            "you can vote\n",
            "you can vote\n",
            "you can vote\n",
            "you can vote\n",
            "you can vote\n",
            "you can vote\n",
            "you can vote\n",
            "you can vote\n",
            "you can vote\n",
            "you can vote\n",
            "you can vote\n",
            "you can vote\n",
            "you can vote\n",
            "you can vote\n",
            "you can vote\n",
            "you can vote\n",
            "you can vote\n",
            "you can vote\n",
            "you can vote\n",
            "you can vote\n",
            "you can vote\n",
            "you can vote\n",
            "you can vote\n",
            "you can vote\n",
            "you can vote\n",
            "you can vote\n",
            "you can vote\n",
            "you can vote\n",
            "you can vote\n",
            "you can vote\n",
            "you can vote\n",
            "you can vote\n",
            "you can vote\n",
            "you can vote\n",
            "you can vote\n",
            "you can vote\n",
            "you can vote\n",
            "you can vote\n",
            "you can vote\n",
            "you can vote\n",
            "you can vote\n",
            "you can vote\n",
            "you can vote\n",
            "you can vote\n",
            "you can vote\n",
            "you can vote\n",
            "you can vote\n",
            "you can vote\n",
            "you can vote\n",
            "you can vote\n",
            "you can vote\n",
            "you can vote\n",
            "you can vote\n",
            "you can vote\n",
            "you can vote\n",
            "you can vote\n",
            "you can vote\n",
            "you can vote\n",
            "you can vote\n",
            "you can vote\n",
            "you can vote\n",
            "you can vote\n",
            "you can vote\n",
            "you can vote\n",
            "you can vote\n",
            "you can vote\n",
            "you can vote\n",
            "you can vote\n",
            "you can vote\n",
            "you can vote\n",
            "you can vote\n",
            "you can vote\n",
            "you can vote\n",
            "you can vote\n",
            "you can vote\n",
            "you can vote\n",
            "you can vote\n",
            "you can vote\n",
            "you can vote\n",
            "you can vote\n",
            "you can vote\n",
            "you can vote\n",
            "you can vote\n",
            "you can vote\n",
            "you can vote\n",
            "you can vote\n",
            "you can vote\n",
            "you can vote\n",
            "you can vote\n",
            "you can vote\n",
            "you can vote\n",
            "you can vote\n",
            "you can vote\n",
            "you can vote\n",
            "you can vote\n",
            "you can vote\n",
            "you can vote\n",
            "you can vote\n",
            "you can vote\n",
            "you can vote\n",
            "you can vote\n",
            "you can vote\n",
            "you can vote\n",
            "you can vote\n",
            "you can vote\n",
            "you can vote\n",
            "you can vote\n",
            "you can vote\n",
            "you can vote\n",
            "you can vote\n",
            "you can vote\n",
            "you can vote\n",
            "you can vote\n",
            "you can vote\n",
            "you can vote\n",
            "you can vote\n",
            "you can vote\n",
            "you can vote\n",
            "you can vote\n",
            "you can vote\n",
            "you can vote\n",
            "you can vote\n",
            "you can vote\n",
            "you can vote\n",
            "you can vote\n",
            "you can vote\n",
            "you can vote\n",
            "you can vote\n",
            "you can vote\n",
            "you can vote\n",
            "you can vote\n",
            "you can vote\n",
            "you can vote\n",
            "you can vote\n",
            "you can vote\n",
            "you can vote\n",
            "you can vote\n",
            "you can vote\n",
            "you can vote\n",
            "you can vote\n",
            "you can vote\n",
            "you can vote\n",
            "you can vote\n",
            "you can vote\n",
            "you can vote\n",
            "you can vote\n",
            "you can vote\n",
            "you can vote\n",
            "you can vote\n",
            "you can vote\n",
            "you can vote\n",
            "you can vote\n",
            "you can vote\n",
            "you can vote\n",
            "you can vote\n",
            "you can vote\n",
            "you can vote\n",
            "you can vote\n",
            "you can vote\n",
            "you can vote\n",
            "you can vote\n",
            "you can vote\n",
            "you can vote\n",
            "you can vote\n",
            "you can vote\n",
            "you can vote\n",
            "you can vote\n",
            "you can vote\n",
            "you can vote\n",
            "you can vote\n",
            "you can vote\n",
            "you can vote\n",
            "you can vote\n",
            "you can vote\n",
            "you can vote\n",
            "you can vote\n",
            "you can vote\n",
            "you can vote\n",
            "you can vote\n",
            "you can vote\n",
            "you can vote\n",
            "you can vote\n",
            "you can vote\n",
            "you can vote\n",
            "you can vote\n",
            "you can vote\n",
            "you can vote\n",
            "you can vote\n",
            "you can vote\n",
            "you can vote\n",
            "you can vote\n",
            "you can vote\n",
            "you can vote\n",
            "you can vote\n",
            "you can vote\n",
            "you can vote\n",
            "you can vote\n",
            "you can vote\n",
            "you can vote\n",
            "you can vote\n",
            "you can vote\n",
            "you can vote\n",
            "you can vote\n",
            "you can vote\n",
            "you can vote\n",
            "you can vote\n",
            "you can vote\n",
            "you can vote\n",
            "you can vote\n",
            "you can vote\n",
            "you can vote\n",
            "you can vote\n",
            "you can vote\n",
            "you can vote\n",
            "you can vote\n",
            "you can vote\n",
            "you can vote\n",
            "you can vote\n",
            "you can vote\n",
            "you can vote\n",
            "you can vote\n",
            "you can vote\n",
            "you can vote\n",
            "you can vote\n",
            "you can vote\n",
            "you can vote\n",
            "you can vote\n",
            "you can vote\n",
            "you can vote\n",
            "you can vote\n",
            "you can vote\n",
            "you can vote\n",
            "you can vote\n",
            "you can vote\n",
            "you can vote\n",
            "you can vote\n",
            "you can vote\n",
            "you can vote\n",
            "you can vote\n",
            "you can vote\n",
            "you can vote\n",
            "you can vote\n",
            "you can vote\n",
            "you can vote\n",
            "you can vote\n",
            "you can vote\n",
            "you can vote\n",
            "you can vote\n",
            "you can vote\n",
            "you can vote\n",
            "you can vote\n",
            "you can vote\n",
            "you can vote\n",
            "you can vote\n",
            "you can vote\n",
            "you can vote\n",
            "you can vote\n",
            "you can vote\n",
            "you can vote\n",
            "you can vote\n",
            "you can vote\n",
            "you can vote\n",
            "you can vote\n",
            "you can vote\n",
            "you can vote\n",
            "you can vote\n",
            "you can vote\n",
            "you can vote\n",
            "you can vote\n",
            "you can vote\n",
            "you can vote\n",
            "you can vote\n",
            "you can vote\n",
            "you can vote\n",
            "you can vote\n",
            "you can vote\n",
            "you can vote\n",
            "you can vote\n",
            "you can vote\n",
            "you can vote\n",
            "you can vote\n",
            "you can vote\n",
            "you can vote\n",
            "you can vote\n",
            "you can vote\n",
            "you can vote\n",
            "you can vote\n",
            "you can vote\n",
            "you can vote\n",
            "you can vote\n",
            "you can vote\n",
            "you can vote\n",
            "you can vote\n",
            "you can vote\n",
            "you can vote\n",
            "you can vote\n",
            "you can vote\n",
            "you can vote\n",
            "you can vote\n",
            "you can vote\n",
            "you can vote\n",
            "you can vote\n",
            "you can vote\n",
            "you can vote\n",
            "you can vote\n",
            "you can vote\n",
            "you can vote\n",
            "you can vote\n",
            "you can vote\n",
            "you can vote\n",
            "you can vote\n",
            "you can vote\n",
            "you can vote\n",
            "you can vote\n",
            "you can vote\n",
            "you can vote\n",
            "you can vote\n",
            "you can vote\n",
            "you can vote\n",
            "you can vote\n",
            "you can vote\n",
            "you can vote\n",
            "you can vote\n",
            "you can vote\n",
            "you can vote\n",
            "you can vote\n",
            "you can vote\n",
            "you can vote\n",
            "you can vote\n",
            "you can vote\n",
            "you can vote\n",
            "you can vote\n",
            "you can vote\n",
            "you can vote\n",
            "you can vote\n",
            "you can vote\n",
            "you can vote\n",
            "you can vote\n",
            "you can vote\n",
            "you can vote\n",
            "you can vote\n",
            "you can vote\n",
            "you can vote\n",
            "you can vote\n",
            "you can vote\n",
            "you can vote\n",
            "you can vote\n",
            "you can vote\n",
            "you can vote\n",
            "you can vote\n",
            "you can vote\n",
            "you can vote\n",
            "you can vote\n",
            "you can vote\n",
            "you can vote\n",
            "you can vote\n",
            "you can vote\n",
            "you can vote\n",
            "you can vote\n",
            "you can vote\n",
            "you can vote\n",
            "you can vote\n",
            "you can vote\n",
            "you can vote\n",
            "you can vote\n",
            "you can vote\n",
            "you can vote\n",
            "you can vote\n",
            "you can vote\n",
            "you can vote\n",
            "you can vote\n",
            "you can vote\n",
            "you can vote\n",
            "you can vote\n",
            "you can vote\n",
            "you can vote\n",
            "you can vote\n",
            "you can vote\n",
            "you can vote\n",
            "you can vote\n",
            "you can vote\n",
            "you can vote\n",
            "you can vote\n",
            "you can vote\n",
            "you can vote\n",
            "you can vote\n",
            "you can vote\n",
            "you can vote\n",
            "you can vote\n",
            "you can vote\n",
            "you can vote\n",
            "you can vote\n",
            "you can vote\n",
            "you can vote\n",
            "you can vote\n",
            "you can vote\n",
            "you can vote\n",
            "you can vote\n",
            "you can vote\n",
            "you can vote\n",
            "you can vote\n",
            "you can vote\n",
            "you can vote\n",
            "you can vote\n",
            "you can vote\n",
            "you can vote\n",
            "you can vote\n",
            "you can vote\n",
            "you can vote\n",
            "you can vote\n",
            "you can vote\n",
            "you can vote\n",
            "you can vote\n",
            "you can vote\n",
            "you can vote\n",
            "you can vote\n",
            "you can vote\n",
            "you can vote\n",
            "you can vote\n",
            "you can vote\n",
            "you can vote\n",
            "you can vote\n",
            "you can vote\n",
            "you can vote\n",
            "you can vote\n",
            "you can vote\n",
            "you can vote\n",
            "you can vote\n",
            "you can vote\n",
            "you can vote\n",
            "you can vote\n",
            "you can vote\n",
            "you can vote\n",
            "you can vote\n",
            "you can vote\n",
            "you can vote\n",
            "you can vote\n",
            "you can vote\n",
            "you can vote\n",
            "you can vote\n",
            "you can vote\n",
            "you can vote\n",
            "you can vote\n",
            "you can vote\n",
            "you can vote\n",
            "you can vote\n",
            "you can vote\n",
            "you can vote\n",
            "you can vote\n",
            "you can vote\n",
            "you can vote\n",
            "you can vote\n",
            "you can vote\n",
            "you can vote\n",
            "you can vote\n",
            "you can vote\n",
            "you can vote\n",
            "you can vote\n",
            "you can vote\n",
            "you can vote\n",
            "you can vote\n",
            "you can vote\n",
            "you can vote\n",
            "you can vote\n",
            "you can vote\n",
            "you can vote\n",
            "you can vote\n",
            "you can vote\n",
            "you can vote\n",
            "you can vote\n",
            "you can vote\n",
            "you can vote\n",
            "you can vote\n",
            "you can vote\n",
            "you can vote\n",
            "you can vote\n",
            "you can vote\n",
            "you can vote\n",
            "you can vote\n",
            "you can vote\n",
            "you can vote\n",
            "you can vote\n",
            "you can vote\n",
            "you can vote\n",
            "you can vote\n",
            "you can vote\n",
            "you can vote\n",
            "you can vote\n",
            "you can vote\n",
            "you can vote\n",
            "you can vote\n",
            "you can vote\n",
            "you can vote\n",
            "you can vote\n",
            "you can vote\n",
            "you can vote\n",
            "you can vote\n",
            "you can vote\n",
            "you can vote\n",
            "you can vote\n",
            "you can vote\n",
            "you can vote\n",
            "you can vote\n",
            "you can vote\n",
            "you can vote\n",
            "you can vote\n",
            "you can vote\n",
            "you can vote\n",
            "you can vote\n",
            "you can vote\n",
            "you can vote\n",
            "you can vote\n",
            "you can vote\n",
            "you can vote\n",
            "you can vote\n",
            "you can vote\n",
            "you can vote\n",
            "you can vote\n",
            "you can vote\n",
            "you can vote\n",
            "you can vote\n",
            "you can vote\n",
            "you can vote\n",
            "you can vote\n",
            "you can vote\n",
            "you can vote\n",
            "you can vote\n",
            "you can vote\n",
            "you can vote\n",
            "you can vote\n",
            "you can vote\n",
            "you can vote\n",
            "you can vote\n",
            "you can vote\n",
            "you can vote\n",
            "you can vote\n",
            "you can vote\n",
            "you can vote\n",
            "you can vote\n",
            "you can vote\n",
            "you can vote\n",
            "you can vote\n",
            "you can vote\n",
            "you can vote\n",
            "you can vote\n",
            "you can vote\n",
            "you can vote\n",
            "you can vote\n",
            "you can vote\n",
            "you can vote\n",
            "you can vote\n",
            "you can vote\n",
            "you can vote\n",
            "you can vote\n",
            "you can vote\n",
            "you can vote\n",
            "you can vote\n",
            "you can vote\n",
            "you can vote\n",
            "you can vote\n",
            "you can vote\n",
            "you can vote\n",
            "you can vote\n",
            "you can vote\n",
            "you can vote\n",
            "you can vote\n",
            "you can vote\n",
            "you can vote\n",
            "you can vote\n",
            "you can vote\n",
            "you can vote\n",
            "you can vote\n",
            "you can vote\n",
            "you can vote\n",
            "you can vote\n",
            "you can vote\n",
            "you can vote\n",
            "you can vote\n",
            "you can vote\n",
            "you can vote\n",
            "you can vote\n",
            "you can vote\n",
            "you can vote\n",
            "you can vote\n",
            "you can vote\n",
            "you can vote\n",
            "you can vote\n",
            "you can vote\n",
            "you can vote\n",
            "you can vote\n",
            "you can vote\n",
            "you can vote\n",
            "you can vote\n",
            "you can vote\n",
            "you can vote\n",
            "you can vote\n",
            "you can vote\n",
            "you can vote\n",
            "you can vote\n",
            "you can vote\n",
            "you can vote\n",
            "you can vote\n",
            "you can vote\n",
            "you can vote\n",
            "you can vote\n",
            "you can vote\n",
            "you can vote\n",
            "you can vote\n",
            "you can vote\n",
            "you can vote\n",
            "you can vote\n",
            "you can vote\n",
            "you can vote\n",
            "you can vote\n",
            "you can vote\n",
            "you can vote\n",
            "you can vote\n",
            "you can vote\n",
            "you can vote\n",
            "you can vote\n",
            "you can vote\n",
            "you can vote\n",
            "you can vote\n",
            "you can vote\n",
            "you can vote\n",
            "you can vote\n",
            "you can vote\n",
            "you can vote\n",
            "you can vote\n",
            "you can vote\n",
            "you can vote\n",
            "you can vote\n",
            "you can vote\n",
            "you can vote\n",
            "you can vote\n",
            "you can vote\n",
            "you can vote\n",
            "you can vote\n",
            "you can vote\n",
            "you can vote\n",
            "you can vote\n",
            "you can vote\n",
            "you can vote\n",
            "you can vote\n",
            "you can vote\n",
            "you can vote\n",
            "you can vote\n",
            "you can vote\n",
            "you can vote\n",
            "you can vote\n",
            "you can vote\n",
            "you can vote\n",
            "you can vote\n",
            "you can vote\n",
            "you can vote\n",
            "you can vote\n",
            "you can vote\n",
            "you can vote\n",
            "you can vote\n",
            "you can vote\n",
            "you can vote\n",
            "you can vote\n",
            "you can vote\n",
            "you can vote\n",
            "you can vote\n",
            "you can vote\n",
            "you can vote\n",
            "you can vote\n",
            "you can vote\n",
            "you can vote\n",
            "you can vote\n",
            "you can vote\n",
            "you can vote\n",
            "you can vote\n",
            "you can vote\n",
            "you can vote\n",
            "you can vote\n",
            "you can vote\n",
            "you can vote\n",
            "you can vote\n",
            "you can vote\n",
            "you can vote\n",
            "you can vote\n",
            "you can vote\n",
            "you can vote\n",
            "you can vote\n",
            "you can vote\n",
            "you can vote\n",
            "you can vote\n",
            "you can vote\n",
            "you can vote\n",
            "you can vote\n",
            "you can vote\n",
            "you can vote\n",
            "you can vote\n",
            "you can vote\n",
            "you can vote\n",
            "you can vote\n",
            "you can vote\n",
            "you can vote\n",
            "you can vote\n",
            "you can vote\n",
            "you can vote\n",
            "you can vote\n",
            "you can vote\n",
            "you can vote\n",
            "you can vote\n",
            "you can vote\n",
            "you can vote\n",
            "you can vote\n",
            "you can vote\n",
            "you can vote\n",
            "you can vote\n",
            "you can vote\n",
            "you can vote\n",
            "you can vote\n",
            "you can vote\n",
            "you can vote\n",
            "you can vote\n",
            "you can vote\n",
            "you can vote\n",
            "you can vote\n",
            "you can vote\n",
            "you can vote\n",
            "you can vote\n",
            "you can vote\n",
            "you can vote\n",
            "you can vote\n",
            "you can vote\n",
            "you can vote\n",
            "you can vote\n",
            "you can vote\n",
            "you can vote\n",
            "you can vote\n",
            "you can vote\n",
            "you can vote\n",
            "you can vote\n",
            "you can vote\n",
            "you can vote\n",
            "you can vote\n",
            "you can vote\n",
            "you can vote\n",
            "you can vote\n",
            "you can vote\n",
            "you can vote\n",
            "you can vote\n",
            "you can vote\n",
            "you can vote\n",
            "you can vote\n",
            "you can vote\n",
            "you can vote\n",
            "you can vote\n",
            "you can vote\n",
            "you can vote\n",
            "you can vote\n",
            "you can vote\n",
            "you can vote\n",
            "you can vote\n",
            "you can vote\n",
            "you can vote\n",
            "you can vote\n",
            "you can vote\n",
            "you can vote\n",
            "you can vote\n",
            "you can vote\n",
            "you can vote\n",
            "you can vote\n",
            "you can vote\n",
            "you can vote\n",
            "you can vote\n",
            "you can vote\n",
            "you can vote\n",
            "you can vote\n",
            "you can vote\n",
            "you can vote\n",
            "you can vote\n",
            "you can vote\n",
            "you can vote\n",
            "you can vote\n",
            "you can vote\n",
            "you can vote\n",
            "you can vote\n",
            "you can vote\n",
            "you can vote\n",
            "you can vote\n",
            "you can vote\n",
            "you can vote\n",
            "you can vote\n",
            "you can vote\n",
            "you can vote\n",
            "you can vote\n",
            "you can vote\n",
            "you can vote\n",
            "you can vote\n",
            "you can vote\n",
            "you can vote\n",
            "you can vote\n",
            "you can vote\n",
            "you can vote\n",
            "you can vote\n",
            "you can vote\n",
            "you can vote\n",
            "you can vote\n",
            "you can vote\n",
            "you can vote\n",
            "you can vote\n",
            "you can vote\n",
            "you can vote\n",
            "you can vote\n",
            "you can vote\n",
            "you can vote\n",
            "you can vote\n",
            "you can vote\n",
            "you can vote\n",
            "you can vote\n",
            "you can vote\n",
            "you can vote\n",
            "you can vote\n",
            "you can vote\n",
            "you can vote\n",
            "you can vote\n",
            "you can vote\n",
            "you can vote\n",
            "you can vote\n",
            "you can vote\n",
            "you can vote\n",
            "you can vote\n",
            "you can vote\n",
            "you can vote\n",
            "you can vote\n",
            "you can vote\n",
            "you can vote\n",
            "you can vote\n",
            "you can vote\n",
            "you can vote\n",
            "you can vote\n",
            "you can vote\n",
            "you can vote\n",
            "you can vote\n",
            "you can vote\n",
            "you can vote\n",
            "you can vote\n",
            "you can vote\n",
            "you can vote\n",
            "you can vote\n",
            "you can vote\n",
            "you can vote\n",
            "you can vote\n",
            "you can vote\n",
            "you can vote\n",
            "you can vote\n",
            "you can vote\n",
            "you can vote\n",
            "you can vote\n",
            "you can vote\n",
            "you can vote\n",
            "you can vote\n",
            "you can vote\n",
            "you can vote\n",
            "you can vote\n",
            "you can vote\n",
            "you can vote\n",
            "you can vote\n",
            "you can vote\n",
            "you can vote\n",
            "you can vote\n",
            "you can vote\n",
            "you can vote\n",
            "you can vote\n",
            "you can vote\n",
            "you can vote\n",
            "you can vote\n",
            "you can vote\n",
            "you can vote\n",
            "you can vote\n",
            "you can vote\n",
            "you can vote\n",
            "you can vote\n",
            "you can vote\n",
            "you can vote\n",
            "you can vote\n",
            "you can vote\n",
            "you can vote\n",
            "you can vote\n",
            "you can vote\n",
            "you can vote\n",
            "you can vote\n",
            "you can vote\n",
            "you can vote\n",
            "you can vote\n",
            "you can vote\n",
            "you can vote\n",
            "you can vote\n",
            "you can vote\n",
            "you can vote\n",
            "you can vote\n",
            "you can vote\n",
            "you can vote\n",
            "you can vote\n",
            "you can vote\n",
            "you can vote\n",
            "you can vote\n",
            "you can vote\n",
            "you can vote\n",
            "you can vote\n",
            "you can vote\n",
            "you can vote\n",
            "you can vote\n",
            "you can vote\n",
            "you can vote\n",
            "you can vote\n",
            "you can vote\n",
            "you can vote\n",
            "you can vote\n",
            "you can vote\n",
            "you can vote\n",
            "you can vote\n",
            "you can vote\n",
            "you can vote\n",
            "you can vote\n",
            "you can vote\n",
            "you can vote\n",
            "you can vote\n",
            "you can vote\n",
            "you can vote\n",
            "you can vote\n",
            "you can vote\n",
            "you can vote\n",
            "you can vote\n",
            "you can vote\n",
            "you can vote\n",
            "you can vote\n",
            "you can vote\n",
            "you can vote\n",
            "you can vote\n",
            "you can vote\n",
            "you can vote\n",
            "you can vote\n",
            "you can vote\n",
            "you can vote\n",
            "you can vote\n",
            "you can vote\n",
            "you can vote\n",
            "you can vote\n",
            "you can vote\n",
            "you can vote\n",
            "you can vote\n",
            "you can vote\n",
            "you can vote\n",
            "you can vote\n",
            "you can vote\n",
            "you can vote\n",
            "you can vote\n",
            "you can vote\n",
            "you can vote\n",
            "you can vote\n",
            "you can vote\n",
            "you can vote\n",
            "you can vote\n",
            "you can vote\n",
            "you can vote\n",
            "you can vote\n",
            "you can vote\n",
            "you can vote\n",
            "you can vote\n",
            "you can vote\n",
            "you can vote\n",
            "you can vote\n",
            "you can vote\n",
            "you can vote\n",
            "you can vote\n",
            "you can vote\n",
            "you can vote\n",
            "you can vote\n",
            "you can vote\n",
            "you can vote\n",
            "you can vote\n",
            "you can vote\n",
            "you can vote\n",
            "you can vote\n",
            "you can vote\n",
            "you can vote\n",
            "you can vote\n",
            "you can vote\n",
            "you can vote\n",
            "you can vote\n",
            "you can vote\n",
            "you can vote\n",
            "you can vote\n",
            "you can vote\n",
            "you can vote\n",
            "you can vote\n",
            "you can vote\n",
            "you can vote\n",
            "you can vote\n",
            "you can vote\n",
            "you can vote\n",
            "you can vote\n",
            "you can vote\n",
            "you can vote\n",
            "you can vote\n",
            "you can vote\n",
            "you can vote\n",
            "you can vote\n",
            "you can vote\n",
            "you can vote\n",
            "you can vote\n",
            "you can vote\n",
            "you can vote\n",
            "you can vote\n",
            "you can vote\n",
            "you can vote\n",
            "you can vote\n",
            "you can vote\n",
            "you can vote\n",
            "you can vote\n",
            "you can vote\n",
            "you can vote\n",
            "you can vote\n",
            "you can vote\n",
            "you can vote\n",
            "you can vote\n",
            "you can vote\n",
            "you can vote\n",
            "you can vote\n",
            "you can vote\n",
            "you can vote\n",
            "you can vote\n",
            "you can vote\n",
            "you can vote\n",
            "you can vote\n",
            "you can vote\n",
            "you can vote\n",
            "you can vote\n",
            "you can vote\n",
            "you can vote\n",
            "you can vote\n",
            "you can vote\n",
            "you can vote\n",
            "you can vote\n",
            "you can vote\n",
            "you can vote\n",
            "you can vote\n",
            "you can vote\n",
            "you can vote\n",
            "you can vote\n",
            "you can vote\n",
            "you can vote\n",
            "you can vote\n",
            "you can vote\n",
            "you can vote\n",
            "you can vote\n",
            "you can vote\n",
            "you can vote\n",
            "you can vote\n",
            "you can vote\n",
            "you can vote\n",
            "you can vote\n",
            "you can vote\n",
            "you can vote\n",
            "you can vote\n",
            "you can vote\n",
            "you can vote\n",
            "you can vote\n",
            "you can vote\n",
            "you can vote\n",
            "you can vote\n",
            "you can vote\n",
            "you can vote\n",
            "you can vote\n",
            "you can vote\n",
            "you can vote\n",
            "you can vote\n",
            "you can vote\n",
            "you can vote\n",
            "you can vote\n",
            "you can vote\n",
            "you can vote\n",
            "you can vote\n",
            "you can vote\n",
            "you can vote\n",
            "you can vote\n",
            "you can vote\n",
            "you can vote\n",
            "you can vote\n",
            "you can vote\n",
            "you can vote\n",
            "you can vote\n",
            "you can vote\n",
            "you can vote\n",
            "you can vote\n",
            "you can vote\n",
            "you can vote\n",
            "you can vote\n",
            "you can vote\n",
            "you can vote\n",
            "you can vote\n",
            "you can vote\n",
            "you can vote\n",
            "you can vote\n",
            "you can vote\n",
            "you can vote\n",
            "you can vote\n",
            "you can vote\n",
            "you can vote\n",
            "you can vote\n",
            "you can vote\n",
            "you can vote\n",
            "you can vote\n",
            "you can vote\n",
            "you can vote\n",
            "you can vote\n",
            "you can vote\n",
            "you can vote\n",
            "you can vote\n",
            "you can vote\n",
            "you can vote\n",
            "you can vote\n",
            "you can vote\n",
            "you can vote\n",
            "you can vote\n",
            "you can vote\n",
            "you can vote\n",
            "you can vote\n",
            "you can vote\n",
            "you can vote\n",
            "you can vote\n",
            "you can vote\n",
            "you can vote\n",
            "you can vote\n",
            "you can vote\n",
            "you can vote\n",
            "you can vote\n",
            "you can vote\n",
            "you can vote\n",
            "you can vote\n",
            "you can vote\n",
            "you can vote\n",
            "you can vote\n",
            "you can vote\n",
            "you can vote\n",
            "you can vote\n",
            "you can vote\n",
            "you can vote\n",
            "you can vote\n",
            "you can vote\n",
            "you can vote\n",
            "you can vote\n",
            "you can vote\n",
            "you can vote\n",
            "you can vote\n",
            "you can vote\n",
            "you can vote\n",
            "you can vote\n",
            "you can vote\n",
            "you can vote\n",
            "you can vote\n",
            "you can vote\n",
            "you can vote\n",
            "you can vote\n",
            "you can vote\n",
            "you can vote\n",
            "you can vote\n",
            "you can vote\n",
            "you can vote\n",
            "you can vote\n",
            "you can vote\n",
            "you can vote\n",
            "you can vote\n",
            "you can vote\n",
            "you can vote\n",
            "you can vote\n",
            "you can vote\n",
            "you can vote\n",
            "you can vote\n",
            "you can vote\n",
            "you can vote\n",
            "you can vote\n",
            "you can vote\n",
            "you can vote\n",
            "you can vote\n",
            "you can vote\n",
            "you can vote\n",
            "you can vote\n",
            "you can vote\n",
            "you can vote\n",
            "you can vote\n",
            "you can vote\n",
            "you can vote\n",
            "you can vote\n",
            "you can vote\n",
            "you can vote\n",
            "you can vote\n",
            "you can vote\n",
            "you can vote\n",
            "you can vote\n",
            "you can vote\n",
            "you can vote\n",
            "you can vote\n",
            "you can vote\n",
            "you can vote\n",
            "you can vote\n",
            "you can vote\n",
            "you can vote\n",
            "you can vote\n",
            "you can vote\n",
            "you can vote\n",
            "you can vote\n",
            "you can vote\n",
            "you can vote\n",
            "you can vote\n",
            "you can vote\n",
            "you can vote\n",
            "you can vote\n",
            "you can vote\n",
            "you can vote\n",
            "you can vote\n",
            "you can vote\n",
            "you can vote\n",
            "you can vote\n",
            "you can vote\n",
            "you can vote\n",
            "you can vote\n",
            "you can vote\n",
            "you can vote\n",
            "you can vote\n",
            "you can vote\n",
            "you can vote\n",
            "you can vote\n",
            "you can vote\n",
            "you can vote\n",
            "you can vote\n",
            "you can vote\n",
            "you can vote\n",
            "you can vote\n",
            "you can vote\n",
            "you can vote\n",
            "you can vote\n",
            "you can vote\n",
            "you can vote\n",
            "you can vote\n",
            "you can vote\n",
            "you can vote\n",
            "you can vote\n",
            "you can vote\n",
            "you can vote\n",
            "you can vote\n",
            "you can vote\n",
            "you can vote\n",
            "you can vote\n",
            "you can vote\n",
            "you can vote\n",
            "you can vote\n",
            "you can vote\n",
            "you can vote\n",
            "you can vote\n",
            "you can vote\n",
            "you can vote\n",
            "you can vote\n",
            "you can vote\n",
            "you can vote\n",
            "you can vote\n",
            "you can vote\n",
            "you can vote\n",
            "you can vote\n",
            "you can vote\n",
            "you can vote\n",
            "you can vote\n",
            "you can vote\n",
            "you can vote\n",
            "you can vote\n",
            "you can vote\n",
            "you can vote\n",
            "you can vote\n",
            "you can vote\n",
            "you can vote\n",
            "you can vote\n",
            "you can vote\n",
            "you can vote\n",
            "you can vote\n",
            "you can vote\n",
            "you can vote\n",
            "you can vote\n",
            "you can vote\n",
            "you can vote\n",
            "you can vote\n",
            "you can vote\n",
            "you can vote\n",
            "you can vote\n",
            "you can vote\n",
            "you can vote\n",
            "you can vote\n",
            "you can vote\n",
            "you can vote\n",
            "you can vote\n",
            "you can vote\n",
            "you can vote\n",
            "you can vote\n",
            "you can vote\n",
            "you can vote\n",
            "you can vote\n",
            "you can vote\n",
            "you can vote\n",
            "you can vote\n",
            "you can vote\n",
            "you can vote\n",
            "you can vote\n",
            "you can vote\n",
            "you can vote\n",
            "you can vote\n",
            "you can vote\n",
            "you can vote\n",
            "you can vote\n",
            "you can vote\n",
            "you can vote\n",
            "you can vote\n",
            "you can vote\n",
            "you can vote\n",
            "you can vote\n",
            "you can vote\n",
            "you can vote\n",
            "you can vote\n",
            "you can vote\n",
            "you can vote\n",
            "you can vote\n",
            "you can vote\n",
            "you can vote\n",
            "you can vote\n",
            "you can vote\n",
            "you can vote\n",
            "you can vote\n",
            "you can vote\n",
            "you can vote\n",
            "you can vote\n",
            "you can vote\n",
            "you can vote\n",
            "you can vote\n",
            "you can vote\n",
            "you can vote\n",
            "you can vote\n",
            "you can vote\n",
            "you can vote\n",
            "you can vote\n",
            "you can vote\n",
            "you can vote\n",
            "you can vote\n",
            "you can vote\n",
            "you can vote\n",
            "you can vote\n",
            "you can vote\n",
            "you can vote\n",
            "you can vote\n",
            "you can vote\n",
            "you can vote\n",
            "you can vote\n",
            "you can vote\n",
            "you can vote\n",
            "you can vote\n",
            "you can vote\n",
            "you can vote\n",
            "you can vote\n",
            "you can vote\n",
            "you can vote\n",
            "you can vote\n",
            "you can vote\n",
            "you can vote\n",
            "you can vote\n",
            "you can vote\n",
            "you can vote\n",
            "you can vote\n",
            "you can vote\n",
            "you can vote\n",
            "you can vote\n",
            "you can vote\n",
            "you can vote\n",
            "you can vote\n",
            "you can vote\n",
            "you can vote\n",
            "you can vote\n",
            "you can vote\n",
            "you can vote\n",
            "you can vote\n",
            "you can vote\n",
            "you can vote\n",
            "you can vote\n",
            "you can vote\n",
            "you can vote\n",
            "you can vote\n",
            "you can vote\n",
            "you can vote\n",
            "you can vote\n",
            "you can vote\n",
            "you can vote\n",
            "you can vote\n",
            "you can vote\n",
            "you can vote\n",
            "you can vote\n",
            "you can vote\n",
            "you can vote\n",
            "you can vote\n",
            "you can vote\n",
            "you can vote\n",
            "you can vote\n",
            "you can vote\n",
            "you can vote\n",
            "you can vote\n",
            "you can vote\n",
            "you can vote\n",
            "you can vote\n",
            "you can vote\n",
            "you can vote\n",
            "you can vote\n",
            "you can vote\n",
            "you can vote\n",
            "you can vote\n",
            "you can vote\n",
            "you can vote\n",
            "you can vote\n",
            "you can vote\n",
            "you can vote\n",
            "you can vote\n",
            "you can vote\n",
            "you can vote\n",
            "you can vote\n",
            "you can vote\n",
            "you can vote\n",
            "you can vote\n",
            "you can vote\n",
            "you can vote\n",
            "you can vote\n",
            "you can vote\n",
            "you can vote\n",
            "you can vote\n",
            "you can vote\n",
            "you can vote\n",
            "you can vote\n",
            "you can vote\n",
            "you can vote\n",
            "you can vote\n",
            "you can vote\n",
            "you can vote\n",
            "you can vote\n",
            "you can vote\n",
            "you can vote\n",
            "you can vote\n",
            "you can vote\n",
            "you can vote\n",
            "you can vote\n",
            "you can vote\n",
            "you can vote\n",
            "you can vote\n",
            "you can vote\n",
            "you can vote\n",
            "you can vote\n",
            "you can vote\n",
            "you can vote\n",
            "you can vote\n",
            "you can vote\n",
            "you can vote\n",
            "you can vote\n",
            "you can vote\n",
            "you can vote\n",
            "you can vote\n",
            "you can vote\n",
            "you can vote\n",
            "you can vote\n",
            "you can vote\n",
            "you can vote\n",
            "you can vote\n",
            "you can vote\n",
            "you can vote\n",
            "you can vote\n",
            "you can vote\n",
            "you can vote\n",
            "you can vote\n",
            "you can vote\n",
            "you can vote\n",
            "you can vote\n",
            "you can vote\n",
            "you can vote\n",
            "you can vote\n",
            "you can vote\n",
            "you can vote\n",
            "you can vote\n",
            "you can vote\n",
            "you can vote\n",
            "you can vote\n",
            "you can vote\n",
            "you can vote\n",
            "you can vote\n",
            "you can vote\n",
            "you can vote\n",
            "you can vote\n",
            "you can vote\n",
            "you can vote\n",
            "you can vote\n",
            "you can vote\n",
            "you can vote\n",
            "you can vote\n",
            "you can vote\n",
            "you can vote\n",
            "you can vote\n",
            "you can vote\n",
            "you can vote\n",
            "you can vote\n",
            "you can vote\n",
            "you can vote\n",
            "you can vote\n",
            "you can vote\n",
            "you can vote\n",
            "you can vote\n",
            "you can vote\n",
            "you can vote\n",
            "you can vote\n",
            "you can vote\n",
            "you can vote\n",
            "you can vote\n",
            "you can vote\n",
            "you can vote\n",
            "you can vote\n",
            "you can vote\n",
            "you can vote\n",
            "you can vote\n",
            "you can vote\n",
            "you can vote\n",
            "you can vote\n",
            "you can vote\n",
            "you can vote\n",
            "you can vote\n",
            "you can vote\n",
            "you can vote\n",
            "you can vote\n",
            "you can vote\n",
            "you can vote\n",
            "you can vote\n",
            "you can vote\n",
            "you can vote\n",
            "you can vote\n",
            "you can vote\n",
            "you can vote\n",
            "you can vote\n",
            "you can vote\n",
            "you can vote\n",
            "you can vote\n",
            "you can vote\n",
            "you can vote\n",
            "you can vote\n",
            "you can vote\n",
            "you can vote\n",
            "you can vote\n",
            "you can vote\n",
            "you can vote\n",
            "you can vote\n",
            "you can vote\n",
            "you can vote\n",
            "you can vote\n",
            "you can vote\n",
            "you can vote\n",
            "you can vote\n",
            "you can vote\n",
            "you can vote\n",
            "you can vote\n",
            "you can vote\n",
            "you can vote\n",
            "you can vote\n",
            "you can vote\n",
            "you can vote\n",
            "you can vote\n",
            "you can vote\n",
            "you can vote\n",
            "you can vote\n",
            "you can vote\n",
            "you can vote\n",
            "you can vote\n",
            "you can vote\n",
            "you can vote\n",
            "you can vote\n",
            "you can vote\n",
            "you can vote\n",
            "you can vote\n",
            "you can vote\n",
            "you can vote\n",
            "you can vote\n",
            "you can vote\n",
            "you can vote\n",
            "you can vote\n",
            "you can vote\n",
            "you can vote\n",
            "you can vote\n",
            "you can vote\n",
            "you can vote\n",
            "you can vote\n",
            "you can vote\n",
            "you can vote\n",
            "you can vote\n",
            "you can vote\n",
            "you can vote\n",
            "you can vote\n",
            "you can vote\n",
            "you can vote\n",
            "you can vote\n",
            "you can vote\n",
            "you can vote\n",
            "you can vote\n",
            "you can vote\n",
            "you can vote\n",
            "you can vote\n",
            "you can vote\n",
            "you can vote\n",
            "you can vote\n",
            "you can vote\n",
            "you can vote\n",
            "you can vote\n",
            "you can vote\n",
            "you can vote\n",
            "you can vote\n",
            "you can vote\n",
            "you can vote\n",
            "you can vote\n",
            "you can vote\n",
            "you can vote\n",
            "you can vote\n",
            "you can vote\n",
            "you can vote\n",
            "you can vote\n",
            "you can vote\n",
            "you can vote\n",
            "you can vote\n",
            "you can vote\n",
            "you can vote\n",
            "you can vote\n",
            "you can vote\n",
            "you can vote\n",
            "you can vote\n",
            "you can vote\n",
            "you can vote\n",
            "you can vote\n",
            "you can vote\n",
            "you can vote\n",
            "you can vote\n",
            "you can vote\n",
            "you can vote\n",
            "you can vote\n",
            "you can vote\n",
            "you can vote\n",
            "you can vote\n",
            "you can vote\n",
            "you can vote\n",
            "you can vote\n",
            "you can vote\n",
            "you can vote\n",
            "you can vote\n",
            "you can vote\n",
            "you can vote\n",
            "you can vote\n",
            "you can vote\n",
            "you can vote\n",
            "you can vote\n",
            "you can vote\n",
            "you can vote\n",
            "you can vote\n",
            "you can vote\n",
            "you can vote\n",
            "you can vote\n",
            "you can vote\n",
            "you can vote\n",
            "you can vote\n",
            "you can vote\n",
            "you can vote\n",
            "you can vote\n",
            "you can vote\n",
            "you can vote\n",
            "you can vote\n",
            "you can vote\n",
            "you can vote\n",
            "you can vote\n",
            "you can vote\n",
            "you can vote\n",
            "you can vote\n",
            "you can vote\n",
            "you can vote\n",
            "you can vote\n",
            "you can vote\n",
            "you can vote\n",
            "you can vote\n",
            "you can vote\n",
            "you can vote\n",
            "you can vote\n",
            "you can vote\n",
            "you can vote\n",
            "you can vote\n",
            "you can vote\n",
            "you can vote\n",
            "you can vote\n",
            "you can vote\n",
            "you can vote\n",
            "you can vote\n",
            "you can vote\n",
            "you can vote\n",
            "you can vote\n",
            "you can vote\n",
            "you can vote\n",
            "you can vote\n",
            "you can vote\n",
            "you can vote\n",
            "you can vote\n",
            "you can vote\n",
            "you can vote\n",
            "you can vote\n",
            "you can vote\n",
            "you can vote\n",
            "you can vote\n",
            "you can vote\n",
            "you can vote\n",
            "you can vote\n",
            "you can vote\n",
            "you can vote\n",
            "you can vote\n",
            "you can vote\n",
            "you can vote\n",
            "you can vote\n",
            "you can vote\n",
            "you can vote\n",
            "you can vote\n",
            "you can vote\n",
            "you can vote\n",
            "you can vote\n",
            "you can vote\n",
            "you can vote\n",
            "you can vote\n",
            "you can vote\n",
            "you can vote\n",
            "you can vote\n",
            "you can vote\n",
            "you can vote\n",
            "you can vote\n",
            "you can vote\n",
            "you can vote\n",
            "you can vote\n",
            "you can vote\n",
            "you can vote\n",
            "you can vote\n",
            "you can vote\n",
            "you can vote\n",
            "you can vote\n",
            "you can vote\n",
            "you can vote\n",
            "you can vote\n",
            "you can vote\n",
            "you can vote\n",
            "you can vote\n",
            "you can vote\n",
            "you can vote\n",
            "you can vote\n",
            "you can vote\n",
            "you can vote\n",
            "you can vote\n",
            "you can vote\n",
            "you can vote\n",
            "you can vote\n",
            "you can vote\n",
            "you can vote\n",
            "you can vote\n",
            "you can vote\n",
            "you can vote\n",
            "you can vote\n",
            "you can vote\n",
            "you can vote\n",
            "you can vote\n",
            "you can vote\n",
            "you can vote\n",
            "you can vote\n",
            "you can vote\n",
            "you can vote\n",
            "you can vote\n",
            "you can vote\n",
            "you can vote\n",
            "you can vote\n",
            "you can vote\n",
            "you can vote\n",
            "you can vote\n",
            "you can vote\n",
            "you can vote\n",
            "you can vote\n",
            "you can vote\n",
            "you can vote\n",
            "you can vote\n",
            "you can vote\n",
            "you can vote\n",
            "you can vote\n",
            "you can vote\n",
            "you can vote\n",
            "you can vote\n",
            "you can vote\n",
            "you can vote\n",
            "you can vote\n",
            "you can vote\n",
            "you can vote\n",
            "you can vote\n",
            "you can vote\n",
            "you can vote\n",
            "you can vote\n",
            "you can vote\n",
            "you can vote\n",
            "you can vote\n",
            "you can vote\n",
            "you can vote\n",
            "you can vote\n",
            "you can vote\n",
            "you can vote\n",
            "you can vote\n",
            "you can vote\n",
            "you can vote\n",
            "you can vote\n",
            "you can vote\n",
            "you can vote\n",
            "you can vote\n",
            "you can vote\n",
            "you can vote\n",
            "you can vote\n",
            "you can vote\n",
            "you can vote\n",
            "you can vote\n",
            "you can vote\n",
            "you can vote\n",
            "you can vote\n",
            "you can vote\n",
            "you can vote\n",
            "you can vote\n",
            "you can vote\n",
            "you can vote\n",
            "you can vote\n",
            "you can vote\n",
            "you can vote\n",
            "you can vote\n",
            "you can vote\n",
            "you can vote\n",
            "you can vote\n",
            "you can vote\n",
            "you can vote\n",
            "you can vote\n",
            "you can vote\n",
            "you can vote\n",
            "you can vote\n",
            "you can vote\n",
            "you can vote\n",
            "you can vote\n",
            "you can vote\n",
            "you can vote\n",
            "you can vote\n",
            "you can vote\n",
            "you can vote\n",
            "you can vote\n",
            "you can vote\n",
            "you can vote\n",
            "you can vote\n",
            "you can vote\n",
            "you can vote\n",
            "you can vote\n",
            "you can vote\n",
            "you can vote\n",
            "you can vote\n",
            "you can vote\n",
            "you can vote\n",
            "you can vote\n",
            "you can vote\n",
            "you can vote\n",
            "you can vote\n",
            "you can vote\n",
            "you can vote\n",
            "you can vote\n",
            "you can vote\n",
            "you can vote\n",
            "you can vote\n",
            "you can vote\n",
            "you can vote\n",
            "you can vote\n",
            "you can vote\n",
            "you can vote\n",
            "you can vote\n",
            "you can vote\n",
            "you can vote\n",
            "you can vote\n",
            "you can vote\n",
            "you can vote\n",
            "you can vote\n",
            "you can vote\n",
            "you can vote\n",
            "you can vote\n",
            "you can vote\n",
            "you can vote\n",
            "you can vote\n",
            "you can vote\n",
            "you can vote\n",
            "you can vote\n",
            "you can vote\n",
            "you can vote\n",
            "you can vote\n",
            "you can vote\n",
            "you can vote\n",
            "you can vote\n",
            "you can vote\n",
            "you can vote\n",
            "you can vote\n",
            "you can vote\n",
            "you can vote\n",
            "you can vote\n",
            "you can vote\n",
            "you can vote\n",
            "you can vote\n",
            "you can vote\n",
            "you can vote\n",
            "you can vote\n",
            "you can vote\n",
            "you can vote\n",
            "you can vote\n",
            "you can vote\n",
            "you can vote\n",
            "you can vote\n",
            "you can vote\n",
            "you can vote\n",
            "you can vote\n",
            "you can vote\n",
            "you can vote\n",
            "you can vote\n",
            "you can vote\n",
            "you can vote\n",
            "you can vote\n",
            "you can vote\n",
            "you can vote\n",
            "you can vote\n",
            "you can vote\n",
            "you can vote\n",
            "you can vote\n",
            "you can vote\n",
            "you can vote\n",
            "you can vote\n",
            "you can vote\n",
            "you can vote\n",
            "you can vote\n",
            "you can vote\n",
            "you can vote\n",
            "you can vote\n",
            "you can vote\n",
            "you can vote\n",
            "you can vote\n",
            "you can vote\n",
            "you can vote\n",
            "you can vote\n",
            "you can vote\n",
            "you can vote\n",
            "you can vote\n",
            "you can vote\n",
            "you can vote\n",
            "you can vote\n",
            "you can vote\n",
            "you can vote\n",
            "you can vote\n",
            "you can vote\n",
            "you can vote\n",
            "you can vote\n",
            "you can vote\n",
            "you can vote\n",
            "you can vote\n",
            "you can vote\n",
            "you can vote\n",
            "you can vote\n",
            "you can vote\n",
            "you can vote\n",
            "you can vote\n",
            "you can vote\n",
            "you can vote\n",
            "you can vote\n",
            "you can vote\n",
            "you can vote\n",
            "you can vote\n",
            "you can vote\n",
            "you can vote\n",
            "you can vote\n",
            "you can vote\n",
            "you can vote\n",
            "you can vote\n",
            "you can vote\n",
            "you can vote\n",
            "you can vote\n",
            "you can vote\n",
            "you can vote\n",
            "you can vote\n",
            "you can vote\n",
            "you can vote\n",
            "you can vote\n",
            "you can vote\n",
            "you can vote\n",
            "you can vote\n",
            "you can vote\n",
            "you can vote\n",
            "you can vote\n",
            "you can vote\n",
            "you can vote\n",
            "you can vote\n",
            "you can vote\n",
            "you can vote\n",
            "you can vote\n",
            "you can vote\n",
            "you can vote\n",
            "you can vote\n",
            "you can vote\n",
            "you can vote\n",
            "you can vote\n",
            "you can vote\n",
            "you can vote\n",
            "you can vote\n",
            "you can vote\n",
            "you can vote\n",
            "you can vote\n",
            "you can vote\n",
            "you can vote\n",
            "you can vote\n",
            "you can vote\n",
            "you can vote\n",
            "you can vote\n",
            "you can vote\n",
            "you can vote\n",
            "you can vote\n",
            "you can vote\n",
            "you can vote\n",
            "you can vote\n",
            "you can vote\n",
            "you can vote\n",
            "you can vote\n",
            "you can vote\n",
            "you can vote\n",
            "you can vote\n",
            "you can vote\n",
            "you can vote\n",
            "you can vote\n",
            "you can vote\n",
            "you can vote\n",
            "you can vote\n",
            "you can vote\n",
            "you can vote\n",
            "you can vote\n",
            "you can vote\n",
            "you can vote\n",
            "you can vote\n",
            "you can vote\n",
            "you can vote\n",
            "you can vote\n",
            "you can vote\n",
            "you can vote\n",
            "you can vote\n",
            "you can vote\n",
            "you can vote\n",
            "you can vote\n",
            "you can vote\n",
            "you can vote\n",
            "you can vote\n",
            "you can vote\n",
            "you can vote\n",
            "you can vote\n",
            "you can vote\n",
            "you can vote\n",
            "you can vote\n",
            "you can vote\n",
            "you can vote\n",
            "you can vote\n",
            "you can vote\n",
            "you can vote\n",
            "you can vote\n",
            "you can vote\n",
            "you can vote\n",
            "you can vote\n",
            "you can vote\n",
            "you can vote\n",
            "you can vote\n",
            "you can vote\n",
            "you can vote\n",
            "you can vote\n",
            "you can vote\n",
            "you can vote\n",
            "you can vote\n",
            "you can vote\n",
            "you can vote\n",
            "you can vote\n",
            "you can vote\n",
            "you can vote\n",
            "you can vote\n",
            "you can vote\n",
            "you can vote\n",
            "you can vote\n",
            "you can vote\n",
            "you can vote\n",
            "you can vote\n",
            "you can vote\n",
            "you can vote\n",
            "you can vote\n",
            "you can vote\n",
            "you can vote\n",
            "you can vote\n",
            "you can vote\n",
            "you can vote\n",
            "you can vote\n",
            "you can vote\n",
            "you can vote\n",
            "you can vote\n",
            "you can vote\n",
            "you can vote\n",
            "you can vote\n",
            "you can vote\n",
            "you can vote\n",
            "you can vote\n",
            "you can vote\n",
            "you can vote\n",
            "you can vote\n",
            "you can vote\n",
            "you can vote\n",
            "you can vote\n",
            "you can vote\n",
            "you can vote\n",
            "you can vote\n",
            "you can vote\n",
            "you can vote\n",
            "you can vote\n",
            "you can vote\n",
            "you can vote\n",
            "you can vote\n",
            "you can vote\n",
            "you can vote\n",
            "you can vote\n",
            "you can vote\n",
            "you can vote\n",
            "you can vote\n",
            "you can vote\n",
            "you can vote\n",
            "you can vote\n",
            "you can vote\n",
            "you can vote\n",
            "you can vote\n",
            "you can vote\n",
            "you can vote\n",
            "you can vote\n",
            "you can vote\n",
            "you can vote\n",
            "you can vote\n",
            "you can vote\n",
            "you can vote\n",
            "you can vote\n",
            "you can vote\n",
            "you can vote\n",
            "you can vote\n",
            "you can vote\n",
            "you can vote\n",
            "you can vote\n",
            "you can vote\n",
            "you can vote\n",
            "you can vote\n",
            "you can vote\n",
            "you can vote\n",
            "you can vote\n",
            "you can vote\n",
            "you can vote\n",
            "you can vote\n",
            "you can vote\n",
            "you can vote\n",
            "you can vote\n",
            "you can vote\n",
            "you can vote\n",
            "you can vote\n",
            "you can vote\n",
            "you can vote\n",
            "you can vote\n",
            "you can vote\n",
            "you can vote\n",
            "you can vote\n",
            "you can vote\n",
            "you can vote\n",
            "you can vote\n",
            "you can vote\n",
            "you can vote\n",
            "you can vote\n",
            "you can vote\n",
            "you can vote\n",
            "you can vote\n",
            "you can vote\n",
            "you can vote\n",
            "you can vote\n",
            "you can vote\n",
            "you can vote\n",
            "you can vote\n",
            "you can vote\n",
            "you can vote\n",
            "you can vote\n",
            "you can vote\n",
            "you can vote\n",
            "you can vote\n",
            "you can vote\n",
            "you can vote\n",
            "you can vote\n",
            "you can vote\n",
            "you can vote\n",
            "you can vote\n",
            "you can vote\n",
            "you can vote\n",
            "you can vote\n",
            "you can vote\n",
            "you can vote\n",
            "you can vote\n",
            "you can vote\n",
            "you can vote\n",
            "you can vote\n",
            "you can vote\n",
            "you can vote\n",
            "you can vote\n",
            "you can vote\n",
            "you can vote\n",
            "you can vote\n",
            "you can vote\n",
            "you can vote\n",
            "you can vote\n",
            "you can vote\n",
            "you can vote\n",
            "you can vote\n",
            "you can vote\n",
            "you can vote\n",
            "you can vote\n",
            "you can vote\n",
            "you can vote\n",
            "you can vote\n",
            "you can vote\n",
            "you can vote\n",
            "you can vote\n",
            "you can vote\n",
            "you can vote\n",
            "you can vote\n",
            "you can vote\n",
            "you can vote\n",
            "you can vote\n",
            "you can vote\n",
            "you can vote\n",
            "you can vote\n",
            "you can vote\n",
            "you can vote\n",
            "you can vote\n",
            "you can vote\n",
            "you can vote\n",
            "you can vote\n",
            "you can vote\n",
            "you can vote\n",
            "you can vote\n",
            "you can vote\n",
            "you can vote\n",
            "you can vote\n",
            "you can vote\n",
            "you can vote\n",
            "you can vote\n",
            "you can vote\n",
            "you can vote\n",
            "you can vote\n",
            "you can vote\n",
            "you can vote\n",
            "you can vote\n",
            "you can vote\n",
            "you can vote\n",
            "you can vote\n",
            "you can vote\n",
            "you can vote\n",
            "you can vote\n",
            "you can vote\n",
            "you can vote\n",
            "you can vote\n",
            "you can vote\n",
            "you can vote\n",
            "you can vote\n",
            "you can vote\n",
            "you can vote\n",
            "you can vote\n",
            "you can vote\n",
            "you can vote\n",
            "you can vote\n",
            "you can vote\n",
            "you can vote\n",
            "you can vote\n",
            "you can vote\n",
            "you can vote\n",
            "you can vote\n",
            "you can vote\n",
            "you can vote\n",
            "you can vote\n",
            "you can vote\n",
            "you can vote\n",
            "you can vote\n",
            "you can vote\n",
            "you can vote\n",
            "you can vote\n",
            "you can vote\n",
            "you can vote\n",
            "you can vote\n",
            "you can vote\n",
            "you can vote\n",
            "you can vote\n",
            "you can vote\n",
            "you can vote\n",
            "you can vote\n",
            "you can vote\n",
            "you can vote\n",
            "you can vote\n",
            "you can vote\n",
            "you can vote\n",
            "you can vote\n",
            "you can vote\n",
            "you can vote\n",
            "you can vote\n",
            "you can vote\n",
            "you can vote\n",
            "you can vote\n",
            "you can vote\n",
            "you can vote\n",
            "you can vote\n",
            "you can vote\n",
            "you can vote\n",
            "you can vote\n",
            "you can vote\n",
            "you can vote\n",
            "you can vote\n",
            "you can vote\n",
            "you can vote\n",
            "you can vote\n",
            "you can vote\n",
            "you can vote\n",
            "you can vote\n",
            "you can vote\n",
            "you can vote\n",
            "you can vote\n",
            "you can vote\n",
            "you can vote\n",
            "you can vote\n",
            "you can vote\n",
            "you can vote\n",
            "you can vote\n",
            "you can vote\n",
            "you can vote\n",
            "you can vote\n",
            "you can vote\n",
            "you can vote\n",
            "you can vote\n",
            "you can vote\n",
            "you can vote\n",
            "you can vote\n",
            "you can vote\n",
            "you can vote\n",
            "you can vote\n",
            "you can vote\n",
            "you can vote\n",
            "you can vote\n",
            "you can vote\n",
            "you can vote\n",
            "you can vote\n",
            "you can vote\n",
            "you can vote\n",
            "you can vote\n",
            "you can vote\n",
            "you can vote\n",
            "you can vote\n",
            "you can vote\n",
            "you can vote\n",
            "you can vote\n",
            "you can vote\n",
            "you can vote\n",
            "you can vote\n",
            "you can vote\n",
            "you can vote\n",
            "you can vote\n",
            "you can vote\n",
            "you can vote\n",
            "you can vote\n",
            "you can vote\n",
            "you can vote\n",
            "you can vote\n",
            "you can vote\n",
            "you can vote\n",
            "you can vote\n",
            "you can vote\n",
            "you can vote\n",
            "you can vote\n",
            "you can vote\n",
            "you can vote\n",
            "you can vote\n",
            "you can vote\n",
            "you can vote\n",
            "you can vote\n",
            "you can vote\n",
            "you can vote\n",
            "you can vote\n",
            "you can vote\n",
            "you can vote\n",
            "you can vote\n",
            "you can vote\n",
            "you can vote\n",
            "you can vote\n",
            "you can vote\n",
            "you can vote\n",
            "you can vote\n",
            "you can vote\n",
            "you can vote\n",
            "you can vote\n",
            "you can vote\n",
            "you can vote\n",
            "you can vote\n",
            "you can vote\n",
            "you can vote\n",
            "you can vote\n",
            "you can vote\n",
            "you can vote\n",
            "you can vote\n",
            "you can vote\n",
            "you can vote\n",
            "you can vote\n",
            "you can vote\n",
            "you can vote\n",
            "you can vote\n",
            "you can vote\n",
            "you can vote\n",
            "you can vote\n",
            "you can vote\n",
            "you can vote\n",
            "you can vote\n",
            "you can vote\n",
            "you can vote\n",
            "you can vote\n",
            "you can vote\n",
            "you can vote\n",
            "you can vote\n",
            "you can vote\n",
            "you can vote\n",
            "you can vote\n",
            "you can vote\n",
            "you can vote\n",
            "you can vote\n",
            "you can vote\n",
            "you can vote\n",
            "you can vote\n",
            "you can vote\n",
            "you can vote\n",
            "you can vote\n",
            "you can vote\n",
            "you can vote\n",
            "you can vote\n",
            "you can vote\n",
            "you can vote\n",
            "you can vote\n",
            "you can vote\n",
            "you can vote\n",
            "you can vote\n",
            "you can vote\n",
            "you can vote\n",
            "you can vote\n",
            "you can vote\n",
            "you can vote\n",
            "you can vote\n",
            "you can vote\n",
            "you can vote\n",
            "you can vote\n",
            "you can vote\n",
            "you can vote\n",
            "you can vote\n",
            "you can vote\n",
            "you can vote\n",
            "you can vote\n",
            "you can vote\n",
            "you can vote\n",
            "you can vote\n",
            "you can vote\n",
            "you can vote\n",
            "you can vote\n",
            "you can vote\n",
            "you can vote\n",
            "you can vote\n",
            "you can vote\n",
            "you can vote\n",
            "you can vote\n",
            "you can vote\n",
            "you can vote\n",
            "you can vote\n",
            "you can vote\n",
            "you can vote\n",
            "you can vote\n",
            "you can vote\n",
            "you can vote\n",
            "you can vote\n",
            "you can vote\n",
            "you can vote\n",
            "you can vote\n",
            "you can vote\n",
            "you can vote\n",
            "you can vote\n",
            "you can vote\n",
            "you can vote\n",
            "you can vote\n",
            "you can vote\n",
            "you can vote\n",
            "you can vote\n",
            "you can vote\n",
            "you can vote\n",
            "you can vote\n",
            "you can vote\n",
            "you can vote\n",
            "you can vote\n",
            "you can vote\n",
            "you can vote\n",
            "you can vote\n",
            "you can vote\n",
            "you can vote\n",
            "you can vote\n",
            "you can vote\n",
            "you can vote\n",
            "you can vote\n",
            "you can vote\n",
            "you can vote\n",
            "you can vote\n",
            "you can vote\n",
            "you can vote\n",
            "you can vote\n",
            "you can vote\n",
            "you can vote\n",
            "you can vote\n",
            "you can vote\n",
            "you can vote\n",
            "you can vote\n",
            "you can vote\n",
            "you can vote\n",
            "you can vote\n",
            "you can vote\n",
            "you can vote\n",
            "you can vote\n",
            "you can vote\n",
            "you can vote\n",
            "you can vote\n",
            "you can vote\n",
            "you can vote\n",
            "you can vote\n",
            "you can vote\n",
            "you can vote\n",
            "you can vote\n",
            "you can vote\n",
            "you can vote\n",
            "you can vote\n",
            "you can vote\n",
            "you can vote\n",
            "you can vote\n",
            "you can vote\n",
            "you can vote\n",
            "you can vote\n",
            "you can vote\n",
            "you can vote\n",
            "you can vote\n",
            "you can vote\n",
            "you can vote\n",
            "you can vote\n",
            "you can vote\n",
            "you can vote\n",
            "you can vote\n",
            "you can vote\n",
            "you can vote\n",
            "you can vote\n",
            "you can vote\n",
            "you can vote\n",
            "you can vote\n",
            "you can vote\n",
            "you can vote\n",
            "you can vote\n",
            "you can vote\n",
            "you can vote\n",
            "you can vote\n",
            "you can vote\n",
            "you can vote\n",
            "you can vote\n",
            "you can vote\n",
            "you can vote\n",
            "you can vote\n",
            "you can vote\n",
            "you can vote\n",
            "you can vote\n",
            "you can vote\n",
            "you can vote\n",
            "you can vote\n",
            "you can vote\n",
            "you can vote\n",
            "you can vote\n",
            "you can vote\n",
            "you can vote\n",
            "you can vote\n",
            "you can vote\n",
            "you can vote\n",
            "you can vote\n",
            "you can vote\n",
            "you can vote\n",
            "you can vote\n",
            "you can vote\n",
            "you can vote\n",
            "you can vote\n",
            "you can vote\n",
            "you can vote\n",
            "you can vote\n",
            "you can vote\n",
            "you can vote\n",
            "you can vote\n",
            "you can vote\n",
            "you can vote\n",
            "you can vote\n",
            "you can vote\n",
            "you can vote\n",
            "you can vote\n",
            "you can vote\n",
            "you can vote\n",
            "you can vote\n",
            "you can vote\n",
            "you can vote\n",
            "you can vote\n",
            "you can vote\n",
            "you can vote\n",
            "you can vote\n",
            "you can vote\n",
            "you can vote\n",
            "you can vote\n",
            "you can vote\n",
            "you can vote\n",
            "you can vote\n",
            "you can vote\n",
            "you can vote\n",
            "you can vote\n",
            "you can vote\n",
            "you can vote\n",
            "you can vote\n",
            "you can vote\n",
            "you can vote\n",
            "you can vote\n",
            "you can vote\n",
            "you can vote\n",
            "you can vote\n",
            "you can vote\n",
            "you can vote\n",
            "you can vote\n",
            "you can vote\n",
            "you can vote\n",
            "you can vote\n",
            "you can vote\n",
            "you can vote\n",
            "you can vote\n",
            "you can vote\n",
            "you can vote\n",
            "you can vote\n",
            "you can vote\n",
            "you can vote\n",
            "you can vote\n",
            "you can vote\n",
            "you can vote\n",
            "you can vote\n",
            "you can vote\n",
            "you can vote\n",
            "you can vote\n",
            "you can vote\n",
            "you can vote\n",
            "you can vote\n",
            "you can vote\n",
            "you can vote\n",
            "you can vote\n",
            "you can vote\n",
            "you can vote\n",
            "you can vote\n",
            "you can vote\n",
            "you can vote\n",
            "you can vote\n",
            "you can vote\n",
            "you can vote\n",
            "you can vote\n",
            "you can vote\n",
            "you can vote\n",
            "you can vote\n",
            "you can vote\n",
            "you can vote\n",
            "you can vote\n",
            "you can vote\n",
            "you can vote\n",
            "you can vote\n",
            "you can vote\n",
            "you can vote\n",
            "you can vote\n",
            "you can vote\n",
            "you can vote\n",
            "you can vote\n",
            "you can vote\n",
            "you can vote\n",
            "you can vote\n",
            "you can vote\n",
            "you can vote\n",
            "you can vote\n",
            "you can vote\n",
            "you can vote\n",
            "you can vote\n",
            "you can vote\n",
            "you can vote\n",
            "you can vote\n",
            "you can vote\n",
            "you can vote\n",
            "you can vote\n",
            "you can vote\n",
            "you can vote\n",
            "you can vote\n",
            "you can vote\n",
            "you can vote\n",
            "you can vote\n",
            "you can vote\n",
            "you can vote\n",
            "you can vote\n",
            "you can vote\n",
            "you can vote\n",
            "you can vote\n",
            "you can vote\n",
            "you can vote\n",
            "you can vote\n",
            "you can vote\n",
            "you can vote\n",
            "you can vote\n",
            "you can vote\n",
            "you can vote\n",
            "you can vote\n",
            "you can vote\n",
            "you can vote\n",
            "you can vote\n",
            "you can vote\n",
            "you can vote\n",
            "you can vote\n",
            "you can vote\n",
            "you can vote\n",
            "you can vote\n",
            "you can vote\n",
            "you can vote\n",
            "you can vote\n",
            "you can vote\n",
            "you can vote\n",
            "you can vote\n",
            "you can vote\n",
            "you can vote\n",
            "you can vote\n",
            "you can vote\n",
            "you can vote\n",
            "you can vote\n",
            "you can vote\n",
            "you can vote\n",
            "you can vote\n",
            "you can vote\n",
            "you can vote\n",
            "you can vote\n",
            "you can vote\n",
            "you can vote\n",
            "you can vote\n",
            "you can vote\n",
            "you can vote\n",
            "you can vote\n",
            "you can vote\n",
            "you can vote\n",
            "you can vote\n",
            "you can vote\n",
            "you can vote\n",
            "you can vote\n",
            "you can vote\n",
            "you can vote\n",
            "you can vote\n",
            "you can vote\n",
            "you can vote\n",
            "you can vote\n",
            "you can vote\n",
            "you can vote\n",
            "you can vote\n",
            "you can vote\n",
            "you can vote\n",
            "you can vote\n",
            "you can vote\n",
            "you can vote\n",
            "you can vote\n",
            "you can vote\n",
            "you can vote\n",
            "you can vote\n",
            "you can vote\n",
            "you can vote\n",
            "you can vote\n",
            "you can vote\n",
            "you can vote\n",
            "you can vote\n",
            "you can vote\n",
            "you can vote\n",
            "you can vote\n",
            "you can vote\n",
            "you can vote\n",
            "you can vote\n",
            "you can vote\n",
            "you can vote\n",
            "you can vote\n",
            "you can vote\n",
            "you can vote\n",
            "you can vote\n",
            "you can vote\n",
            "you can vote\n",
            "you can vote\n",
            "you can vote\n",
            "you can vote\n",
            "you can vote\n",
            "you can vote\n",
            "you can vote\n",
            "you can vote\n",
            "you can vote\n",
            "you can vote\n",
            "you can vote\n",
            "you can vote\n",
            "you can vote\n",
            "you can vote\n",
            "you can vote\n",
            "you can vote\n",
            "you can vote\n",
            "you can vote\n",
            "you can vote\n",
            "you can vote\n",
            "you can vote\n",
            "you can vote\n",
            "you can vote\n",
            "you can vote\n",
            "you can vote\n",
            "you can vote\n",
            "you can vote\n",
            "you can vote\n",
            "you can vote\n",
            "you can vote\n",
            "you can vote\n",
            "you can vote\n",
            "you can vote\n",
            "you can vote\n",
            "you can vote\n",
            "you can vote\n",
            "you can vote\n",
            "you can vote\n",
            "you can vote\n",
            "you can vote\n",
            "you can vote\n",
            "you can vote\n",
            "you can vote\n",
            "you can vote\n",
            "you can vote\n",
            "you can vote\n",
            "you can vote\n",
            "you can vote\n",
            "you can vote\n",
            "you can vote\n",
            "you can vote\n",
            "you can vote\n",
            "you can vote\n",
            "you can vote\n",
            "you can vote\n",
            "you can vote\n",
            "you can vote\n",
            "you can vote\n",
            "you can vote\n",
            "you can vote\n",
            "you can vote\n",
            "you can vote\n",
            "you can vote\n",
            "you can vote\n",
            "you can vote\n",
            "you can vote\n",
            "you can vote\n",
            "you can vote\n",
            "you can vote\n",
            "you can vote\n",
            "you can vote\n",
            "you can vote\n",
            "you can vote\n",
            "you can vote\n",
            "you can vote\n",
            "you can vote\n",
            "you can vote\n",
            "you can vote\n",
            "you can vote\n",
            "you can vote\n",
            "you can vote\n",
            "you can vote\n",
            "you can vote\n",
            "you can vote\n",
            "you can vote\n",
            "you can vote\n",
            "you can vote\n",
            "you can vote\n",
            "you can vote\n",
            "you can vote\n",
            "you can vote\n",
            "you can vote\n",
            "you can vote\n",
            "you can vote\n",
            "you can vote\n",
            "you can vote\n",
            "you can vote\n",
            "you can vote"
          ]
        }
      ]
    },
    {
      "cell_type": "code",
      "source": [
        "count = 0\n",
        "while(count<25):\n",
        "    count = count + 1\n",
        "    print(\"hello students\")\n"
      ],
      "metadata": {
        "colab": {
          "base_uri": "https://localhost:8080/"
        },
        "id": "vvIETEoH1Wcf",
        "outputId": "e754e806-7786-4b79-b37c-dc1c70f303d6"
      },
      "execution_count": null,
      "outputs": [
        {
          "output_type": "stream",
          "name": "stdout",
          "text": [
            "hello students\n",
            "hello students\n",
            "hello students\n",
            "hello students\n",
            "hello students\n",
            "hello students\n",
            "hello students\n",
            "hello students\n",
            "hello students\n",
            "hello students\n",
            "hello students\n",
            "hello students\n",
            "hello students\n",
            "hello students\n",
            "hello students\n",
            "hello students\n",
            "hello students\n",
            "hello students\n",
            "hello students\n",
            "hello students\n",
            "hello students\n",
            "hello students\n",
            "hello students\n",
            "hello students\n",
            "hello students\n"
          ]
        }
      ]
    },
    {
      "cell_type": "markdown",
      "source": [
        "# using else statement in the while loop"
      ],
      "metadata": {
        "id": "CK8do3nZ2CI3"
      }
    },
    {
      "cell_type": "code",
      "source": [
        "count = 0\n",
        "while(count<25):\n",
        "    count = count + 1\n",
        "    print(\"hello students\")\n",
        "else:\n",
        "    print(\"this is the else block\")"
      ],
      "metadata": {
        "colab": {
          "base_uri": "https://localhost:8080/"
        },
        "id": "P84LuBCm2JQl",
        "outputId": "982e9f96-967a-4f80-bce6-ab412773e89b"
      },
      "execution_count": null,
      "outputs": [
        {
          "output_type": "stream",
          "name": "stdout",
          "text": [
            "hello students\n",
            "hello students\n",
            "hello students\n",
            "hello students\n",
            "hello students\n",
            "hello students\n",
            "hello students\n",
            "hello students\n",
            "hello students\n",
            "hello students\n",
            "hello students\n",
            "hello students\n",
            "hello students\n",
            "hello students\n",
            "hello students\n",
            "hello students\n",
            "hello students\n",
            "hello students\n",
            "hello students\n",
            "hello students\n",
            "hello students\n",
            "hello students\n",
            "hello students\n",
            "hello students\n",
            "hello students\n",
            "this is the else block\n"
          ]
        }
      ]
    },
    {
      "cell_type": "code",
      "source": [
        "from google.colab import drive\n",
        "drive.mount('/content/drive')"
      ],
      "metadata": {
        "colab": {
          "base_uri": "https://localhost:8080/"
        },
        "id": "o4uEpE_Q5wHY",
        "outputId": "74adaa40-454b-4a61-b008-7eb5498e4261"
      },
      "execution_count": null,
      "outputs": [
        {
          "output_type": "stream",
          "name": "stdout",
          "text": [
            "Mounted at /content/drive\n"
          ]
        }
      ]
    },
    {
      "cell_type": "markdown",
      "source": [
        "# For Loop"
      ],
      "metadata": {
        "id": "egsDaTEZ3yoy"
      }
    },
    {
      "cell_type": "markdown",
      "source": [
        "in python, the for loop is used to run a block of code certain number of times it is used to iterate over any sequence such as list, tuple, string,etc."
      ],
      "metadata": {
        "id": "C-MrrLWF333E"
      }
    },
    {
      "cell_type": "code",
      "source": [
        "fruits = [\"apple\",\"banana\",\"cherry\"]\n",
        "for x in fruits:\n",
        "    print(x)"
      ],
      "metadata": {
        "colab": {
          "base_uri": "https://localhost:8080/"
        },
        "id": "-HrXlo9_1ZDq",
        "outputId": "41a13466-bef4-4018-a1cd-437eb74015ee"
      },
      "execution_count": null,
      "outputs": [
        {
          "output_type": "stream",
          "name": "stdout",
          "text": [
            "apple\n",
            "banana\n",
            "cherry\n"
          ]
        }
      ]
    },
    {
      "cell_type": "markdown",
      "source": [
        "# Looping through a string"
      ],
      "metadata": {
        "id": "pNSq6v6J55Hl"
      }
    },
    {
      "cell_type": "code",
      "source": [
        "for x in \"banana\":\n",
        "    print(x)"
      ],
      "metadata": {
        "colab": {
          "base_uri": "https://localhost:8080/"
        },
        "id": "e6TzVSMd6CRm",
        "outputId": "717e0a91-894f-4064-c12e-d2b78cd56fcc"
      },
      "execution_count": null,
      "outputs": [
        {
          "output_type": "stream",
          "name": "stdout",
          "text": [
            "b\n",
            "a\n",
            "n\n",
            "a\n",
            "n\n",
            "a\n"
          ]
        }
      ]
    },
    {
      "cell_type": "code",
      "source": [
        "for x in range(25):\n",
        "    print(x)"
      ],
      "metadata": {
        "colab": {
          "base_uri": "https://localhost:8080/"
        },
        "id": "3bFXB15P6YdH",
        "outputId": "df103b74-3388-4ddc-dd1c-89d899a148dd"
      },
      "execution_count": null,
      "outputs": [
        {
          "output_type": "stream",
          "name": "stdout",
          "text": [
            "0\n",
            "1\n",
            "2\n",
            "3\n",
            "4\n",
            "5\n",
            "6\n",
            "7\n",
            "8\n",
            "9\n",
            "10\n",
            "11\n",
            "12\n",
            "13\n",
            "14\n",
            "15\n",
            "16\n",
            "17\n",
            "18\n",
            "19\n",
            "20\n",
            "21\n",
            "22\n",
            "23\n",
            "24\n"
          ]
        }
      ]
    },
    {
      "cell_type": "code",
      "source": [
        "for x in range(3,25):\n",
        "    print(x)"
      ],
      "metadata": {
        "colab": {
          "base_uri": "https://localhost:8080/"
        },
        "id": "8AXRCpaV6oYN",
        "outputId": "c6aa145d-1edc-453c-cb92-c135c972e688"
      },
      "execution_count": null,
      "outputs": [
        {
          "output_type": "stream",
          "name": "stdout",
          "text": [
            "3\n",
            "4\n",
            "5\n",
            "6\n",
            "7\n",
            "8\n",
            "9\n",
            "10\n",
            "11\n",
            "12\n",
            "13\n",
            "14\n",
            "15\n",
            "16\n",
            "17\n",
            "18\n",
            "19\n",
            "20\n",
            "21\n",
            "22\n",
            "23\n",
            "24\n"
          ]
        }
      ]
    },
    {
      "cell_type": "markdown",
      "source": [
        "## User defined function in python"
      ],
      "metadata": {
        "id": "7vM6qySR8vBw"
      }
    },
    {
      "cell_type": "markdown",
      "source": [
        "Functions that we define ourselves to do certain specific task are reffered as user-defined functions all the functions that are written by any us comes under the category of user defined functions\n",
        "\n",
        "\n",
        "all functions are reusable block of programing statements designed to perform certain task"
      ],
      "metadata": {
        "id": "Ar_kochh9TtQ"
      }
    },
    {
      "cell_type": "markdown",
      "source": [
        "## Advantages of user defined function"
      ],
      "metadata": {
        "id": "Br8iPZP399-c"
      }
    },
    {
      "cell_type": "markdown",
      "source": [
        "1. User defined function help to decompose a large program into small segments which make program easy to understand\n",
        "\n",
        "2. it repeted code occurs in program function can be used to include those codes and execute ehen needed by calling that function\n",
        "\n",
        "3. programmers working on large projects can divide the workload by making different functions"
      ],
      "metadata": {
        "id": "iVXHdVeI-kM_"
      }
    },
    {
      "cell_type": "markdown",
      "source": [
        "# creating a user defined function."
      ],
      "metadata": {
        "id": "gwJUiAjG_eOv"
      }
    },
    {
      "cell_type": "markdown",
      "source": [
        "by the help of def keywords we can create user defined function\n",
        "\n",
        "\n",
        "\n",
        "\n",
        "example : def mu_world():\n",
        "           print(\"Hello from a function\")"
      ],
      "metadata": {
        "id": "n9BngqsJ_m-R"
      }
    },
    {
      "cell_type": "markdown",
      "source": [
        "## Calling a User defined function"
      ],
      "metadata": {
        "id": "9xg9wez1AKz2"
      }
    },
    {
      "cell_type": "markdown",
      "source": [
        "To call a function use the function name followed by parenthesis\n",
        "\n",
        "\n",
        "Example:\n",
        "\n",
        "\n",
        "def my_function():\n",
        " print(\"hello from a function\")\n",
        "\n",
        "\n",
        " my_function()"
      ],
      "metadata": {
        "id": "UgHrjUqY0egy"
      }
    },
    {
      "cell_type": "code",
      "source": [
        "def my_function():\n",
        "    print(\"hello class\")\n",
        "    print(\"weare learning python\")"
      ],
      "metadata": {
        "id": "qm02mwz01YT-"
      },
      "execution_count": null,
      "outputs": []
    },
    {
      "cell_type": "code",
      "source": [
        "my_function()"
      ],
      "metadata": {
        "colab": {
          "base_uri": "https://localhost:8080/"
        },
        "id": "-v4cCFYL1xCd",
        "outputId": "c6e86b02-349b-4e74-fa98-ade297a8ebbb"
      },
      "execution_count": null,
      "outputs": [
        {
          "output_type": "stream",
          "name": "stdout",
          "text": [
            "hello class\n",
            "weare learning python\n"
          ]
        }
      ]
    },
    {
      "cell_type": "markdown",
      "source": [
        "## Making the result of a student"
      ],
      "metadata": {
        "id": "ekhu_JCD2eMF"
      }
    },
    {
      "cell_type": "code",
      "source": [
        "def contact():\n",
        "    print(\"contact details of the school\")\n",
        "    print(\"Delhi public school\")\n",
        "    print(\"Banglore karnatak\")\n",
        "    print(\"9876543298\")\n",
        "    print(\"dps.contact@gmail.com\")"
      ],
      "metadata": {
        "id": "m-sLsQz-2kR2"
      },
      "execution_count": null,
      "outputs": []
    },
    {
      "cell_type": "code",
      "source": [
        "73for i in range(4):\n",
        "    a = input(\"Name of the student\")\n",
        "    b = int(input(\"enter the marks of the maths\"))\n",
        "    c = int(input(\"enter the marks of the science\"))\n",
        "    d = int(input(\"enter the marks of the social science\"))\n",
        "    print()\n",
        "    contact()\n"
      ],
      "metadata": {
        "colab": {
          "base_uri": "https://localhost:8080/"
        },
        "id": "Dhwe1R3v3KwV",
        "outputId": "39d528f6-6e59-4309-dd1c-7ebdffb46e28"
      },
      "execution_count": null,
      "outputs": [
        {
          "output_type": "stream",
          "name": "stdout",
          "text": [
            "Name of the studentanil\n",
            "enter the marks of the maths82\n",
            "enter the marks of the science78\n",
            "enter the marks of the social science87\n",
            "\n",
            "contact details of the school\n",
            "Delhi public school\n",
            "Banglore karnatak\n",
            "9876543298\n",
            "dps.contact@gmail.com\n",
            "Name of the studentahivam\n",
            "enter the marks of the maths74\n",
            "enter the marks of the science84\n",
            "enter the marks of the social science88\n",
            "\n",
            "contact details of the school\n",
            "Delhi public school\n",
            "Banglore karnatak\n",
            "9876543298\n",
            "dps.contact@gmail.com\n",
            "Name of the studentankit\n",
            "enter the marks of the maths88\n",
            "enter the marks of the science98\n",
            "enter the marks of the social science78\n",
            "\n",
            "contact details of the school\n",
            "Delhi public school\n",
            "Banglore karnatak\n",
            "9876543298\n",
            "dps.contact@gmail.com\n",
            "Name of the studentabhishek\n",
            "enter the marks of the maths77\n",
            "enter the marks of the science66\n",
            "enter the marks of the social science65\n",
            "\n",
            "contact details of the school\n",
            "Delhi public school\n",
            "Banglore karnatak\n",
            "9876543298\n",
            "dps.contact@gmail.com\n"
          ]
        }
      ]
    },
    {
      "cell_type": "markdown",
      "source": [
        "# Arguments"
      ],
      "metadata": {
        "id": "QdXV7ZlT5s2V"
      }
    },
    {
      "cell_type": "code",
      "source": [
        "def my_function(fname):\n",
        "    print(fname + \"sharma\")"
      ],
      "metadata": {
        "id": "UVZ6UPSh5vxp"
      },
      "execution_count": null,
      "outputs": []
    },
    {
      "cell_type": "code",
      "source": [
        "my_function(\"pooja\")\n",
        "my_function(\"ritu\")"
      ],
      "metadata": {
        "colab": {
          "base_uri": "https://localhost:8080/"
        },
        "id": "pSbQGT7S6JfJ",
        "outputId": "7fcdf704-0172-4242-fd7b-7f3cddb9ae8f"
      },
      "execution_count": null,
      "outputs": [
        {
          "output_type": "stream",
          "name": "stdout",
          "text": [
            "poojasharma\n",
            "ritusharma\n"
          ]
        }
      ]
    },
    {
      "cell_type": "code",
      "source": [
        "def my_function(fname, lname):\n",
        "    print(fname + \" \" + lname)\n"
      ],
      "metadata": {
        "id": "GYKf27jW6y0n"
      },
      "execution_count": null,
      "outputs": []
    },
    {
      "cell_type": "code",
      "source": [
        "my_function(\"shreya\", \"verma\")"
      ],
      "metadata": {
        "colab": {
          "base_uri": "https://localhost:8080/"
        },
        "id": "Zx0N0JMe7TcF",
        "outputId": "5166b663-6bdc-4c96-c0c6-f82f2e29e8c0"
      },
      "execution_count": null,
      "outputs": [
        {
          "output_type": "stream",
          "name": "stdout",
          "text": [
            "shreya verma\n"
          ]
        }
      ]
    },
    {
      "cell_type": "markdown",
      "source": [
        "## Write a program to calculate the electricity bill :"
      ],
      "metadata": {
        "id": "NjfqaQny70H1"
      }
    },
    {
      "cell_type": "code",
      "source": [
        "# write a program to calculate the electricity bill\n",
        "\n",
        "# Get the number of units consumed from the user\n",
        "units = int(input(\"Enter the number of units consumed: \"))\n",
        "\n",
        "if 500 <= units <= 700:\n",
        "    pay = 5\n",
        "elif 700 < units <= 1000:\n",
        "    pay = 10\n",
        "else:\n",
        "    pay = 15\n",
        "\n",
        "bill = units * pay\n",
        "print(\"The electricity bill is Rs.\", bill)\n",
        "if units > 1000: # Corrected condition\n",
        "    bill += (units - 1000) * 20  # Corrected variable name\n",
        "    print(\"Additional charges of Rs.\", bill - (units * pay), \"applied.\")"
      ],
      "metadata": {
        "colab": {
          "base_uri": "https://localhost:8080/"
        },
        "id": "fLCSUs7N8oJX",
        "outputId": "4d03e9f0-ac2e-421f-ccab-914fcb5c436a"
      },
      "execution_count": null,
      "outputs": [
        {
          "output_type": "stream",
          "name": "stdout",
          "text": [
            "Enter the number of units consumed: 200\n",
            "The electricity bill is Rs. 3000\n"
          ]
        }
      ]
    },
    {
      "cell_type": "code",
      "source": [
        "def electricity_bill(n):\n",
        "    if n<=500:\n",
        "        print(\"your bill is Rs\" , n*5)\n",
        "    elif n>500 and n<=700:\n",
        "        print(\"your bill is Rs\" , n*10)\n",
        "    elif n>700 and n<=1000:\n",
        "        print(\"your bill is Rs\" , n*15)\n",
        "    elif n>1000:\n",
        "        print(\"your bill is Rs , n*20\")\n"
      ],
      "metadata": {
        "id": "RdCkPjcT9K6S"
      },
      "execution_count": null,
      "outputs": []
    },
    {
      "cell_type": "code",
      "source": [
        "def instructions():\n",
        "    print(\"last date of paying bill is 20 april\")\n",
        "    print(\"after 20 april you need to pay 1000 Rs as a fine\")\n",
        "    print(\"Electricity office new delhi\")"
      ],
      "metadata": {
        "id": "xewD1umXCr8d"
      },
      "execution_count": null,
      "outputs": []
    },
    {
      "cell_type": "code",
      "source": [
        "for i in range(3):\n",
        "    a = input(\"Enter the name of a customer\")\n",
        "    n = int(input(\"Enter the unit of electricity you have used\"))\n",
        "    electricity_bill(n)\n",
        "    instructions()"
      ],
      "metadata": {
        "colab": {
          "base_uri": "https://localhost:8080/"
        },
        "id": "AuelqMr1_JfL",
        "outputId": "48bcf225-96e5-46bc-ae65-db0ae59d3ffa"
      },
      "execution_count": null,
      "outputs": [
        {
          "output_type": "stream",
          "name": "stdout",
          "text": [
            "Enter the name of a customerabhishek\n",
            "Enter the unit of electricity you have used400\n",
            "your bill is Rs 2000\n",
            "last date of paying bill is 20 april\n",
            "after 20 april you need to pay 1000 Rs as a fine\n",
            "Electricity office new delhi\n",
            "Enter the name of a customeratul\n",
            "Enter the unit of electricity you have used350\n",
            "your bill is Rs 1750\n",
            "last date of paying bill is 20 april\n",
            "after 20 april you need to pay 1000 Rs as a fine\n",
            "Electricity office new delhi\n",
            "Enter the name of a customerpankaj\n",
            "Enter the unit of electricity you have used420\n",
            "your bill is Rs 2100\n",
            "last date of paying bill is 20 april\n",
            "after 20 april you need to pay 1000 Rs as a fine\n",
            "Electricity office new delhi\n"
          ]
        }
      ]
    },
    {
      "cell_type": "markdown",
      "source": [
        "## What are the strings in python"
      ],
      "metadata": {
        "id": "mqJNJOSdQe02"
      }
    },
    {
      "cell_type": "markdown",
      "source": [
        "A atring is a data structure in python that reoresents a sequence of charecters . it is an immutable data type meaninga that once you have created a string you cannot change it . string is used widely in different applications name address and other types data can be represented as text."
      ],
      "metadata": {
        "id": "ajBCWAtvQlKz"
      }
    },
    {
      "cell_type": "markdown",
      "source": [
        "python string is the collection of the charecter surrounded by single quotes and double quotes and triple quotes"
      ],
      "metadata": {
        "id": "S6E0pTv8RL_e"
      }
    },
    {
      "cell_type": "markdown",
      "source": [
        "Creating strings in python ⁉\n",
        "\n",
        "\n",
        "\n",
        "strings in python can be created using single quotes or double quotes or even triple quotes\n",
        "\n",
        "\n",
        "String = 'welcome to the python class'\n",
        "print(\"String with the use of single quotes:\")\n",
        "print(string)\n"
      ],
      "metadata": {
        "id": "9VnwEeo5RuHz"
      }
    },
    {
      "cell_type": "code",
      "source": [
        "# Creating strings in python\n",
        "a = \"hello\"\n",
        "print(a)"
      ],
      "metadata": {
        "colab": {
          "base_uri": "https://localhost:8080/"
        },
        "id": "ZttQg09US6rM",
        "outputId": "561d8e89-4055-4d57-d920-807a960ac23c"
      },
      "execution_count": null,
      "outputs": [
        {
          "output_type": "stream",
          "name": "stdout",
          "text": [
            "hello\n"
          ]
        }
      ]
    },
    {
      "cell_type": "code",
      "source": [
        "b = \"we are learning python and this is our day 7 class\"\n",
        "print(b)\n",
        "print(type(b))"
      ],
      "metadata": {
        "colab": {
          "base_uri": "https://localhost:8080/"
        },
        "id": "CzOBKlCETGyd",
        "outputId": "54bddb22-e95d-4012-881a-918771ae4fc5"
      },
      "execution_count": null,
      "outputs": [
        {
          "output_type": "stream",
          "name": "stdout",
          "text": [
            "we are learning python and this is our day 7 class\n",
            "<class 'str'>\n"
          ]
        }
      ]
    },
    {
      "cell_type": "code",
      "source": [
        "a = 'hello my name is anil upadhyay'\n",
        "print(a)"
      ],
      "metadata": {
        "colab": {
          "base_uri": "https://localhost:8080/"
        },
        "id": "tRLskwpOTZBw",
        "outputId": "aa13687a-dae4-4289-aa05-28b91cd947e5"
      },
      "execution_count": null,
      "outputs": [
        {
          "output_type": "stream",
          "name": "stdout",
          "text": [
            "hello my name is anil upadhyay\n"
          ]
        }
      ]
    },
    {
      "cell_type": "code",
      "source": [
        "n = \"'hello my name is anil sharma and i study in class 12 and i choose subject pcm in class 11 and my mother is housewife . and my father is farmer and i completed my school life from boston public school and my best friend is kalash dixit'\"\n",
        "print(n)"
      ],
      "metadata": {
        "colab": {
          "base_uri": "https://localhost:8080/"
        },
        "id": "nbywmqVyUXl0",
        "outputId": "43cb8bbc-a635-42e1-c032-80d80c9a9eb3"
      },
      "execution_count": null,
      "outputs": [
        {
          "output_type": "stream",
          "name": "stdout",
          "text": [
            "'hello my name is anil sharma and i study in class 12 and i choose subject pcm in class 11 and my mother is housewife . and my father is farmer and i completed my school life from boston public school and my best friend is kalash dixit'\n"
          ]
        }
      ]
    },
    {
      "cell_type": "markdown",
      "source": [
        "## Indexing of strings"
      ],
      "metadata": {
        "id": "N2ifU_BQVXBh"
      }
    },
    {
      "cell_type": "code",
      "source": [
        "a = \"hello students\"\n",
        "print(a[11])"
      ],
      "metadata": {
        "colab": {
          "base_uri": "https://localhost:8080/"
        },
        "id": "fsvs7Q8sVcbz",
        "outputId": "7a7f8bd1-03f0-43c5-f129-fa0d11a60669"
      },
      "execution_count": null,
      "outputs": [
        {
          "output_type": "stream",
          "name": "stdout",
          "text": [
            "n\n"
          ]
        }
      ]
    },
    {
      "cell_type": "code",
      "source": [
        "a = \"hello students\"\n",
        "print(a[-2])"
      ],
      "metadata": {
        "colab": {
          "base_uri": "https://localhost:8080/"
        },
        "id": "aP-q42KRWW1I",
        "outputId": "b8b47d40-59e6-4796-d8e6-a8900df110af"
      },
      "execution_count": null,
      "outputs": [
        {
          "output_type": "stream",
          "name": "stdout",
          "text": [
            "t\n"
          ]
        }
      ]
    },
    {
      "cell_type": "markdown",
      "source": [
        "# Slicing of strings"
      ],
      "metadata": {
        "id": "xDazHXd5Wss6"
      }
    },
    {
      "cell_type": "code",
      "source": [
        "s = \"hello students hoe are you ?\"\n",
        "print(s[0:9])"
      ],
      "metadata": {
        "colab": {
          "base_uri": "https://localhost:8080/"
        },
        "id": "8-xEQZREWzJW",
        "outputId": "721c14e9-a16b-4c29-fe01-51958c82d796"
      },
      "execution_count": null,
      "outputs": [
        {
          "output_type": "stream",
          "name": "stdout",
          "text": [
            "hello stu\n"
          ]
        }
      ]
    },
    {
      "cell_type": "code",
      "source": [
        "s = \"hello students how are you ?\"\n",
        "print(s[6:18])"
      ],
      "metadata": {
        "colab": {
          "base_uri": "https://localhost:8080/"
        },
        "id": "ALTtceLlCZSB",
        "outputId": "2b5e11d1-e249-41fd-b079-3693efd4570c"
      },
      "execution_count": 1,
      "outputs": [
        {
          "output_type": "stream",
          "name": "stdout",
          "text": [
            "students how\n"
          ]
        }
      ]
    },
    {
      "cell_type": "code",
      "source": [
        "s = \"hello students how are you ?\"\n",
        "print(s[0:18:2])"
      ],
      "metadata": {
        "colab": {
          "base_uri": "https://localhost:8080/"
        },
        "id": "OmtN9HlVFNaN",
        "outputId": "bf29d95f-f126-485f-fcda-6f0225762281"
      },
      "execution_count": 1,
      "outputs": [
        {
          "output_type": "stream",
          "name": "stdout",
          "text": [
            "hlosuet o\n"
          ]
        }
      ]
    },
    {
      "cell_type": "code",
      "source": [
        "s = \"hello students how are you ?\"\n",
        "print(s[::-1])"
      ],
      "metadata": {
        "colab": {
          "base_uri": "https://localhost:8080/"
        },
        "id": "2Q2tr_veGJbH",
        "outputId": "315574bf-cc84-4adb-aeb4-9bb8a92b84fe"
      },
      "execution_count": 3,
      "outputs": [
        {
          "output_type": "stream",
          "name": "stdout",
          "text": [
            "? uoy era woh stneduts olleh\n"
          ]
        }
      ]
    },
    {
      "cell_type": "markdown",
      "source": [
        "Finding the length of the string"
      ],
      "metadata": {
        "id": "UZf04I1XGdaf"
      }
    },
    {
      "cell_type": "code",
      "source": [
        "s = \"hello students how are you ?\"\n",
        "print(len(s))"
      ],
      "metadata": {
        "colab": {
          "base_uri": "https://localhost:8080/"
        },
        "id": "B69RaTDxGiX5",
        "outputId": "407af41a-ee78-436a-e665-85a7e53c8485"
      },
      "execution_count": 5,
      "outputs": [
        {
          "output_type": "stream",
          "name": "stdout",
          "text": [
            "28\n"
          ]
        }
      ]
    },
    {
      "cell_type": "code",
      "source": [
        "b = \"hello world\"\n",
        "print(b)\n",
        "print(len(b))"
      ],
      "metadata": {
        "colab": {
          "base_uri": "https://localhost:8080/"
        },
        "id": "rxe_GxMqHCj_",
        "outputId": "b578d7d5-28a7-4784-9895-ac7b6d79e83e"
      },
      "execution_count": 6,
      "outputs": [
        {
          "output_type": "stream",
          "name": "stdout",
          "text": [
            "hello world\n",
            "11\n"
          ]
        }
      ]
    },
    {
      "cell_type": "markdown",
      "source": [
        "# Upper method"
      ],
      "metadata": {
        "id": "xJrIyn_YHaQY"
      }
    },
    {
      "cell_type": "code",
      "source": [
        "a = \"hello how are you\"\n",
        "print(a.upper())"
      ],
      "metadata": {
        "colab": {
          "base_uri": "https://localhost:8080/"
        },
        "id": "xu9upIjgHd3k",
        "outputId": "796a4925-10af-488d-dd0a-b792622720ae"
      },
      "execution_count": 7,
      "outputs": [
        {
          "output_type": "stream",
          "name": "stdout",
          "text": [
            "HELLO HOW ARE YOU\n"
          ]
        }
      ]
    },
    {
      "cell_type": "code",
      "source": [
        "a = \"my name is anil upadhyay\"\n",
        "print(a.upper())"
      ],
      "metadata": {
        "colab": {
          "base_uri": "https://localhost:8080/"
        },
        "id": "_S9l1hNiH0le",
        "outputId": "b46ca211-dd51-4b1e-9a42-e40fec303e4d"
      },
      "execution_count": 8,
      "outputs": [
        {
          "output_type": "stream",
          "name": "stdout",
          "text": [
            "MY NAME IS ANIL UPADHYAY\n"
          ]
        }
      ]
    },
    {
      "cell_type": "markdown",
      "source": [
        "# Lower method"
      ],
      "metadata": {
        "id": "CJqPPCCaIVb7"
      }
    },
    {
      "cell_type": "code",
      "source": [
        " b= \" HELLO STUDENTS HOW ARE YOU ?\"\n",
        "print(b.lower())"
      ],
      "metadata": {
        "colab": {
          "base_uri": "https://localhost:8080/"
        },
        "id": "5yku3D03IAfC",
        "outputId": "84d6abfd-d3fb-4d24-f41d-b700aca9c5c5"
      },
      "execution_count": 10,
      "outputs": [
        {
          "output_type": "stream",
          "name": "stdout",
          "text": [
            " hello students how are you ?\n"
          ]
        }
      ]
    },
    {
      "cell_type": "markdown",
      "source": [
        "## Replace function"
      ],
      "metadata": {
        "id": "x3RdW5bDIkSR"
      }
    },
    {
      "cell_type": "code",
      "source": [
        "a =\"hello how are you\"\n",
        "print(a.replace(\"hello\",\"bye\"))"
      ],
      "metadata": {
        "colab": {
          "base_uri": "https://localhost:8080/"
        },
        "id": "l2hXic7wIds6",
        "outputId": "f22b9ab8-814d-4994-eff1-4723e65f6908"
      },
      "execution_count": 11,
      "outputs": [
        {
          "output_type": "stream",
          "name": "stdout",
          "text": [
            "bye how are you\n"
          ]
        }
      ]
    },
    {
      "cell_type": "markdown",
      "source": [
        "Find methods()"
      ],
      "metadata": {
        "id": "qzteEpdhKFmz"
      }
    },
    {
      "cell_type": "code",
      "source": [
        "a = \"python is great\"\n",
        "b = a.find(\"g\")\n",
        "print(a)\n",
        "print(b)"
      ],
      "metadata": {
        "colab": {
          "base_uri": "https://localhost:8080/"
        },
        "id": "MD9tyDftKPZg",
        "outputId": "472124ac-2fc6-469a-d9b3-0ec602302473"
      },
      "execution_count": 14,
      "outputs": [
        {
          "output_type": "stream",
          "name": "stdout",
          "text": [
            "python is great\n",
            "10\n"
          ]
        }
      ]
    },
    {
      "cell_type": "markdown",
      "source": [
        "## what are the lists in python"
      ],
      "metadata": {
        "id": "cbiJL86eOY2i"
      }
    },
    {
      "cell_type": "markdown",
      "source": [
        "Lists are used to store multiple items in a single variable.\n",
        "Lists are one of 4 built in data types in python used to store collection of data , the other 3 are tuples,set, and dictionary, all with different qualities and usage."
      ],
      "metadata": {
        "id": "AcOr6TlVPB1a"
      }
    },
    {
      "cell_type": "markdown",
      "source": [
        "Lists items are :\n",
        "\n",
        "\n",
        "ordered\n",
        "\n",
        "\n",
        "changeable\n",
        "\n",
        "\n",
        "allow duplicates"
      ],
      "metadata": {
        "id": "Hf-qxMrnPrde"
      }
    },
    {
      "cell_type": "markdown",
      "source": [
        "## Creating a lists in python"
      ],
      "metadata": {
        "id": "6rO4VT3ZQBVg"
      }
    },
    {
      "cell_type": "markdown",
      "source": [
        "Lists in python can be created by just placing the sequence inside the square brackets[]"
      ],
      "metadata": {
        "id": "dTBfBKDdQPt4"
      }
    },
    {
      "cell_type": "code",
      "source": [
        "my_list = [\"apple\",\"banana\",\"cherry\"]\n",
        "print(my_list)\n",
        "print(type(my_list))"
      ],
      "metadata": {
        "colab": {
          "base_uri": "https://localhost:8080/"
        },
        "id": "v2zu4FmnQ_xG",
        "outputId": "24f12281-c08a-4cb5-9a0c-f3eb5ae09790"
      },
      "execution_count": 17,
      "outputs": [
        {
          "output_type": "stream",
          "name": "stdout",
          "text": [
            "['apple', 'banana', 'cherry']\n",
            "<class 'list'>\n"
          ]
        }
      ]
    },
    {
      "cell_type": "markdown",
      "source": [
        "## Allow Duplicates"
      ],
      "metadata": {
        "id": "dsI_hxFHRfla"
      }
    },
    {
      "cell_type": "code",
      "source": [
        "my_list = [\"apple\",\"banana\",\"cherry\",\"apple\",\"banana\",\"cherry\"]\n",
        "print(my_list)"
      ],
      "metadata": {
        "colab": {
          "base_uri": "https://localhost:8080/"
        },
        "id": "YppRXXJKRqIx",
        "outputId": "af36f9ca-5959-4a57-83be-0866c6506222"
      },
      "execution_count": 16,
      "outputs": [
        {
          "output_type": "stream",
          "name": "stdout",
          "text": [
            "['apple', 'banana', 'cherry', 'apple', 'banana', 'cherry']\n"
          ]
        }
      ]
    },
    {
      "cell_type": "markdown",
      "source": [
        "## Data types"
      ],
      "metadata": {
        "id": "Q012Cn41SkAf"
      }
    },
    {
      "cell_type": "code",
      "source": [
        "list1 = [\"amit\",\"atul\",\"shivam\",\"ravi\"]\n",
        "list2 = [2,5,7]\n",
        "list3 = [7,8,8,9,4,5,7]\n",
        "print(list1)\n",
        "print(list2)\n",
        "print(list3)\n"
      ],
      "metadata": {
        "colab": {
          "base_uri": "https://localhost:8080/"
        },
        "id": "HfIOf7p5Stfd",
        "outputId": "6873840c-1600-454c-8db2-6318961cc94e"
      },
      "execution_count": 21,
      "outputs": [
        {
          "output_type": "stream",
          "name": "stdout",
          "text": [
            "['amit', 'atul', 'shivam', 'ravi']\n",
            "[2, 5, 7]\n",
            "[7, 8, 8, 9, 4, 5, 7]\n"
          ]
        }
      ]
    },
    {
      "cell_type": "code",
      "source": [
        "a = [12,8,7,-6,-3,\"students\",\"hello\",]\n",
        "print(a)"
      ],
      "metadata": {
        "colab": {
          "base_uri": "https://localhost:8080/"
        },
        "id": "4StuJO1bT4yT",
        "outputId": "b2ed8d9b-4307-4267-fa0a-ca2ae05e0ec5"
      },
      "execution_count": 22,
      "outputs": [
        {
          "output_type": "stream",
          "name": "stdout",
          "text": [
            "[12, 8, 7, -6, -3, 'students', 'hello']\n"
          ]
        }
      ]
    },
    {
      "cell_type": "markdown",
      "source": [
        "## List length"
      ],
      "metadata": {
        "id": "7uLfrPAKVBvQ"
      }
    },
    {
      "cell_type": "code",
      "source": [
        "a = [12,8,7,-6,-3,\"students\",\"hello\",]\n",
        "print(len(a))"
      ],
      "metadata": {
        "colab": {
          "base_uri": "https://localhost:8080/"
        },
        "id": "gD_IzUgdUdls",
        "outputId": "b1cb73a1-8f81-4724-94ab-38d773545c69"
      },
      "execution_count": 23,
      "outputs": [
        {
          "output_type": "stream",
          "name": "stdout",
          "text": [
            "7\n"
          ]
        }
      ]
    },
    {
      "cell_type": "code",
      "source": [
        "b = [15,8,7,6,7,9,4,3,2,5]\n",
        "print(len(b))"
      ],
      "metadata": {
        "colab": {
          "base_uri": "https://localhost:8080/"
        },
        "id": "bZnc15-2Uniw",
        "outputId": "d20bfeb6-f4d1-4637-e895-3c172e329868"
      },
      "execution_count": 24,
      "outputs": [
        {
          "output_type": "stream",
          "name": "stdout",
          "text": [
            "10\n"
          ]
        }
      ]
    },
    {
      "cell_type": "markdown",
      "source": [
        "## Access items"
      ],
      "metadata": {
        "id": "nkbyziEEU1Yc"
      }
    },
    {
      "cell_type": "code",
      "source": [
        "thislist = [12,15,13,18,19,20]\n",
        "print(thislist[1])"
      ],
      "metadata": {
        "colab": {
          "base_uri": "https://localhost:8080/"
        },
        "id": "EMoTAvujVL5U",
        "outputId": "b05d7cf0-3668-4522-b703-cb466760c52e"
      },
      "execution_count": 25,
      "outputs": [
        {
          "output_type": "stream",
          "name": "stdout",
          "text": [
            "15\n"
          ]
        }
      ]
    },
    {
      "cell_type": "code",
      "source": [
        "thislist = [12,13,14,15,66,78,92,84,68]\n",
        "print(thislist[-5])"
      ],
      "metadata": {
        "colab": {
          "base_uri": "https://localhost:8080/"
        },
        "id": "E_QM7o8mV_65",
        "outputId": "fde8341f-03ff-4508-b8e9-15d9b90edd43"
      },
      "execution_count": 26,
      "outputs": [
        {
          "output_type": "stream",
          "name": "stdout",
          "text": [
            "66\n"
          ]
        }
      ]
    },
    {
      "cell_type": "markdown",
      "source": [
        "## Slicing of lists"
      ],
      "metadata": {
        "id": "fqA44rGRWlgI"
      }
    },
    {
      "cell_type": "code",
      "source": [
        "thislist = [15,14,22,33,66,78,94,95,87]\n",
        "print(thislist[0:6])"
      ],
      "metadata": {
        "colab": {
          "base_uri": "https://localhost:8080/"
        },
        "id": "OdqS7hL2WtQf",
        "outputId": "c5a8dc15-6b01-4da9-91f7-ca4b59cb4bd6"
      },
      "execution_count": 27,
      "outputs": [
        {
          "output_type": "stream",
          "name": "stdout",
          "text": [
            "[15, 14, 22, 33, 66, 78]\n"
          ]
        }
      ]
    },
    {
      "cell_type": "code",
      "source": [
        "thislist = [12,56,74,86,56,88,92,65,78,66,87,54,59]\n",
        "print(thislist[3:7])"
      ],
      "metadata": {
        "colab": {
          "base_uri": "https://localhost:8080/"
        },
        "id": "jwGVCMICXJ2X",
        "outputId": "c3789593-9fdf-49f3-9a04-c8a49c18119f"
      },
      "execution_count": 28,
      "outputs": [
        {
          "output_type": "stream",
          "name": "stdout",
          "text": [
            "[86, 56, 88, 92]\n"
          ]
        }
      ]
    },
    {
      "cell_type": "code",
      "source": [
        "thislist = [12,42,98,75,78,92,88,77,44,66,62,83,84]\n",
        "print(thislist[0:12:2])"
      ],
      "metadata": {
        "colab": {
          "base_uri": "https://localhost:8080/"
        },
        "id": "sTZ5rVX3Xgdw",
        "outputId": "66d34188-3695-4c41-9947-429285437c41"
      },
      "execution_count": 29,
      "outputs": [
        {
          "output_type": "stream",
          "name": "stdout",
          "text": [
            "[12, 98, 78, 88, 44, 62]\n"
          ]
        }
      ]
    },
    {
      "cell_type": "markdown",
      "source": [
        "## change items in the lists"
      ],
      "metadata": {
        "id": "SBz_WJJGYKU1"
      }
    },
    {
      "cell_type": "code",
      "source": [
        "a = [1,2,3,4,5,6,7,8,9,22,44,66,88,99]\n",
        "a[4] = \"apple\"\n",
        "print(a)"
      ],
      "metadata": {
        "colab": {
          "base_uri": "https://localhost:8080/"
        },
        "id": "qarVO8RbYQQm",
        "outputId": "f2fd08f8-2bf5-4d4d-beac-a27feb26330e"
      },
      "execution_count": 30,
      "outputs": [
        {
          "output_type": "stream",
          "name": "stdout",
          "text": [
            "[1, 2, 3, 4, 'apple', 6, 7, 8, 9, 22, 44, 66, 88, 99]\n"
          ]
        }
      ]
    },
    {
      "cell_type": "markdown",
      "source": [
        "## change a range of items value"
      ],
      "metadata": {
        "id": "RcQcgpCEZDjF"
      }
    },
    {
      "cell_type": "code",
      "source": [
        "a = [12,65,98,55,34,54,38,92,94,86]\n",
        "a[2:5] = [\"books\",\"pen\",\"paper\"]\n",
        "print(a)"
      ],
      "metadata": {
        "colab": {
          "base_uri": "https://localhost:8080/"
        },
        "id": "osDbwvobZOFn",
        "outputId": "fa7751ab-36d2-443f-9929-8b4e790e80a1"
      },
      "execution_count": 31,
      "outputs": [
        {
          "output_type": "stream",
          "name": "stdout",
          "text": [
            "[12, 65, 'books', 'pen', 'paper', 54, 38, 92, 94, 86]\n"
          ]
        }
      ]
    },
    {
      "cell_type": "code",
      "source": [
        "a = [12,66,54,87,92,98,88,54,33,45]\n",
        "a.append(-9)\n",
        "print(a)"
      ],
      "metadata": {
        "colab": {
          "base_uri": "https://localhost:8080/"
        },
        "id": "OrxhBM8dZt_h",
        "outputId": "9ffc0383-395c-44ba-e3b8-6cb36c94d0ed"
      },
      "execution_count": 32,
      "outputs": [
        {
          "output_type": "stream",
          "name": "stdout",
          "text": [
            "[12, 66, 54, 87, 92, 98, 88, 54, 33, 45, -9]\n"
          ]
        }
      ]
    },
    {
      "cell_type": "code",
      "source": [
        "m = [54,12,13,14,15,16,17,18,19,24]\n",
        "m.remove(16)\n",
        "print(m)"
      ],
      "metadata": {
        "colab": {
          "base_uri": "https://localhost:8080/"
        },
        "id": "zxexj16iaJB-",
        "outputId": "290ccad6-5650-4913-e5e0-42c2bb63f711"
      },
      "execution_count": 34,
      "outputs": [
        {
          "output_type": "stream",
          "name": "stdout",
          "text": [
            "[54, 12, 13, 14, 15, 17, 18, 19, 24]\n"
          ]
        }
      ]
    },
    {
      "cell_type": "code",
      "source": [
        "m = [54,12,13,14,15,16,17,18,19,24]\n",
        "m.reverse()\n",
        "print(m)"
      ],
      "metadata": {
        "colab": {
          "base_uri": "https://localhost:8080/"
        },
        "id": "cT_dUz66bL0y",
        "outputId": "1b026950-7f59-464b-9590-2f5458ae0b61"
      },
      "execution_count": 35,
      "outputs": [
        {
          "output_type": "stream",
          "name": "stdout",
          "text": [
            "[24, 19, 18, 17, 16, 15, 14, 13, 12, 54]\n"
          ]
        }
      ]
    },
    {
      "cell_type": "code",
      "source": [
        "l = [54,12,13,14,15,16,17,18,19,24]\n",
        "print(len(l))\n",
        "a = 0\n",
        "for i in range(8):\n",
        "    a = a + l[i]\n",
        "    i =  i + 1\n",
        "    print(\"the sum of a list is \",a)"
      ],
      "metadata": {
        "colab": {
          "base_uri": "https://localhost:8080/"
        },
        "id": "myHw0Vm5bpH8",
        "outputId": "73baaffc-221c-486a-f019-5d959f51d13c"
      },
      "execution_count": 37,
      "outputs": [
        {
          "output_type": "stream",
          "name": "stdout",
          "text": [
            "10\n",
            "the sum of a list is  54\n",
            "the sum of a list is  66\n",
            "the sum of a list is  79\n",
            "the sum of a list is  93\n",
            "the sum of a list is  108\n",
            "the sum of a list is  124\n",
            "the sum of a list is  141\n",
            "the sum of a list is  159\n"
          ]
        }
      ]
    },
    {
      "cell_type": "code",
      "source": [
        "c = [1,2,3,4,5,6,7,8,9,12,14,16,78]\n",
        "a = 0\n",
        "for i in range (7):\n",
        "    a = a * c[i]\n",
        "    i = i * 1\n",
        "    print(\"the multiply of a list is \",a)"
      ],
      "metadata": {
        "colab": {
          "base_uri": "https://localhost:8080/"
        },
        "id": "p1HhDYf4ckhD",
        "outputId": "4efa9f3b-6adc-4494-8ecf-cc7ef2f0b94e"
      },
      "execution_count": 38,
      "outputs": [
        {
          "output_type": "stream",
          "name": "stdout",
          "text": [
            "the multiply of a list is  0\n",
            "the multiply of a list is  0\n",
            "the multiply of a list is  0\n",
            "the multiply of a list is  0\n",
            "the multiply of a list is  0\n",
            "the multiply of a list is  0\n",
            "the multiply of a list is  0\n"
          ]
        }
      ]
    },
    {
      "cell_type": "markdown",
      "source": [
        "## Tuples"
      ],
      "metadata": {
        "id": "Vx93jabjjr3x"
      }
    },
    {
      "cell_type": "markdown",
      "source": [
        "Tuples are used to store multiples items in a single variable. tuple is one of the built in data types in python used to store collection of data.\n",
        "\n",
        "\n",
        "Tuples items are ordered\n",
        "\n",
        "\n",
        "\n",
        "unchangable\n",
        "\n",
        "\n",
        "and allow duplicate value"
      ],
      "metadata": {
        "id": "Q6Nbt3fJkCZT"
      }
    },
    {
      "cell_type": "markdown",
      "source": [
        "Creating a tuple"
      ],
      "metadata": {
        "id": "CFqm2i5Yk4YP"
      }
    },
    {
      "cell_type": "code",
      "source": [
        "my_tuple = (1,2,3)\n",
        "print(my_tuple)\n",
        "print(type(my_tuple))"
      ],
      "metadata": {
        "colab": {
          "base_uri": "https://localhost:8080/"
        },
        "id": "ToMEGli3k8t7",
        "outputId": "fd7da904-d79c-4bfb-bd92-11008b138bf3"
      },
      "execution_count": 40,
      "outputs": [
        {
          "output_type": "stream",
          "name": "stdout",
          "text": [
            "(1, 2, 3)\n",
            "<class 'tuple'>\n"
          ]
        }
      ]
    },
    {
      "cell_type": "markdown",
      "source": [
        "## Mixed data types"
      ],
      "metadata": {
        "id": "8u5GJbpalTQe"
      }
    },
    {
      "cell_type": "code",
      "source": [
        "my_tuple = (1,\"hello\",3.2,7,9)\n",
        "print(my_tuple)"
      ],
      "metadata": {
        "colab": {
          "base_uri": "https://localhost:8080/"
        },
        "id": "DRcrGnztlY2g",
        "outputId": "1c68f681-32de-4c5d-a322-2f6a55e72604"
      },
      "execution_count": 41,
      "outputs": [
        {
          "output_type": "stream",
          "name": "stdout",
          "text": [
            "(1, 'hello', 3.2, 7, 9)\n"
          ]
        }
      ]
    },
    {
      "cell_type": "markdown",
      "source": [
        "## Empty Tuples"
      ],
      "metadata": {
        "id": "ZSYju8Jjl0WV"
      }
    },
    {
      "cell_type": "code",
      "source": [
        "my_tuple = ()\n",
        "print(my_tuple)\n",
        "print(type(my_tuple))"
      ],
      "metadata": {
        "colab": {
          "base_uri": "https://localhost:8080/"
        },
        "id": "uJgFtMlblutv",
        "outputId": "a9589dc4-2466-4cb0-cd41-f3c64782c195"
      },
      "execution_count": 43,
      "outputs": [
        {
          "output_type": "stream",
          "name": "stdout",
          "text": [
            "()\n",
            "<class 'tuple'>\n"
          ]
        }
      ]
    },
    {
      "cell_type": "markdown",
      "source": [
        "## Nested Tuples"
      ],
      "metadata": {
        "id": "EDQhAy-1mTnj"
      }
    },
    {
      "cell_type": "code",
      "source": [
        "a = (\"data\",[1,2,4],[4,5,6])\n",
        "print(a)"
      ],
      "metadata": {
        "colab": {
          "base_uri": "https://localhost:8080/"
        },
        "id": "eUI45G44ltG4",
        "outputId": "7d470647-9913-454c-db57-9f3b3652fa8e"
      },
      "execution_count": 1,
      "outputs": [
        {
          "output_type": "stream",
          "name": "stdout",
          "text": [
            "('data', [1, 2, 4], [4, 5, 6])\n"
          ]
        }
      ]
    },
    {
      "cell_type": "markdown",
      "source": [
        "## Creating a tuple with only one item"
      ],
      "metadata": {
        "id": "io5PiWBRN3Af"
      }
    },
    {
      "cell_type": "code",
      "source": [
        "var1 = (\"hello\")\n",
        "print(var1)\n",
        "print(type(var1))"
      ],
      "metadata": {
        "colab": {
          "base_uri": "https://localhost:8080/"
        },
        "id": "1CbmWYFKNz3K",
        "outputId": "1f96d8bb-7546-41e8-da16-66582eaa9896"
      },
      "execution_count": 2,
      "outputs": [
        {
          "output_type": "stream",
          "name": "stdout",
          "text": [
            "hello\n",
            "<class 'str'>\n"
          ]
        }
      ]
    },
    {
      "cell_type": "code",
      "source": [
        "var2 = (\"hello\",)\n",
        "print(var2)\n",
        "print(type(var2))"
      ],
      "metadata": {
        "colab": {
          "base_uri": "https://localhost:8080/"
        },
        "id": "Vn9tn2-ROaPd",
        "outputId": "a637e0da-20e7-4ac0-f9a7-2b4d6464b996"
      },
      "execution_count": 3,
      "outputs": [
        {
          "output_type": "stream",
          "name": "stdout",
          "text": [
            "('hello',)\n",
            "<class 'tuple'>\n"
          ]
        }
      ]
    },
    {
      "cell_type": "markdown",
      "source": [
        "## Tuple Constructor"
      ],
      "metadata": {
        "id": "aa5ogNLQQIkG"
      }
    },
    {
      "cell_type": "code",
      "source": [
        "a = tuple((\"a\",\"b\",\"c\"))\n",
        "print(a)\n",
        "print(type(a))"
      ],
      "metadata": {
        "colab": {
          "base_uri": "https://localhost:8080/"
        },
        "id": "JozjW3WVQN8h",
        "outputId": "16f5cc5a-a095-4cb4-be37-7679de5c1737"
      },
      "execution_count": 5,
      "outputs": [
        {
          "output_type": "stream",
          "name": "stdout",
          "text": [
            "('a', 'b', 'c')\n",
            "<class 'tuple'>\n"
          ]
        }
      ]
    },
    {
      "cell_type": "markdown",
      "source": [
        "## Indexing"
      ],
      "metadata": {
        "id": "Y0Q8MUOCQhEm"
      }
    },
    {
      "cell_type": "code",
      "source": [
        "a = (1,2,3,4,5,6,7,8,9,10)\n",
        "print(a[5])"
      ],
      "metadata": {
        "colab": {
          "base_uri": "https://localhost:8080/"
        },
        "id": "j13d8pjwQklT",
        "outputId": "e69bdd7c-b2db-4800-eec4-5e62c11756a3"
      },
      "execution_count": 6,
      "outputs": [
        {
          "output_type": "stream",
          "name": "stdout",
          "text": [
            "6\n"
          ]
        }
      ]
    },
    {
      "cell_type": "code",
      "source": [
        "a = (1,2,3,4,5,6,7,8,9,10)\n",
        "print(a[-5])"
      ],
      "metadata": {
        "colab": {
          "base_uri": "https://localhost:8080/"
        },
        "id": "tbwhSlB1Q_69",
        "outputId": "56da7f5a-b4af-4966-feaa-ed3683a18811"
      },
      "execution_count": 7,
      "outputs": [
        {
          "output_type": "stream",
          "name": "stdout",
          "text": [
            "6\n"
          ]
        }
      ]
    },
    {
      "cell_type": "markdown",
      "source": [
        "## Slicing"
      ],
      "metadata": {
        "id": "-ySopyqjRNpL"
      }
    },
    {
      "cell_type": "code",
      "source": [
        "a = (1,2,3,4,5,6,7,8,9,10)\n",
        "print(a[0:5])\n",
        "print(len(a))"
      ],
      "metadata": {
        "colab": {
          "base_uri": "https://localhost:8080/"
        },
        "id": "yoR2nQlCRR3u",
        "outputId": "6d1584f7-18c4-4468-bb7f-662b697ee1b6"
      },
      "execution_count": 8,
      "outputs": [
        {
          "output_type": "stream",
          "name": "stdout",
          "text": [
            "(1, 2, 3, 4, 5)\n",
            "10\n"
          ]
        }
      ]
    },
    {
      "cell_type": "code",
      "source": [
        "a = (1,2,3,4,5,6,7,8,9,10)\n",
        "print(a[0:10:2])"
      ],
      "metadata": {
        "colab": {
          "base_uri": "https://localhost:8080/"
        },
        "id": "po9SOHTfRm6K",
        "outputId": "b20b1bfa-2d7f-40b6-e725-20ec669762db"
      },
      "execution_count": 9,
      "outputs": [
        {
          "output_type": "stream",
          "name": "stdout",
          "text": [
            "(1, 3, 5, 7, 9)\n"
          ]
        }
      ]
    },
    {
      "cell_type": "markdown",
      "source": [
        "## Reverse a tuple"
      ],
      "metadata": {
        "id": "g3J273_JSZuN"
      }
    },
    {
      "cell_type": "code",
      "source": [
        "a = (1,2,3,4,5,6,7,8,9,10)\n",
        "print(a[::-1])"
      ],
      "metadata": {
        "colab": {
          "base_uri": "https://localhost:8080/"
        },
        "id": "4XmS8p9ySgVc",
        "outputId": "c72aa824-90ed-4a32-b7a0-795a34160bf8"
      },
      "execution_count": 10,
      "outputs": [
        {
          "output_type": "stream",
          "name": "stdout",
          "text": [
            "(10, 9, 8, 7, 6, 5, 4, 3, 2, 1)\n"
          ]
        }
      ]
    },
    {
      "cell_type": "code",
      "source": [
        "t = (1,2,3,4,5,6,7,8,9,10)\n",
        "print(t[::])\n",
        "print(t[3:])\n",
        "print(t[:4])\n",
        "print(t[-2:-5])"
      ],
      "metadata": {
        "colab": {
          "base_uri": "https://localhost:8080/"
        },
        "id": "dMt9jvuXSlTT",
        "outputId": "587a2129-86bc-42f3-b7cc-15887f105f0b"
      },
      "execution_count": 11,
      "outputs": [
        {
          "output_type": "stream",
          "name": "stdout",
          "text": [
            "(1, 2, 3, 4, 5, 6, 7, 8, 9, 10)\n",
            "(4, 5, 6, 7, 8, 9, 10)\n",
            "(1, 2, 3, 4)\n",
            "()\n"
          ]
        }
      ]
    },
    {
      "cell_type": "code",
      "source": [
        "t = (1,2,3,4,5,6,7,8,9,10)\n",
        "print(t)\n",
        "print(type(t))"
      ],
      "metadata": {
        "colab": {
          "base_uri": "https://localhost:8080/"
        },
        "id": "1lmych1ETaO_",
        "outputId": "cc9f356d-7c1b-4aa5-b9c3-590b7d8f77ed"
      },
      "execution_count": 13,
      "outputs": [
        {
          "output_type": "stream",
          "name": "stdout",
          "text": [
            "(1, 2, 3, 4, 5, 6, 7, 8, 9, 10)\n",
            "<class 'tuple'>\n"
          ]
        }
      ]
    },
    {
      "cell_type": "code",
      "source": [
        "a = (22,23,24,24,35,45,55)\n",
        "y = list(a)\n",
        "y.append(66)\n",
        "a = tuple(y)\n",
        "print(a)\n"
      ],
      "metadata": {
        "colab": {
          "base_uri": "https://localhost:8080/"
        },
        "id": "EgycHg20TyxE",
        "outputId": "fc888363-6a0d-41c1-d5ba-f3ca205fffbb"
      },
      "execution_count": 14,
      "outputs": [
        {
          "output_type": "stream",
          "name": "stdout",
          "text": [
            "(22, 23, 24, 24, 35, 45, 55, 66)\n"
          ]
        }
      ]
    },
    {
      "cell_type": "code",
      "source": [
        "a = (24,23,25,35,46,55)\n",
        "y = list(a)\n",
        "y.remove(25)\n",
        "a = tuple(y)\n",
        "print(a)"
      ],
      "metadata": {
        "colab": {
          "base_uri": "https://localhost:8080/"
        },
        "id": "KP581uQUUVGC",
        "outputId": "3e81ec6f-4870-4211-e2f3-14e45665f442"
      },
      "execution_count": 15,
      "outputs": [
        {
          "output_type": "stream",
          "name": "stdout",
          "text": [
            "(24, 23, 35, 46, 55)\n"
          ]
        }
      ]
    },
    {
      "cell_type": "code",
      "source": [
        "thistuple = (\"a\",\"b\",\"c\")\n",
        "for x in thistuple:\n",
        "    print(x)"
      ],
      "metadata": {
        "colab": {
          "base_uri": "https://localhost:8080/"
        },
        "id": "pF0rjv0eUyzA",
        "outputId": "89ba75f0-0cfe-40ae-8747-270f80688932"
      },
      "execution_count": 16,
      "outputs": [
        {
          "output_type": "stream",
          "name": "stdout",
          "text": [
            "a\n",
            "b\n",
            "c\n"
          ]
        }
      ]
    },
    {
      "cell_type": "markdown",
      "source": [
        "## join two tuples"
      ],
      "metadata": {
        "id": "cEyH1yLzVFqv"
      }
    },
    {
      "cell_type": "code",
      "source": [
        "tuple1 = (\"a\",\"b\",\"c\")\n",
        "tuple2 = (1,2,3)\n",
        "tuple3 = tuple1 + tuple2\n",
        "print(tuple3)"
      ],
      "metadata": {
        "colab": {
          "base_uri": "https://localhost:8080/"
        },
        "id": "g84dLmp9VQju",
        "outputId": "3b8db676-6f6b-415b-9310-b1be5b7364fd"
      },
      "execution_count": 17,
      "outputs": [
        {
          "output_type": "stream",
          "name": "stdout",
          "text": [
            "('a', 'b', 'c', 1, 2, 3)\n"
          ]
        }
      ]
    },
    {
      "cell_type": "markdown",
      "source": [
        "### multiply two tuples"
      ],
      "metadata": {
        "id": "uxxeuJHWVYIt"
      }
    },
    {
      "cell_type": "code",
      "source": [
        "a = (\"apple\",\"data\",\"python\")\n",
        "b = a*3\n",
        "print(b)"
      ],
      "metadata": {
        "colab": {
          "base_uri": "https://localhost:8080/"
        },
        "id": "vRjq5oX0Vg8R",
        "outputId": "fd43f832-721b-4cba-8355-f58484cafe14"
      },
      "execution_count": 18,
      "outputs": [
        {
          "output_type": "stream",
          "name": "stdout",
          "text": [
            "('apple', 'data', 'python', 'apple', 'data', 'python', 'apple', 'data', 'python')\n"
          ]
        }
      ]
    },
    {
      "cell_type": "code",
      "source": [
        "t = (1,2,3,4,5,6,7,8,9,10)\n",
        "print(t*2)\n",
        "print(t+t+t)\n",
        "print(t+t)\n",
        "print(len(t))"
      ],
      "metadata": {
        "colab": {
          "base_uri": "https://localhost:8080/"
        },
        "id": "7oKP0tIDVvr8",
        "outputId": "08cdd8e4-2009-4af2-f8dd-9ee126751cb8"
      },
      "execution_count": 20,
      "outputs": [
        {
          "output_type": "stream",
          "name": "stdout",
          "text": [
            "(1, 2, 3, 4, 5, 6, 7, 8, 9, 10, 1, 2, 3, 4, 5, 6, 7, 8, 9, 10)\n",
            "(1, 2, 3, 4, 5, 6, 7, 8, 9, 10, 1, 2, 3, 4, 5, 6, 7, 8, 9, 10, 1, 2, 3, 4, 5, 6, 7, 8, 9, 10)\n",
            "(1, 2, 3, 4, 5, 6, 7, 8, 9, 10, 1, 2, 3, 4, 5, 6, 7, 8, 9, 10)\n",
            "10\n"
          ]
        }
      ]
    },
    {
      "cell_type": "markdown",
      "source": [
        "## write a program to take 5 input from the user and store it in a tuple"
      ],
      "metadata": {
        "id": "hZEbBU5VWMQZ"
      }
    },
    {
      "cell_type": "code",
      "source": [
        "t = ()\n",
        "i = 0\n",
        "while i < 5:\n",
        "    num = int(input(\"enter the value\"))\n",
        "    t = t + (num,)\n",
        "    i = i + 1\n",
        "    print(t)"
      ],
      "metadata": {
        "colab": {
          "base_uri": "https://localhost:8080/"
        },
        "id": "GyU7UM98Wk7h",
        "outputId": "54ce8ab1-652f-4f98-dae1-237e4c78507a"
      },
      "execution_count": 21,
      "outputs": [
        {
          "output_type": "stream",
          "name": "stdout",
          "text": [
            "enter the value10\n",
            "(10,)\n",
            "enter the value20\n",
            "(10, 20)\n",
            "enter the value45\n",
            "(10, 20, 45)\n",
            "enter the value65\n",
            "(10, 20, 45, 65)\n",
            "enter the value98\n",
            "(10, 20, 45, 65, 98)\n"
          ]
        }
      ]
    },
    {
      "cell_type": "markdown",
      "source": [
        "## Dictionary"
      ],
      "metadata": {
        "id": "w-pj6Avm6IbJ"
      }
    },
    {
      "cell_type": "markdown",
      "source": [
        "Dictionaries are used to store data values in key : value points\n",
        "\n",
        "\n",
        "\n",
        "Dictionaries and lists share the following charecterstics:\n",
        "\n",
        "\n",
        "\n",
        "both are mutable:\n",
        "\n",
        "\n",
        "\n",
        "both are dynamic . they can grow and shrink as needed.\n",
        "\n",
        "\n",
        "both can be nested  a list can contain another list a dictionary and another dictionary a dictionary can also contain a list and vice versa.\n",
        "\n",
        "\n",
        "\n",
        "\n",
        "Dictionary items are ordered, changeable and does not allow duplicates .\n",
        "\n",
        "\n"
      ],
      "metadata": {
        "id": "skljhp7n6SRm"
      }
    },
    {
      "cell_type": "code",
      "source": [
        "# creating a dictionary :\n",
        "a = {\n",
        "    \"ID\":\"123ab\",\n",
        "    \"color\":\"red\",\n",
        "    \"name\":\"amit\"\n",
        "}\n",
        "print(a)\n",
        "print(type(a))\n",
        "print(a[\"color\"])"
      ],
      "metadata": {
        "colab": {
          "base_uri": "https://localhost:8080/"
        },
        "id": "kftjGCEV7fHK",
        "outputId": "f9dfdbd6-1ec8-4b8a-8b45-9bf612c2e878"
      },
      "execution_count": 2,
      "outputs": [
        {
          "output_type": "stream",
          "name": "stdout",
          "text": [
            "{'ID': '123ab', 'color': 'red', 'name': 'amit'}\n",
            "<class 'dict'>\n",
            "red\n"
          ]
        }
      ]
    },
    {
      "cell_type": "code",
      "source": [
        "a = {\n",
        "    \"ID\":\"123ab\",\n",
        "    \"color\":\"red\",\n",
        "    \"name\":\"amit\",\n",
        "    \"name\":\"anil\",\n",
        "\n",
        "}\n",
        "print(a)\n",
        "\n"
      ],
      "metadata": {
        "colab": {
          "base_uri": "https://localhost:8080/"
        },
        "id": "mahJW5lN8JKn",
        "outputId": "4fccefd0-4086-404c-9a26-c2927faed609"
      },
      "execution_count": 6,
      "outputs": [
        {
          "output_type": "stream",
          "name": "stdout",
          "text": [
            "{'ID': '123ab', 'color': 'red', 'name': 'anil'}\n"
          ]
        }
      ]
    },
    {
      "cell_type": "markdown",
      "source": [
        "## dictionary length"
      ],
      "metadata": {
        "id": "qzmtOR62_nP1"
      }
    },
    {
      "cell_type": "code",
      "source": [
        "a = {\n",
        "    \"ID\":\"123ab\",\n",
        "    \"color\":\"red\",\n",
        "    \"name\":\"amit\",\n",
        "\n",
        "}\n",
        "print(len(a))"
      ],
      "metadata": {
        "colab": {
          "base_uri": "https://localhost:8080/"
        },
        "id": "ggM9mNVq_tZd",
        "outputId": "55dc7003-ee3b-4a74-e669-95f8845092d3"
      },
      "execution_count": 10,
      "outputs": [
        {
          "output_type": "stream",
          "name": "stdout",
          "text": [
            "3\n"
          ]
        }
      ]
    },
    {
      "cell_type": "code",
      "source": [
        "a = {\n",
        "    \"ID\":\"123ab\",\n",
        "    \"color\":\"red\",\n",
        "    \"name\":\"amit\",\n",
        "    'a' : [1,2,3,4,5,6],\n",
        "    'b' : (1,2,3,4,5,6),\n",
        "    'c' : False\n",
        "\n",
        "}\n",
        "print(dict)"
      ],
      "metadata": {
        "colab": {
          "base_uri": "https://localhost:8080/"
        },
        "id": "iGWMvx1e_luR",
        "outputId": "5e9a48a8-c431-437c-9895-c0a89048c630"
      },
      "execution_count": 11,
      "outputs": [
        {
          "output_type": "stream",
          "name": "stdout",
          "text": [
            "<class 'dict'>\n"
          ]
        }
      ]
    },
    {
      "cell_type": "code",
      "source": [
        "a = dict(name = \"amit\", age = \"22\",country = \"india\")\n",
        "print(a)"
      ],
      "metadata": {
        "colab": {
          "base_uri": "https://localhost:8080/"
        },
        "id": "V-Kutt1iBTbs",
        "outputId": "c9712e40-eb32-4eed-a044-ca93dede3984"
      },
      "execution_count": 12,
      "outputs": [
        {
          "output_type": "stream",
          "name": "stdout",
          "text": [
            "{'name': 'amit', 'age': '22', 'country': 'india'}\n"
          ]
        }
      ]
    },
    {
      "cell_type": "code",
      "source": [
        "a = dict(name = \"amit\", age = \"22\",country = \"india\")\n",
        "print(a['name'])\n",
        "print(a['age'])\n",
        "print(a['country'])"
      ],
      "metadata": {
        "colab": {
          "base_uri": "https://localhost:8080/"
        },
        "id": "eV9DfnHODBbZ",
        "outputId": "a470c9bd-1b9c-45a1-8374-7d0009b0bd76"
      },
      "execution_count": 15,
      "outputs": [
        {
          "output_type": "stream",
          "name": "stdout",
          "text": [
            "amit\n",
            "22\n",
            "india\n"
          ]
        }
      ]
    },
    {
      "cell_type": "code",
      "source": [
        "a = {\"name\" : \"priya\",\n",
        "     \"age\" : \"22\",\n",
        "     \"country\" : \"india\",\"gender\":\"male\"}\n",
        "a['age'] = 34\n",
        "print(a)\n",
        "\n",
        "\n",
        ""
      ],
      "metadata": {
        "colab": {
          "base_uri": "https://localhost:8080/"
        },
        "id": "LTJVx7z6EnWF",
        "outputId": "a0089fa2-e8ca-4711-8789-a2bef950b511"
      },
      "execution_count": 19,
      "outputs": [
        {
          "output_type": "stream",
          "name": "stdout",
          "text": [
            "{'name': 'priya', 'age': 34, 'country': 'india', 'gender': 'male'}\n"
          ]
        }
      ]
    },
    {
      "cell_type": "code",
      "source": [
        "dict1 = {1:10,2:20,}\n",
        "dict2 = {3:30,4:40}\n",
        "dict3 = {5:20,6:20}\n",
        "dict4 = {}\n",
        "for d in (dict1,dict2,dict3):dict4.update(d)\n",
        "print(dict4)\n",
        "\n"
      ],
      "metadata": {
        "colab": {
          "base_uri": "https://localhost:8080/"
        },
        "id": "MAOEjhSqHZie",
        "outputId": "a102e50a-9f47-444d-e971-b1ef3a066119"
      },
      "execution_count": 20,
      "outputs": [
        {
          "output_type": "stream",
          "name": "stdout",
          "text": [
            "{1: 10, 2: 20, 3: 30, 4: 40, 5: 20, 6: 20}\n"
          ]
        }
      ]
    },
    {
      "cell_type": "code",
      "source": [
        "d = dict()\n",
        "for x in range(1,15):\n",
        "    d[x] = x**2\n",
        "print(d)\n"
      ],
      "metadata": {
        "colab": {
          "base_uri": "https://localhost:8080/"
        },
        "id": "OffpMzzYIqTU",
        "outputId": "a9973d11-ef45-4d63-df1b-1bcd698a2ab0"
      },
      "execution_count": 21,
      "outputs": [
        {
          "output_type": "stream",
          "name": "stdout",
          "text": [
            "{1: 1, 2: 4, 3: 9, 4: 16, 5: 25, 6: 36, 7: 49, 8: 64, 9: 81, 10: 100, 11: 121, 12: 144, 13: 169, 14: 196}\n"
          ]
        }
      ]
    },
    {
      "cell_type": "markdown",
      "source": [
        "## Sets in python :"
      ],
      "metadata": {
        "id": "uflvfAkNRLDr"
      }
    },
    {
      "cell_type": "markdown",
      "source": [
        "perhaps you recall learning about sets and sets theory at some point in your mathmetical education maybe you even remember Venn diagrams:"
      ],
      "metadata": {
        "id": "rLq0RVTBRTH1"
      }
    },
    {
      "cell_type": "markdown",
      "source": [
        "Sets are used to store multiple items in a single variable.\n",
        "\n",
        "\n",
        "set is one of 4 built in data types in python used to store collection of data the other 3 are limits tuple , List, dictionary all with different qualities and usage .\n",
        "\n",
        "\n",
        "\n",
        "A set is a collection of unordered and unchangeable and unindexed.\n",
        "\n",
        "\n",
        "Duplicates not allowed"
      ],
      "metadata": {
        "id": "H-WIkdLkSHE_"
      }
    },
    {
      "cell_type": "code",
      "source": [
        "a = {\"apple\",\"banana\",\"cherry\"}\n",
        "print(a)\n",
        "print(type(a))"
      ],
      "metadata": {
        "colab": {
          "base_uri": "https://localhost:8080/"
        },
        "id": "_U1M8g-iS2jT",
        "outputId": "6afd98ec-ab8a-4010-8f88-36c26608d8a7"
      },
      "execution_count": 1,
      "outputs": [
        {
          "output_type": "stream",
          "name": "stdout",
          "text": [
            "{'cherry', 'banana', 'apple'}\n",
            "<class 'set'>\n"
          ]
        }
      ]
    },
    {
      "cell_type": "markdown",
      "source": [
        "# duplicates not allowed\n",
        "\n",
        "\n",
        "\n"
      ],
      "metadata": {
        "id": "il8ZvyxqTdj2"
      }
    },
    {
      "cell_type": "code",
      "source": [
        "a = {\"anilmas\",\"ball\",\"cats\",\"animals\",\"ball\",\"cats\"}\n",
        "print(a)"
      ],
      "metadata": {
        "colab": {
          "base_uri": "https://localhost:8080/"
        },
        "id": "R13tGXZkVtW1",
        "outputId": "c963a875-7d12-460a-d90c-b85f9c1b9cd5"
      },
      "execution_count": 2,
      "outputs": [
        {
          "output_type": "stream",
          "name": "stdout",
          "text": [
            "{'cats', 'anilmas', 'ball', 'animals'}\n"
          ]
        }
      ]
    },
    {
      "cell_type": "markdown",
      "source": [
        "## True and one is considered the same value :"
      ],
      "metadata": {
        "id": "oFYMBKISWrY0"
      }
    },
    {
      "cell_type": "code",
      "source": [
        "a = {\"animals\",\"balls\",\"cats\",\"animals\",\"balls\",\"cats\",1,2,3,True}\n",
        "print(a)"
      ],
      "metadata": {
        "colab": {
          "base_uri": "https://localhost:8080/"
        },
        "id": "egelH24ITRfn",
        "outputId": "764eb199-1e03-4fb1-90a9-c4cbd002087d"
      },
      "execution_count": 3,
      "outputs": [
        {
          "output_type": "stream",
          "name": "stdout",
          "text": [
            "{1, 2, 3, 'cats', 'balls', 'animals'}\n"
          ]
        }
      ]
    },
    {
      "cell_type": "markdown",
      "source": [
        "## get the length of a sets"
      ],
      "metadata": {
        "id": "ebB4NjZKX18O"
      }
    },
    {
      "cell_type": "code",
      "source": [
        "a = {\"animals\",\"balls\",\"cats\",\"animals\",\"balls\",\"cats\"}\n",
        "print(len(a))"
      ],
      "metadata": {
        "colab": {
          "base_uri": "https://localhost:8080/"
        },
        "id": "Z59qqgZMX6ja",
        "outputId": "5bc15131-d7a0-430c-a072-8edcf8cf7a84"
      },
      "execution_count": 4,
      "outputs": [
        {
          "output_type": "stream",
          "name": "stdout",
          "text": [
            "3\n"
          ]
        }
      ]
    },
    {
      "cell_type": "markdown",
      "source": [
        "## sets itmes - data types"
      ],
      "metadata": {
        "id": "YZlWb400YMJy"
      }
    },
    {
      "cell_type": "code",
      "source": [
        "x1 = {1,2,3}\n",
        "x2 = {1,2,3,3,4,4,5,5,6,6,7,8}\n",
        "x3 = {\"apple\",\"banana\",\"cherry\"}\n",
        "x4 = {True, False, True}\n",
        "print(x1)\n",
        "print(x2)\n",
        "print(x3)\n",
        "print(x4)"
      ],
      "metadata": {
        "colab": {
          "base_uri": "https://localhost:8080/"
        },
        "id": "sdy_wwvnXxsT",
        "outputId": "b29748fe-46ee-470f-edeb-46d39097d184"
      },
      "execution_count": 6,
      "outputs": [
        {
          "output_type": "stream",
          "name": "stdout",
          "text": [
            "{1, 2, 3}\n",
            "{1, 2, 3, 4, 5, 6, 7, 8}\n",
            "{'cherry', 'banana', 'apple'}\n",
            "{False, True}\n"
          ]
        }
      ]
    },
    {
      "cell_type": "code",
      "source": [
        "m = {1,2,3,-5,-6,'apple',True,False}\n",
        "print(m)"
      ],
      "metadata": {
        "colab": {
          "base_uri": "https://localhost:8080/"
        },
        "id": "aoF_0VjcZCDX",
        "outputId": "e015cb64-b192-4f11-d896-064ccc47ea06"
      },
      "execution_count": 7,
      "outputs": [
        {
          "output_type": "stream",
          "name": "stdout",
          "text": [
            "{False, 1, 2, 3, 'apple', -6, -5}\n"
          ]
        }
      ]
    },
    {
      "cell_type": "markdown",
      "source": [
        "## nesting is not possible in sets"
      ],
      "metadata": {
        "id": "SYjRZvCkaysW"
      }
    },
    {
      "cell_type": "markdown",
      "source": [
        "## the set () constructor:"
      ],
      "metadata": {
        "id": "IH8vJY_xbHgN"
      }
    },
    {
      "cell_type": "code",
      "source": [
        "thisset = set((\"apple\",\"banana\",\"cherry\"))\n",
        "print(thisset)\n",
        "print(type(thisset))"
      ],
      "metadata": {
        "colab": {
          "base_uri": "https://localhost:8080/"
        },
        "id": "iWEyuu--ami-",
        "outputId": "1c9f8a5e-0771-4026-fa46-44727137629b"
      },
      "execution_count": 8,
      "outputs": [
        {
          "output_type": "stream",
          "name": "stdout",
          "text": [
            "{'cherry', 'banana', 'apple'}\n",
            "<class 'set'>\n"
          ]
        }
      ]
    },
    {
      "cell_type": "markdown",
      "source": [
        "## Creating Empty set"
      ],
      "metadata": {
        "id": "1wFU_URpbiOs"
      }
    },
    {
      "cell_type": "code",
      "source": [
        "a = {}\n",
        "print(a)\n",
        "print(type(a))\n"
      ],
      "metadata": {
        "colab": {
          "base_uri": "https://localhost:8080/"
        },
        "id": "tKybFRPibrpC",
        "outputId": "6704a103-e7ab-4a3e-96cc-51a1aca76712"
      },
      "execution_count": 9,
      "outputs": [
        {
          "output_type": "stream",
          "name": "stdout",
          "text": [
            "{}\n",
            "<class 'dict'>\n"
          ]
        }
      ]
    },
    {
      "cell_type": "code",
      "source": [
        "empty = set()\n",
        "print(empty)\n",
        "print(type(empty))"
      ],
      "metadata": {
        "colab": {
          "base_uri": "https://localhost:8080/"
        },
        "id": "jYqhcgDNb35S",
        "outputId": "ac3f6354-625f-495a-ec62-d9cde23a0b96"
      },
      "execution_count": 10,
      "outputs": [
        {
          "output_type": "stream",
          "name": "stdout",
          "text": [
            "set()\n",
            "<class 'set'>\n"
          ]
        }
      ]
    },
    {
      "cell_type": "markdown",
      "source": [
        "## Access items"
      ],
      "metadata": {
        "id": "5zyZ92TGcMEB"
      }
    },
    {
      "cell_type": "code",
      "source": [
        "a = {\"a\",\"b\",\"c\",\"d\",\"e\"}\n",
        "for x in a:\n",
        "    print(x)"
      ],
      "metadata": {
        "colab": {
          "base_uri": "https://localhost:8080/"
        },
        "id": "vH2WMZ99cSCY",
        "outputId": "21c6e741-bb13-4eb1-d7aa-60bd29fb5cf4"
      },
      "execution_count": 11,
      "outputs": [
        {
          "output_type": "stream",
          "name": "stdout",
          "text": [
            "d\n",
            "c\n",
            "b\n",
            "a\n",
            "e\n"
          ]
        }
      ]
    },
    {
      "cell_type": "markdown",
      "source": [
        "## check if the items are presents in the sets"
      ],
      "metadata": {
        "id": "PvxoNz8CcqP1"
      }
    },
    {
      "cell_type": "code",
      "source": [
        "a = {\"data\",\"python\",\"programming\"}\n",
        "print(\"python\" in a)"
      ],
      "metadata": {
        "colab": {
          "base_uri": "https://localhost:8080/"
        },
        "id": "8fbaXAf7cwyx",
        "outputId": "4dc5390a-5500-4903-8ebf-1d4b7960a418"
      },
      "execution_count": 12,
      "outputs": [
        {
          "output_type": "stream",
          "name": "stdout",
          "text": [
            "True\n"
          ]
        }
      ]
    },
    {
      "cell_type": "markdown",
      "source": [
        "## add items"
      ],
      "metadata": {
        "id": "fpkMugHSf7WA"
      }
    },
    {
      "cell_type": "code",
      "source": [
        "a = {\"a\",\"b\",\"c\",\"d\",\"e\"}\n",
        "a.add(\"90\")\n",
        "print(a)"
      ],
      "metadata": {
        "colab": {
          "base_uri": "https://localhost:8080/"
        },
        "id": "sVMBJPO1f6XA",
        "outputId": "14241b5f-2d87-479e-ea3b-6954cca2f5fb"
      },
      "execution_count": 13,
      "outputs": [
        {
          "output_type": "stream",
          "name": "stdout",
          "text": [
            "{'d', 'c', '90', 'b', 'a', 'e'}\n"
          ]
        }
      ]
    },
    {
      "cell_type": "code",
      "source": [
        "a = {1,2,3,4,5}\n",
        "b = {6,7,8,9,10}\n",
        "a.update(b)\n",
        "print(a)"
      ],
      "metadata": {
        "colab": {
          "base_uri": "https://localhost:8080/"
        },
        "id": "frgH-G5PgUuy",
        "outputId": "c1b7a674-7b32-41ac-d966-a041b7fd3e96"
      },
      "execution_count": 14,
      "outputs": [
        {
          "output_type": "stream",
          "name": "stdout",
          "text": [
            "{1, 2, 3, 4, 5, 6, 7, 8, 9, 10}\n"
          ]
        }
      ]
    },
    {
      "cell_type": "markdown",
      "source": [
        "## Remove set items"
      ],
      "metadata": {
        "id": "BFqLy7fJglpM"
      }
    },
    {
      "cell_type": "code",
      "source": [
        "n = {1,2,3,4,5,6,7,8,9,10}\n",
        "n.remove(1)\n",
        "print(n)"
      ],
      "metadata": {
        "colab": {
          "base_uri": "https://localhost:8080/"
        },
        "id": "A9LPbgUJgqET",
        "outputId": "15b67ac4-d4a6-45ca-a976-bd2f97bfbbaf"
      },
      "execution_count": 15,
      "outputs": [
        {
          "output_type": "stream",
          "name": "stdout",
          "text": [
            "{2, 3, 4, 5, 6, 7, 8, 9, 10}\n"
          ]
        }
      ]
    },
    {
      "cell_type": "code",
      "source": [
        "n = {1,2,3,4,5,6,7,8,9,10}\n",
        "x = n.pop()\n",
        "print(n)"
      ],
      "metadata": {
        "colab": {
          "base_uri": "https://localhost:8080/"
        },
        "id": "GzYYmN2shB1-",
        "outputId": "9dc9e3d8-fe37-4f10-cfd2-cba8fcf19e3e"
      },
      "execution_count": 18,
      "outputs": [
        {
          "output_type": "stream",
          "name": "stdout",
          "text": [
            "{2, 3, 4, 5, 6, 7, 8, 9, 10}\n"
          ]
        }
      ]
    },
    {
      "cell_type": "code",
      "source": [
        "m = {1,2,3,4,5,6,7,8,9,10}\n",
        "m.clear()\n",
        "print(m)"
      ],
      "metadata": {
        "colab": {
          "base_uri": "https://localhost:8080/"
        },
        "id": "m1V-0XN3hYtO",
        "outputId": "0bc94157-2d7c-46a1-9837-e7fbc3367407"
      },
      "execution_count": 19,
      "outputs": [
        {
          "output_type": "stream",
          "name": "stdout",
          "text": [
            "set()\n"
          ]
        }
      ]
    },
    {
      "cell_type": "markdown",
      "source": [
        "## join two sets"
      ],
      "metadata": {
        "id": "J4NqDGXchoAy"
      }
    },
    {
      "cell_type": "code",
      "source": [
        "n = {1,2,3,4,5,6,7,8,9,10}\n",
        "m = {11,12,13,14,15,16,17,18,19,20}\n",
        "z = n.union(m)\n",
        "print(z)\n"
      ],
      "metadata": {
        "colab": {
          "base_uri": "https://localhost:8080/"
        },
        "id": "cumh2ctLhu30",
        "outputId": "fc5f7b59-c713-4576-d65d-c815d138146c"
      },
      "execution_count": 21,
      "outputs": [
        {
          "output_type": "stream",
          "name": "stdout",
          "text": [
            "{1, 2, 3, 4, 5, 6, 7, 8, 9, 10, 11, 12, 13, 14, 15, 16, 17, 18, 19, 20}\n"
          ]
        }
      ]
    },
    {
      "cell_type": "markdown",
      "source": [
        "## Write a python program to find the maximum and minimum values"
      ],
      "metadata": {
        "id": "cLeVUsWriHiX"
      }
    },
    {
      "cell_type": "code",
      "source": [
        "setn = {1,2,3,4,5,6,7,8,9,10}\n",
        "print(max(setn))\n",
        "print(min(setn))"
      ],
      "metadata": {
        "colab": {
          "base_uri": "https://localhost:8080/"
        },
        "id": "TXilRnf9iPum",
        "outputId": "457bac37-3a37-4d5c-8b69-7d690f768c25"
      },
      "execution_count": 22,
      "outputs": [
        {
          "output_type": "stream",
          "name": "stdout",
          "text": [
            "10\n",
            "1\n"
          ]
        }
      ]
    },
    {
      "cell_type": "code",
      "source": [
        "setn = {2,4,5,6,7,8,9}\n",
        "print(\"original set elements\")\n",
        "print(setn)\n",
        "print(\"maximum value of setn is\")\n",
        "print(max(setn))\n",
        "print(\"minimum value of setn is\")\n",
        "print(min(setn))"
      ],
      "metadata": {
        "colab": {
          "base_uri": "https://localhost:8080/"
        },
        "id": "Mhm_yh73icYN",
        "outputId": "3cae83b5-0601-4197-e79d-7af5d975da7a"
      },
      "execution_count": 23,
      "outputs": [
        {
          "output_type": "stream",
          "name": "stdout",
          "text": [
            "original set elements\n",
            "{2, 4, 5, 6, 7, 8, 9}\n",
            "maximum value of setn is\n",
            "9\n",
            "minimum value of setn is\n",
            "2\n"
          ]
        }
      ]
    },
    {
      "cell_type": "markdown",
      "source": [
        "## Return a new sets of identical items from two sets"
      ],
      "metadata": {
        "id": "m0SD_6yDjGcx"
      }
    },
    {
      "cell_type": "code",
      "source": [
        "set1 = {10,20,30,40,50}\n",
        "set2 = {30,40,50,60,70}\n",
        "set3 = set1.intersection(set2)\n",
        "print(set3)"
      ],
      "metadata": {
        "colab": {
          "base_uri": "https://localhost:8080/"
        },
        "id": "sHr4BBeyjPIf",
        "outputId": "ded34600-45f8-4dc4-ea72-6a14ddaf8dca"
      },
      "execution_count": 24,
      "outputs": [
        {
          "output_type": "stream",
          "name": "stdout",
          "text": [
            "{40, 50, 30}\n"
          ]
        }
      ]
    }
  ]
}